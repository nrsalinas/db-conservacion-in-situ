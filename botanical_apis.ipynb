{
 "cells": [
  {
   "cell_type": "code",
   "execution_count": null,
   "id": "31fda234",
   "metadata": {},
   "outputs": [],
   "source": [
    "import requests\n",
    "import json\n",
    "\n",
    "import pykew.powo as powo # type: ignore\n",
    "from pykew.powo_terms import Name # type: ignore"
   ]
  },
  {
   "cell_type": "markdown",
   "id": "206f1a38",
   "metadata": {},
   "source": [
    "## Taxonomic Name Resolution Service\n",
    "\n",
    "Provides World Flora Online and World Checklist of Vascular Plants info. "
   ]
  },
  {
   "cell_type": "code",
   "execution_count": 3,
   "id": "d23976f4",
   "metadata": {},
   "outputs": [],
   "source": [
    "url = 'https://tnrsapi.xyz/tnrs_api.php'"
   ]
  },
  {
   "cell_type": "code",
   "execution_count": 16,
   "id": "0dcd81ea",
   "metadata": {},
   "outputs": [],
   "source": [
    "r = requests.post(\n",
    "\turl, \n",
    "\theaders={\"Content-Type\": \"application/json\"},\n",
    "\tdata=json.dumps({\n",
    "\t\t'data': [\n",
    "\t\t\t['0', \"Findlaya apophysat\"],\n",
    "\t\t\t['1', \"Cavendishia chordifolia\"],\n",
    "\t\t\t['2', \"Sphyrospermum cordifolium\"],\n",
    "\t\t],\n",
    "\t\t'opts': {\n",
    "\t\t\t'sources': ['wcvp','wfo'],\n",
    "\t\t\t'class': 'wcvp',\n",
    "\t\t\t'mode': 'resolve',\n",
    "\t\t\t'matches' : 'best'\n",
    "\t\t}\t\t\n",
    "\t})\t\n",
    ")"
   ]
  },
  {
   "cell_type": "code",
   "execution_count": 17,
   "id": "35b3069e",
   "metadata": {},
   "outputs": [
    {
     "data": {
      "text/plain": [
       "200"
      ]
     },
     "execution_count": 17,
     "metadata": {},
     "output_type": "execute_result"
    }
   ],
   "source": [
    "r.status_code"
   ]
  },
  {
   "cell_type": "code",
   "execution_count": 20,
   "id": "9f400ba3",
   "metadata": {},
   "outputs": [],
   "source": [
    "results = r.json()"
   ]
  },
  {
   "cell_type": "code",
   "execution_count": 23,
   "id": "e7e894ff",
   "metadata": {},
   "outputs": [
    {
     "name": "stdout",
     "output_type": "stream",
     "text": [
      "ID\n",
      "Name_submitted\n",
      "Overall_score\n",
      "Name_matched_id\n",
      "Name_matched\n",
      "Name_score\n",
      "Name_matched_rank\n",
      "Author_submitted\n",
      "Author_matched\n",
      "Author_score\n",
      "Canonical_author\n",
      "Name_matched_accepted_family\n",
      "Genus_submitted\n",
      "Genus_matched\n",
      "Genus_score\n",
      "Specific_epithet_submitted\n",
      "Specific_epithet_matched\n",
      "Specific_epithet_score\n",
      "Family_submitted\n",
      "Family_matched\n",
      "Family_score\n",
      "Infraspecific_rank\n",
      "Infraspecific_epithet_matched\n",
      "Infraspecific_epithet_score\n",
      "Infraspecific_rank_2\n",
      "Infraspecific_epithet_2_matched\n",
      "Infraspecific_epithet_2_score\n",
      "Annotations\n",
      "Unmatched_terms\n",
      "Name_matched_url\n",
      "Name_matched_lsid\n",
      "Phonetic\n",
      "Taxonomic_status\n",
      "Accepted_name\n",
      "Accepted_species\n",
      "Accepted_name_author\n",
      "Accepted_name_id\n",
      "Accepted_name_rank\n",
      "Accepted_name_url\n",
      "Accepted_name_lsid\n",
      "Accepted_family\n",
      "Overall_score_order\n",
      "Highertaxa_score_order\n",
      "Source\n",
      "Warnings\n",
      "WarningsEng\n"
     ]
    }
   ],
   "source": [
    "for myr in results:\n",
    "\tfor k in myr.keys():\n",
    "\t\tprint(k)\n",
    "\tbreak"
   ]
  },
  {
   "cell_type": "code",
   "execution_count": null,
   "id": "200556a8",
   "metadata": {},
   "outputs": [],
   "source": [
    "\n",
    "checked = []\n",
    "\n",
    "for nami in result[u'items']:\n",
    "\tout = ()\n",
    "\n",
    "\t# get a dict similar to out[u\"resp\"] for the queried name\n",
    "\tout[0].from_string(nami[u'nameSubmitted'])\n",
    "\n",
    "\tif nami[u'scientificScore'] or nami[u'genusScore']:\n",
    "\t\tnami[u'scientificScore'] = float(nami[u'scientificScore'])\n",
    "\t\tnami[u'genusScore'] = float(nami[u'genusScore'])\n",
    "\t\t#out[u\"resp\"][u\"score\"] = nami[u'scientificScore']\n",
    "\n",
    "\t\tif nami[u'scientificScore'] >= minimum_score or nami[u'genusScore'] == 1: # Correct name in nami[nameScientific]\n",
    "\n",
    "\t\t\tif nami[u'family']:\n",
    "\t\t\t\tout[1].family = nami[u'family']\n",
    "\n",
    "\t\t\tif accepted and nami[u'acceptedName']:\n",
    "\t\t\t\tout[1].from_string(nami[u'acceptedName'])\n",
    "\t\t\t\tout[1].author = nami[u'acceptedAuthor']\n",
    "\n",
    "\t\t\telse:\n",
    "\t\t\t\tif nami[u'genusScore'] > minimum_score:\n",
    "\t\t\t\t\t#nami[u'genusScore'] = float(nami[u'genusScore'])\n",
    "\t\t\t\t\tout[1].genus = nami[u'genus']\n",
    "\t\t\t\t\tout[1].family = nami[u'family']\n",
    "\n",
    "\t\t\t\t\tif nami[u'epithetScore']:\n",
    "\t\t\t\t\t\tnami[u'epithetScore'] = float(nami[u'epithetScore'])\n",
    "\t\t\t\t\t\tif nami[u'epithetScore'] > minimum_score:\n",
    "\t\t\t\t\t\t\tout[1].epithet = nami[u'epithet']\n",
    "\n",
    "\t\t\t\t\t\tif nami[u'infraspecific1EpithetScore']:\n",
    "\t\t\t\t\t\t\tnami[u'infraspecific1EpithetScore'] = float(nami[u'infraspecific1EpithetScore'])\n",
    "\t\t\t\t\t\t\tif nami[u'infraspecific1EpithetScore'] > minimum_score:\n",
    "\t\t\t\t\t\t\t\tout[1].infraEpithet = nami[u'infraspecific1Epithet']\n",
    "\t\t\t\t\t\t\t\tif nami[u'nameScientific'].find(u' var. ') >= 0:\n",
    "\t\t\t\t\t\t\t\t\tout[1].infraRank =  u\"var.\"\n",
    "\t\t\t\t\t\t\t\telif nami[u'nameScientific'].find(u' subsp. ') >= 0:\n",
    "\t\t\t\t\t\t\t\t\tout[1].infraRank =  u\"subsp.\"\n",
    "\n",
    "\t\t\t\t\t# authorAttributed always retrieved\n",
    "\t\t\t\t\tif nami[u'authorAttributed']:\n",
    "\t\t\t\t\t\tout[1].author = nami[u'authorAttributed']\n",
    "\n",
    "\tchecked.append(out)"
   ]
  },
  {
   "cell_type": "markdown",
   "id": "d32b86f3",
   "metadata": {},
   "source": [
    "## POWO"
   ]
  },
  {
   "cell_type": "code",
   "execution_count": 156,
   "id": "a464dd02",
   "metadata": {},
   "outputs": [],
   "source": [
    "res = powo.search('Findlaya apophysata')"
   ]
  },
  {
   "cell_type": "code",
   "execution_count": 157,
   "id": "4862294a",
   "metadata": {},
   "outputs": [],
   "source": [
    "dr = res.__dict__"
   ]
  },
  {
   "cell_type": "code",
   "execution_count": 158,
   "id": "82af50cc",
   "metadata": {},
   "outputs": [
    {
     "data": {
      "text/plain": [
       "{'_query': 'Findlaya apophysata',\n",
       " '_filters': None,\n",
       " '_api': <pykew.core.Api at 0x7f84911be760>,\n",
       " '_cursor': 'AoMIQVZLTj02MDBFcmljYWNlYWVPcnRoYWVhYXBvcGh5c2F0YSxUYXhvbl8xOTk3Mjk=',\n",
       " '_wait_time': 0.288762,\n",
       " '_response': {'totalResults': 2,\n",
       "  'page': 1,\n",
       "  'totalPages': 1,\n",
       "  'perPage': 500,\n",
       "  'cursor': 'AoMIQVZLTj02MDBFcmljYWNlYWVPcnRoYWVhYXBvcGh5c2F0YSxUYXhvbl8xOTk3Mjk=',\n",
       "  'message': 'If you would like to download and use the POWO data in a conciencious way, please use our official library pykew [https://github.com/RBGKew/pykew].',\n",
       "  'results': [{'accepted': False,\n",
       "    'author': '(Griseb.) Hook.f.',\n",
       "    'kingdom': 'Plantae',\n",
       "    'family': 'Ericaceae',\n",
       "    'name': 'Findlaya apophysata',\n",
       "    'rank': 'Species',\n",
       "    'synonymOf': {'accepted': True,\n",
       "     'author': '(Griseb.) A.C.Sm.',\n",
       "     'name': 'Orthaea apophysata',\n",
       "     'url': '/taxon/urn:lsid:ipni.org:names:176677-2',\n",
       "     'fqId': 'urn:lsid:ipni.org:names:176677-2'},\n",
       "    'url': '/taxon/urn:lsid:ipni.org:names:858392-1',\n",
       "    'fqId': 'urn:lsid:ipni.org:names:858392-1'},\n",
       "   {'accepted': True,\n",
       "    'author': '(Griseb.) A.C.Sm.',\n",
       "    'kingdom': 'Plantae',\n",
       "    'family': 'Ericaceae',\n",
       "    'name': 'Orthaea apophysata',\n",
       "    'rank': 'Species',\n",
       "    'url': '/taxon/urn:lsid:ipni.org:names:176677-2',\n",
       "    'fqId': 'urn:lsid:ipni.org:names:176677-2',\n",
       "    'images': [{'thumbnail': '//d2seqvvyy3b8p2.cloudfront.net/685fa10574a0aece400e9a2c9985d855.jpg',\n",
       "      'fullsize': '//d2seqvvyy3b8p2.cloudfront.net/4869311a56338a46973aeeb01d5681bd.jpg',\n",
       "      'caption': \"A specimen from Kew's Herbarium\"}]}]},\n",
       " '_results': <list_iterator at 0x7f84b0964490>}"
      ]
     },
     "execution_count": 158,
     "metadata": {},
     "output_type": "execute_result"
    }
   ],
   "source": [
    "dr"
   ]
  },
  {
   "cell_type": "code",
   "execution_count": 151,
   "id": "e85b4889",
   "metadata": {},
   "outputs": [
    {
     "data": {
      "text/plain": [
       "[]"
      ]
     },
     "execution_count": 151,
     "metadata": {},
     "output_type": "execute_result"
    }
   ],
   "source": [
    "[r['name'] for r in response if 'name' in response]"
   ]
  },
  {
   "cell_type": "code",
   "execution_count": 123,
   "id": "d79f09ed",
   "metadata": {},
   "outputs": [
    {
     "ename": "StopIteration",
     "evalue": "",
     "output_type": "error",
     "traceback": [
      "\u001b[0;31m---------------------------------------------------------------------------\u001b[0m",
      "\u001b[0;31mStopIteration\u001b[0m                             Traceback (most recent call last)",
      "File \u001b[0;32m~/anaconda3/lib/python3.8/site-packages/pykew/core.py:73\u001b[0m, in \u001b[0;36mSearchResult.__next__\u001b[0;34m(self)\u001b[0m\n\u001b[1;32m     72\u001b[0m \u001b[38;5;28;01mtry\u001b[39;00m:\n\u001b[0;32m---> 73\u001b[0m     \u001b[38;5;28;01mreturn\u001b[39;00m \u001b[38;5;28;43mnext\u001b[39;49m\u001b[43m(\u001b[49m\u001b[38;5;28;43mself\u001b[39;49m\u001b[38;5;241;43m.\u001b[39;49m\u001b[43m_results\u001b[49m\u001b[43m)\u001b[49m\n\u001b[1;32m     74\u001b[0m \u001b[38;5;28;01mexcept\u001b[39;00m \u001b[38;5;167;01mStopIteration\u001b[39;00m:\n",
      "\u001b[0;31mStopIteration\u001b[0m: ",
      "\nDuring handling of the above exception, another exception occurred:\n",
      "\u001b[0;31mStopIteration\u001b[0m                             Traceback (most recent call last)",
      "Cell \u001b[0;32mIn[123], line 1\u001b[0m\n\u001b[0;32m----> 1\u001b[0m res \u001b[38;5;241m=\u001b[39m \u001b[38;5;28;43mnext\u001b[39;49m\u001b[43m(\u001b[49m\u001b[43mr\u001b[49m\u001b[43m)\u001b[49m\n",
      "File \u001b[0;32m~/anaconda3/lib/python3.8/site-packages/pykew/core.py:77\u001b[0m, in \u001b[0;36mSearchResult.__next__\u001b[0;34m(self)\u001b[0m\n\u001b[1;32m     75\u001b[0m time\u001b[38;5;241m.\u001b[39msleep(\u001b[38;5;28mself\u001b[39m\u001b[38;5;241m.\u001b[39m_wait_time)\n\u001b[1;32m     76\u001b[0m \u001b[38;5;28mself\u001b[39m\u001b[38;5;241m.\u001b[39m_run_query()\n\u001b[0;32m---> 77\u001b[0m \u001b[38;5;28;01mreturn\u001b[39;00m \u001b[38;5;28;43mnext\u001b[39;49m\u001b[43m(\u001b[49m\u001b[38;5;28;43mself\u001b[39;49m\u001b[38;5;241;43m.\u001b[39;49m\u001b[43m_results\u001b[49m\u001b[43m)\u001b[49m\n",
      "\u001b[0;31mStopIteration\u001b[0m: "
     ]
    }
   ],
   "source": [
    "res = next(r)"
   ]
  },
  {
   "cell_type": "code",
   "execution_count": 124,
   "id": "0cb0b74f",
   "metadata": {},
   "outputs": [
    {
     "ename": "NameError",
     "evalue": "name 'res' is not defined",
     "output_type": "error",
     "traceback": [
      "\u001b[0;31m---------------------------------------------------------------------------\u001b[0m",
      "\u001b[0;31mNameError\u001b[0m                                 Traceback (most recent call last)",
      "Cell \u001b[0;32mIn[124], line 1\u001b[0m\n\u001b[0;32m----> 1\u001b[0m \u001b[43mres\u001b[49m\n",
      "\u001b[0;31mNameError\u001b[0m: name 'res' is not defined"
     ]
    }
   ],
   "source": [
    "res"
   ]
  }
 ],
 "metadata": {
  "kernelspec": {
   "display_name": "base",
   "language": "python",
   "name": "python3"
  },
  "language_info": {
   "codemirror_mode": {
    "name": "ipython",
    "version": 3
   },
   "file_extension": ".py",
   "mimetype": "text/x-python",
   "name": "python",
   "nbconvert_exporter": "python",
   "pygments_lexer": "ipython3",
   "version": "3.8.18"
  }
 },
 "nbformat": 4,
 "nbformat_minor": 5
}
