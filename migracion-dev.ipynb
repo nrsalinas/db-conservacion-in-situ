{
 "cells": [
  {
   "cell_type": "markdown",
   "id": "a4ef9551",
   "metadata": {},
   "source": [
    "# Mapeo campos \n",
    "\n",
    "|Fuente | Sources |\n",
    "|---|---|\n",
    "|Nombre base para flora de Bogota | Taxa |\n",
    "|Comentario de validación | Taxa.Comment |\n",
    "|Para revisión | Taxa.CheckPriority 0 or 1 |\n",
    "|Endemica | Taxa.Distribution |\n",
    "|Estado de amenaza | RedListAssessments with Standard='JBB'\n",
    "|Origen y status | Origins |\n",
    "|Trabajo de No nativas Flora de Bogotá | Origins.Type???\n",
    "|Determinador en fuente | Identifications.IdentifiedBy Merge with next field |\n",
    "|Determinador Depurado | Identifications.IdentifiedBy |\n",
    "|Calificador en fuente | Identifications.Certainty |\n",
    "|Fecha_Determinacion en fuente | Identifications.Date |\n",
    "|Fecha_Determinacion_(Year) | Identifications.Date |\n",
    "|Fecha_Determinacion_(Month) | Identifications.Date |\n",
    "|Fecha_Determinacion_(Day) | Identifications.Date |\n",
    "|State | Areas |\n",
    "|County | Areas |\n",
    "|Localidad | Locations |\n",
    "|Código de localidad georreferenciada | Locations.BD2020ID |\n",
    "|Latitud_original | Locations.Latitude |\n",
    "|Longitud_original | Locations.Longitud |\n",
    "|Elev__minima | Locations.ElevationMin |\n",
    "|Elev__maxima | Locations.ElevationMax |\n",
    "|Latitud_decimal | Geocodings.InterpretedLat, Geocoder is DB_2020 |\n",
    "|Longitud_decimal | Geocodings.InterpretedLon, Geocoder is DB_2020 |\n",
    "|Latitud para trabajo de mapas | Geocodings.InterpretedLat, Geocoder is mapas_2020 |\n",
    "|Longitud para trabajo de mapas | Geocodings.InterpretedLon, Geocoder is mapas_2020 |\n",
    "|Extensión de georreferenciación | Geocodins.Uncertainty ???\n",
    "|DATUM | Geocodings.Datum |\n",
    "|Colector depurado | Occurrences.Collector |\n",
    "|Colector principal | If no colector depurado, Occurrences.Collector, otherwise Occurrences.CollectorVerbatim  |\n",
    "|Número de colector | Occurrences.CollectionNumber & Occurrences.CollectionNumberVerbatim |\n",
    "|Fecha_Inicial_(Year) | Occurrences.DateInit, Occurrences.DateEnd |\n",
    "|Fecha_Inicial_(Month) | Occurrences.DateInit, Occurrences.DateEnd |\n",
    "|Fecha_Inicial_(day) | Occurrences.DateInit, Occurrences.DateEnd |\n",
    "|Notas_Localidad_y_Habitat | Occurrences.Comment  |\n",
    "|Fenologia | Occurrences.PhenoState |\n",
    "|Descripcion ejemplar | Occurrences.Comment |\n",
    "|Usos | Occurrences.Use |\n",
    "|Nombres_comunes | Occurrences.CommonName |\n",
    "|Comentarios generales | Occurrences.Comment |\n",
    "|Referencia bibligráfica | Occurrence.Sources |\n",
    "|Numero original en Base 2015 | Occurrence.DB2015ID |\n",
    "|Origen para herbario | Specimens.Institution  |\n",
    "|Número de identificación | Specimens.SpecimenCode |\n",
    "|Fecha_Inicial | REMOVE |\n",
    "|Notas de altura | REMOVE ???????\n",
    "|Familia Revisada | REMOVE |\n",
    "|Género revisado | REMOVE |\n",
    "|Comentarios de determinación en fuente | REMOVE |\n",
    "|Nivel taxonómico | REMOVE, info retrieved from TPRS |\n",
    "|Familia en fuente | REMOVE  |\n",
    "|Género en fuente | REMOVE  |\n",
    "|Epíteto específico en fuente | REMOVE  |\n",
    "|Autor del epíteto específico en fuente | REMOVE  |\n",
    "|Epíteto infraespecífico | REMOVE  |\n",
    "|Autor del infraespecífico en fuente | REMOVE  |\n",
    "|Nombre científico en fuente | REMOVE  |\n",
    "|Nombre validado | REMOVE  |\n",
    "|Nivel taxonómico en fuente | REMOVE  |\n",
    "|Herbario de proveniencia | REMOVE  |"
   ]
  },
  {
   "cell_type": "code",
   "execution_count": 53,
   "id": "0c38d22a",
   "metadata": {},
   "outputs": [],
   "source": [
    "from sqlalchemy import create_engine, text\n",
    "import pandas as pd\n",
    "import numpy as np\n",
    "\n",
    "import requests\n",
    "import json\n",
    "import re\n",
    "import time\n",
    "\n",
    "import pykew.powo as powo\n",
    "from pygbif import species, registry\n",
    "\n",
    "import credentials"
   ]
  },
  {
   "cell_type": "code",
   "execution_count": 34,
   "id": "8b6397b0",
   "metadata": {},
   "outputs": [],
   "source": [
    "orifile = '../Datos/Flora_de_Bogota/Registros_2020/FlBogota2020.csv'\n",
    "ori = pd.read_csv(orifile, dtype={'Elev__minima': str, 'Elev__maxima': str})"
   ]
  },
  {
   "cell_type": "code",
   "execution_count": 2,
   "id": "1ce0c8d1",
   "metadata": {},
   "outputs": [],
   "source": [
    "tnrs_url = 'https://tnrsapi.xyz/tnrs_api.php'"
   ]
  },
  {
   "cell_type": "code",
   "execution_count": 3,
   "id": "54177b49",
   "metadata": {},
   "outputs": [],
   "source": [
    "def tropicos(name, api_key):\n",
    "\tservice = 'http://services.tropicos.org/name'\n",
    "\tr = requests.get(\n",
    "\t\tf'{service}/search/?apikey={api_key}&name={name}&format=json'\n",
    "\t)\n",
    "\t#s = requests.get(\n",
    "\t#\tf'{service}/{r['NameId']}/highertaxa/?apikey={api_key}&name={name}&format=json'\n",
    "\t#)\n",
    "\t\n",
    "\treturn r.json()\n"
   ]
  },
  {
   "cell_type": "code",
   "execution_count": 4,
   "id": "9d854693",
   "metadata": {},
   "outputs": [],
   "source": [
    "def powo_query(name):\n",
    "\tact_name = ''\n",
    "\tbits = re.split(r'\\s+', name)\n",
    "\n",
    "\tif bits[0] == '×' or bits[1] == '×':\n",
    "\t\tact_name = ' '.join(bits[:3])\n",
    "\telse:\n",
    "\t\tact_name = ' '.join(bits[:2])\n",
    "\t\n",
    "\tr = powo.search(act_name)\n",
    "\n",
    "\tif r.size() == 1:\n",
    "\t\tresults = [i for i in r]\n",
    "\t\treturn (results[0]['name'], results[0]['author'], results[0]['rank'])\n",
    "\t\n",
    "\telif r.size() > 1:\n",
    "\t\treturn f'Multiples results with name {name}'\n",
    "\t\n",
    "\telse:\n",
    "\t\treturn f'No results with name {name}'"
   ]
  },
  {
   "cell_type": "markdown",
   "id": "31b7e126",
   "metadata": {},
   "source": [
    "### Si la consulta a TNRS ya fue realizada y los resultados guardados:"
   ]
  },
  {
   "cell_type": "code",
   "execution_count": 5,
   "id": "d02e38e2",
   "metadata": {},
   "outputs": [],
   "source": [
    "# Map between original name and corrected version by TNRS\n",
    "taxa_map_file = 'tnrs_query.csv'\n",
    "taxa_map = pd.read_csv(taxa_map_file)"
   ]
  },
  {
   "cell_type": "markdown",
   "id": "895dfcbc",
   "metadata": {},
   "source": [
    "### De lo contrario, aqui se realiza la consulta"
   ]
  },
  {
   "cell_type": "code",
   "execution_count": null,
   "id": "2a6a919c",
   "metadata": {},
   "outputs": [],
   "source": [
    "orinames = ori['Nombre base para flora de Bogota'].unique()\n",
    "query = [[i, j] for i,j in enumerate(orinames) if pd.notna(j)]\n",
    "\n",
    "r = requests.post(\n",
    "\ttnrs_url, \n",
    "\theaders={\"Content-Type\": \"application/json\"},\n",
    "\tdata=json.dumps({\n",
    "\t\t'data': query,\n",
    "\t\t'opts': {\n",
    "\t\t\t'sources': ['wcvp','wfo'],\n",
    "\t\t\t'class': 'wcvp',\n",
    "\t\t\t'mode': 'resolve',\n",
    "\t\t\t'matches' : 'best'\n",
    "\t\t}\t\t\n",
    "\t})\t\n",
    ")"
   ]
  },
  {
   "cell_type": "code",
   "execution_count": null,
   "id": "376d5637",
   "metadata": {},
   "outputs": [],
   "source": [
    "taxa_map = pd.DataFrame.from_records(results)\n",
    "taxa_map.to_csv('tnrs_query.csv', index=False)"
   ]
  },
  {
   "cell_type": "code",
   "execution_count": null,
   "id": "2ef9d7ca",
   "metadata": {},
   "outputs": [],
   "source": [
    "taxa_map.loc[taxa_map.Overall_score == '', 'Overall_score'] = 'NAN'\n",
    "taxa_map['Overall_score'] = taxa_map.Overall_score.astype(np.float32)"
   ]
  },
  {
   "cell_type": "markdown",
   "id": "b6d09fdb",
   "metadata": {},
   "source": [
    "# Aqui se continua la normalizacion de nombres"
   ]
  },
  {
   "cell_type": "markdown",
   "id": "a8983612",
   "metadata": {},
   "source": [
    "### Consulta a POWO de hibridos"
   ]
  },
  {
   "cell_type": "markdown",
   "id": "d8bc8f22",
   "metadata": {},
   "source": [
    "Primero remover hibridos no publicados, solo se registran a nivel de determinacion"
   ]
  },
  {
   "cell_type": "code",
   "execution_count": 6,
   "id": "cc812e33",
   "metadata": {},
   "outputs": [],
   "source": [
    "taxa_map = taxa_map.drop(\n",
    "\tindex=taxa_map.loc[taxa_map.Name_submitted.str.contains(r'Salvia [\\w\\.\\s]+ ×')].index\n",
    ")"
   ]
  },
  {
   "cell_type": "code",
   "execution_count": null,
   "id": "9701ecbe",
   "metadata": {},
   "outputs": [
    {
     "name": "stdout",
     "output_type": "stream",
     "text": [
      "No results with name Glandularia × hortulanus\n",
      "Multiples results with name Pelargonium × hortorum L.H.Bailey\n",
      "Multiples results with name Abelia × grandiflora (Andre) Rehder\n",
      "No results with name Polygala × dalmasiana\n",
      "Multiples results with name Lavatera × clementii Cheek\n"
     ]
    }
   ],
   "source": [
    "for row in taxa_map.loc[taxa_map.Name_submitted.str.contains('×')].itertuples():\n",
    "\t#print(row.Name_submitted)\n",
    "\tpo = powo_query(row.Name_submitted)\n",
    "\tif isinstance(po, tuple):\n",
    "\t\ttaxa_map.loc[row.Index, 'Name_matched'] = po[0]\n",
    "\t\ttaxa_map.loc[row.Index, 'Author_matched'] = po[1]\n",
    "\t\ttaxa_map.loc[row.Index, 'Name_matched_rank'] = po[2].lower()\n",
    "\telse:\n",
    "\t\tprint(po)\n",
    "\ttime.sleep(1)"
   ]
  },
  {
   "cell_type": "code",
   "execution_count": 8,
   "id": "b48e2ec3",
   "metadata": {},
   "outputs": [],
   "source": [
    "# Manually correct names couldn't be matched easily by POWO,\n",
    "# but there is a simple solution there \n",
    "\n",
    "taxa_map.loc[\n",
    "\t(taxa_map.Name_submitted.str.startswith('Pelargonium × hortorum')), \n",
    "\t['Name_matched', 'Author_matched', 'Name_matched_rank']\n",
    "\t] = ('Pelargonium × hortorum', 'L.H.Bailey', 'species')\n",
    "\n",
    "taxa_map.loc[\n",
    "\t(taxa_map.Name_submitted.str.startswith('Abelia × grandiflora')), \n",
    "\t['Name_matched', 'Author_matched', 'Name_matched_rank']\n",
    "\t] = ('Abelia × grandiflora', '(Rovelli ex André) Rehder', 'species')\n",
    "\n",
    "taxa_map.loc[\n",
    "\t(taxa_map.Name_submitted.str.startswith('Lavatera × clementii')), \n",
    "\t['Name_matched', 'Author_matched', 'Name_matched_rank']\n",
    "\t] = ('Lavatera × clementii', 'Cheek', 'species')\n",
    "\n",
    "taxa_map.loc[\n",
    "\t(taxa_map.Name_submitted.str.startswith('Polygala × dalmasiana')), \n",
    "\t['Name_matched', 'Author_matched', 'Name_matched_rank']\n",
    "\t] = ('Polygala', np.nan, 'genus')\n",
    "\n",
    "taxa_map.loc[\n",
    "\t(taxa_map.Name_submitted.str.startswith('Epidendrum chicoense')), \n",
    "\t['Name_matched', 'Author_matched', 'Name_matched_rank']\n",
    "\t] = ('Epidendrum', np.nan, 'genus')\n",
    "\n",
    "taxa_map.loc[\n",
    "\t(taxa_map.Name_submitted.str.startswith('Plantae')), \n",
    "\t['Name_matched', 'Author_matched', 'Name_matched_rank']\n",
    "\t] = (np.nan, np.nan, np.nan)\n",
    "\n",
    "# TNRS couldn't get appropriate response for the following\n",
    "\n",
    "taxa_map.loc[\n",
    "\t(taxa_map.Name_submitted.str.startswith('Callianthe striata')), \n",
    "\t['Name_matched', 'Author_matched', 'Name_matched_rank']\n",
    "\t] = ('Callianthe striata', '(G.F.Dicks. ex Lindl.) Donnell', 'species')\n",
    "\n",
    "taxa_map.loc[\n",
    "\t(taxa_map.Name_submitted.str.startswith('Phlegmariurus acifolius')), \n",
    "\t['Name_matched', 'Author_matched', 'Name_matched_rank']\n",
    "\t] = ('Phlegmariurus acifolius', '(Rolleri) B.Øllg.', 'species')\n"
   ]
  },
  {
   "cell_type": "code",
   "execution_count": 9,
   "id": "a7903ff6",
   "metadata": {},
   "outputs": [],
   "source": [
    "# Save eliminated binomials from the database, they probably are invalid or unpublished names\n",
    "taxa_map.loc[(taxa_map.Overall_score < 0.9) & (taxa_map.Name_matched_rank == 'genus'),\n",
    "\t['Name_submitted', 'Name_matched', 'Name_matched_rank']\n",
    "\t].to_csv('binomios_eliminados.csv', index=False)"
   ]
  },
  {
   "cell_type": "code",
   "execution_count": 27,
   "id": "9d3cba9d",
   "metadata": {},
   "outputs": [],
   "source": [
    "# Remove lichens: Ramalina, Usnea, Sticta, Candelariella\n",
    "# Remove general indets: 'Pteridophyta', 'Magnoliophyta', 'Plantae', 'Tracheophyta'\n",
    "\n",
    "taxa_map = taxa_map.drop(\n",
    "\tindex=taxa_map[taxa_map.Name_submitted.isin([\n",
    "\t\t'Ramalina', 'Usnea', 'Sticta', 'Candelariella',\n",
    "\t\t'Pteridophyta', 'Magnoliophyta', 'Plantae', 'Tracheophyta'\n",
    "\t])].index\n",
    ")"
   ]
  },
  {
   "cell_type": "code",
   "execution_count": 30,
   "id": "daf36b28",
   "metadata": {},
   "outputs": [],
   "source": [
    "taxa_map.to_csv('taxa_map.csv', index=False)"
   ]
  },
  {
   "cell_type": "markdown",
   "id": "e268e759",
   "metadata": {},
   "source": [
    "### Obtener jerarquía taxonómica de World Flora Online"
   ]
  },
  {
   "cell_type": "code",
   "execution_count": 2,
   "id": "c8a7f4a0",
   "metadata": {},
   "outputs": [],
   "source": [
    "taxa_map = pd.read_csv('taxa_map.csv')"
   ]
  },
  {
   "cell_type": "code",
   "execution_count": 3,
   "id": "541d62e2",
   "metadata": {},
   "outputs": [],
   "source": [
    "wfo_file = '../../Botanical_databases/world_flora_online/classification.csv'"
   ]
  },
  {
   "cell_type": "code",
   "execution_count": 4,
   "id": "0b052125",
   "metadata": {},
   "outputs": [],
   "source": [
    "datyp = {'localID':str, 'subfamily': str, 'tribe': str, 'subtribe': str, \n",
    " \t'subgenus':str, 'infraspecificEpithet': str, 'tplID': str}"
   ]
  },
  {
   "cell_type": "code",
   "execution_count": 5,
   "id": "1c2ea82b",
   "metadata": {},
   "outputs": [],
   "source": [
    "wfo = pd.read_csv(wfo_file, sep='\\t', encoding='latin', dtype=datyp)"
   ]
  },
  {
   "cell_type": "code",
   "execution_count": 8,
   "id": "5e900b99",
   "metadata": {},
   "outputs": [],
   "source": [
    "taxa_in = taxa_map.groupby(['Name_matched','Author_matched']\n",
    "\t).size(\n",
    "\t).reset_index(\n",
    "\t).drop(columns=0\n",
    "\t).rename(columns={'Name_matched': 'Name', 'Author_matched':'Author'})"
   ]
  },
  {
   "cell_type": "code",
   "execution_count": null,
   "id": "7aff1f62",
   "metadata": {},
   "outputs": [],
   "source": [
    "# For some reason Passiflora tripartita is retrieved twice, one with the wrong authorship\n",
    "taxa_in = taxa_in.drop(\n",
    "\tindex=taxa_in[\n",
    "\t\t(taxa_in.Name == 'Passiflora tripartita') & \n",
    "\t\t(taxa_in.Author == '(Juss.) Poir.')\n",
    "\t].index).reset_index()"
   ]
  },
  {
   "cell_type": "code",
   "execution_count": 21,
   "id": "c79c1cc1",
   "metadata": {},
   "outputs": [],
   "source": [
    "def get_family(name):\n",
    "\tret = np.nan\n",
    "\tif pd.isna(name): return np.nan\n",
    "\tbits = re.split(r'\\s+', name)\n",
    "\tnname = bits[0]\n",
    "\tout = wfo.loc[(wfo.scientificName == nname) & (wfo.taxonRank == 'genus')]\n",
    "\n",
    "\tif out.shape[0] == 1: \n",
    "\t\tret =  out['family'].item()\n",
    "\t\n",
    "\telif out.shape[0] > 1:\n",
    "\n",
    "\t\tif out[out['nomenclaturalStatus'] == 'Valid'].shape[0] == 1:\n",
    "\t\t\tret =  out.loc[out['nomenclaturalStatus'] == 'Valid', 'family'].item()\n",
    "\n",
    "\t\telif out[out['taxonomicStatus'] == 'Accepted'].shape[0] == 1:\n",
    "\t\t\tret =  out.loc[out['taxonomicStatus'] == 'Accepted', 'family'].item()\n",
    "\n",
    "\t\telse:\n",
    "\t\t\tif len(bits) > 1: nname = f'{bits[0]} {bits[1]}'\n",
    "\t\t\tout = wfo.loc[(wfo.scientificName == nname)]\n",
    "\t\t\tfams = out.family.unique()\n",
    "\t\t\tfams = [x for x in fams if pd.notna(x)]\n",
    "\n",
    "\t\t\tif len(fams) == 1:\n",
    "\t\t\t\tret =  fams[0]\t\t\n",
    "\t\t\n",
    "\telif out.shape[0] < 1 and re.search(r'\\w+aceae$', nname):\n",
    "\t\tout = wfo.loc[(wfo.scientificName == nname) & (wfo.taxonRank == 'family')]\n",
    "\t\tfams = out.family.unique()\n",
    "\t\tfams = [x for x in fams if pd.notna(x)]\n",
    "\n",
    "\t\tif len(fams) == 1:\n",
    "\t\t\tret =  fams[0]\n",
    "\n",
    "\treturn ret\n"
   ]
  },
  {
   "cell_type": "code",
   "execution_count": 22,
   "id": "ab25c446",
   "metadata": {},
   "outputs": [],
   "source": [
    "taxa_in['wfo_family'] = taxa_in.Name.apply(get_family)"
   ]
  },
  {
   "cell_type": "code",
   "execution_count": 23,
   "id": "1eb8d76a",
   "metadata": {},
   "outputs": [],
   "source": [
    "# Some missing names in World Flora Online\n",
    "taxa_in.loc[taxa_in.Name == 'Hydrophyllaceae', 'wfo_family'] = 'Hydrophyllaceae'\n",
    "taxa_in.loc[taxa_in.Name == 'Stemmatella', 'wfo_family'] = 'Asteraceae'\n",
    "taxa_in.loc[taxa_in.Name == 'Coniza', 'wfo_family'] = 'Asteraceae'\n",
    "taxa_in.loc[taxa_in.Name == '× Agropogon lutosus', 'wfo_family'] = 'Poaceae'\n"
   ]
  },
  {
   "cell_type": "code",
   "execution_count": 24,
   "id": "9b219adc",
   "metadata": {},
   "outputs": [],
   "source": [
    "famis = taxa_in.groupby('wfo_family'\n",
    "\t).size(\n",
    "\t).reset_index(\n",
    "\t)"
   ]
  },
  {
   "cell_type": "code",
   "execution_count": 25,
   "id": "aa7243a6",
   "metadata": {},
   "outputs": [],
   "source": [
    "def get_papa(name):\n",
    "\tret = np.nan\n",
    "\n",
    "\tif pd.notna(name):\n",
    "\t\tout = wfo.loc[(wfo.scientificName == name), 'parentNameUsageID']\n",
    "\t\tth = [x for x in out if pd.notna(x)]\n",
    "\t\t\n",
    "\t\tif len(th) == 1:\n",
    "\t\t\tparid = th[0]\n",
    "\t\t\tret = wfo.loc[(wfo.taxonID == parid), 'scientificName'].item()\n",
    "\t\n",
    "\treturn ret"
   ]
  },
  {
   "cell_type": "code",
   "execution_count": 26,
   "id": "4f16aa19",
   "metadata": {},
   "outputs": [],
   "source": [
    "famis['wfo_order'] = famis.wfo_family.apply(get_papa)"
   ]
  },
  {
   "cell_type": "code",
   "execution_count": 27,
   "id": "73872bb8",
   "metadata": {},
   "outputs": [],
   "source": [
    "famis.loc[famis.wfo_family == 'Hydrophyllaceae', 'wfo_order'] = 'Solanales'"
   ]
  },
  {
   "cell_type": "code",
   "execution_count": 28,
   "id": "7a5bf05e",
   "metadata": {},
   "outputs": [],
   "source": [
    "famis['wfo_clade'] = famis.wfo_order.apply(get_papa)"
   ]
  },
  {
   "cell_type": "code",
   "execution_count": 29,
   "id": "01ffd7f2",
   "metadata": {},
   "outputs": [],
   "source": [
    "taxa_in = taxa_in.merge(famis, 'left', 'wfo_family')"
   ]
  },
  {
   "cell_type": "code",
   "execution_count": 31,
   "id": "92aa85d0",
   "metadata": {},
   "outputs": [],
   "source": [
    "taxa_in.drop(columns=0).to_csv('taxa_in.csv', index=False)"
   ]
  },
  {
   "cell_type": "markdown",
   "id": "7d3e6569",
   "metadata": {},
   "source": [
    "### Verificación de nombres realizada y previamente guardada localmente\n",
    "\n",
    "Abajo se formalizan las jerarquías dado el diseño de la tabla Taxa en la DB"
   ]
  },
  {
   "cell_type": "code",
   "execution_count": 140,
   "id": "df2bd006",
   "metadata": {},
   "outputs": [],
   "source": [
    "taxa_in = pd.read_csv('taxa_in.csv')"
   ]
  },
  {
   "cell_type": "code",
   "execution_count": 32,
   "id": "02eb0167",
   "metadata": {},
   "outputs": [],
   "source": [
    "taxa_in[['CheckPriority', 'Distribution', 'Parent']] = np.nan, np.nan, np.nan"
   ]
  },
  {
   "cell_type": "code",
   "execution_count": 35,
   "id": "f7626228",
   "metadata": {},
   "outputs": [],
   "source": [
    "oriname = 'Nombre base para flora de Bogota'\n",
    "\n",
    "for row in taxa_in.itertuples():\n",
    "\t\n",
    "\tqu = (ori[oriname] == row.Name) & (ori.Endemica == 'SI')\n",
    "\t\n",
    "\tif ori.loc[qu].shape[0] > 0:\n",
    "\t\ttaxa_in.loc[taxa_in.Name == row.Name, 'Distribution'] = 0\n",
    "\n",
    "\tqu = (ori[oriname] == row.Name) & (ori['Para revisión'] == 'SI')\n",
    "\t\n",
    "\tif ori.loc[qu].shape[0] > 0:\n",
    "\t\ttaxa_in.loc[taxa_in.Name == row.Name, 'CheckPriority'] = 5"
   ]
  },
  {
   "cell_type": "code",
   "execution_count": 36,
   "id": "02230785",
   "metadata": {},
   "outputs": [],
   "source": [
    "taxa_in = taxa_in.reset_index(drop=True)"
   ]
  },
  {
   "cell_type": "code",
   "execution_count": 37,
   "id": "366f204c",
   "metadata": {},
   "outputs": [],
   "source": [
    "last_id = taxa_in.index[-1]"
   ]
  },
  {
   "cell_type": "code",
   "execution_count": 38,
   "id": "a26b634f",
   "metadata": {},
   "outputs": [],
   "source": [
    "for th in taxa_in.wfo_clade.unique():\n",
    "\tqu = taxa_in.loc[taxa_in.Name == th]\n",
    "\tif qu.shape[0] == 0:\n",
    "\t\tlast_id += 1\n",
    "\t\trec = {i:np.nan for i in taxa_in.columns}\n",
    "\t\trec['Name'] = th\n",
    "\t\ttaxa_in = pd.concat([\n",
    "\t\t\ttaxa_in, \n",
    "\t\t\tpd.DataFrame.from_records([rec], index=[last_id])\n",
    "\t\t])\n"
   ]
  },
  {
   "cell_type": "code",
   "execution_count": 39,
   "id": "3ab888a9",
   "metadata": {},
   "outputs": [],
   "source": [
    "for th in taxa_in.wfo_order[taxa_in.wfo_order.notna()].unique():\n",
    "\tqu = taxa_in.loc[taxa_in.Name == th]\n",
    "\tif qu.shape[0] == 0:\n",
    "\t\tlast_id += 1\n",
    "\t\tpapa = taxa_in.loc[taxa_in.wfo_order == th, 'wfo_clade'].iloc[0]\n",
    "\t\tpapaid = taxa_in.loc[taxa_in.Name == papa].index[0]\n",
    "\t\trec = {i:np.nan for i in taxa_in.columns}\n",
    "\t\trec['Name'] = th\n",
    "\t\trec['Parent'] = papaid\n",
    "\t\ttaxa_in = pd.concat([\n",
    "\t\t\ttaxa_in, \n",
    "\t\t\tpd.DataFrame.from_records([rec], index=[last_id])\n",
    "\t\t])\n"
   ]
  },
  {
   "cell_type": "code",
   "execution_count": 40,
   "id": "d0aed830",
   "metadata": {},
   "outputs": [],
   "source": [
    "for th in taxa_in.wfo_family[taxa_in.wfo_family.notna()].unique():\n",
    "\tqu = taxa_in.loc[taxa_in.Name == th]\n",
    "\tif qu.shape[0] == 0:\n",
    "\t\tlast_id += 1\n",
    "\t\tpapa = taxa_in.loc[taxa_in.wfo_family == th, 'wfo_order'].iloc[0]\n",
    "\t\tpapaid = taxa_in.loc[taxa_in.Name == papa].index[0]\n",
    "\t\trec = {i:np.nan for i in taxa_in.columns}\n",
    "\t\trec['Name'] = th\n",
    "\t\trec['Parent'] = papaid\n",
    "\t\ttaxa_in = pd.concat([\n",
    "\t\t\ttaxa_in, \n",
    "\t\t\tpd.DataFrame.from_records([rec], index=[last_id])\n",
    "\t\t])\n",
    "\telse:\n",
    "\t\tpapa = taxa_in.loc[taxa_in.wfo_family == th, 'wfo_order'].iloc[0]\n",
    "\t\tpapaid = taxa_in.loc[taxa_in.Name == papa].index[0]\n",
    "\t\ttaxa_in.loc[taxa_in.Name == th, 'Parent'] = papaid\n",
    "\n"
   ]
  },
  {
   "cell_type": "code",
   "execution_count": 41,
   "id": "0c1cdd2b",
   "metadata": {},
   "outputs": [],
   "source": [
    "no_gens = taxa_in.wfo_family.unique().tolist() + \\\n",
    "\ttaxa_in.wfo_order.unique().tolist() + \\\n",
    "\ttaxa_in.wfo_clade.unique().tolist() + ['×']\n",
    "\n",
    "no_gens = [i for i in no_gens if pd.notna(i)]"
   ]
  },
  {
   "cell_type": "code",
   "execution_count": 42,
   "id": "064684c6",
   "metadata": {},
   "outputs": [],
   "source": [
    "gens = [x for x in taxa_in.Name.apply(lambda x: re.split(r'\\s+', x)[0]).unique()]\n",
    "gens = [x for x in gens if not x in no_gens]"
   ]
  },
  {
   "cell_type": "code",
   "execution_count": 43,
   "id": "5f57ca1f",
   "metadata": {},
   "outputs": [],
   "source": [
    "for gn in gens:\n",
    "\t#print(gn)\n",
    "\t\n",
    "\tif pd.notna(gn):\n",
    "\n",
    "\t\tqu = taxa_in.loc[taxa_in.Name == gn]\n",
    "\n",
    "\t\tif qu.shape[0] == 0:\n",
    "\t\t\tlast_id += 1\n",
    "\t\t\tpapa = taxa_in.loc[taxa_in.Name.str.startswith(f'{gn} '), 'wfo_family'].iloc[0]\n",
    "\t\t\t#print(papa)\n",
    "\t\t\tpapaid = taxa_in.loc[taxa_in.Name == papa].index[0]\n",
    "\t\t\t#print(papaid)\n",
    "\t\t\trec = {i:np.nan for i in taxa_in.columns}\n",
    "\t\t\trec['Name'] = gn\n",
    "\t\t\trec['Parent'] = papaid\n",
    "\t\t\ttaxa_in = pd.concat([\n",
    "\t\t\t\ttaxa_in, \n",
    "\t\t\t\tpd.DataFrame.from_records([rec], index=[last_id])\n",
    "\t\t\t])\n",
    "\n",
    "\t\telse:\n",
    "\t\t\tpapa = taxa_in.loc[taxa_in.Name == gn, 'wfo_family'].iloc[0]\n",
    "\t\t\t#print(papa)\n",
    "\t\t\tpapaid = taxa_in.loc[taxa_in.Name == papa].index[0]\n",
    "\t\t\t#print(papaid)\n",
    "\t\t\ttaxa_in.loc[taxa_in.Name == gn, 'Parent'] = papaid\n",
    "\n"
   ]
  },
  {
   "cell_type": "code",
   "execution_count": 44,
   "id": "a727bc3f",
   "metadata": {},
   "outputs": [],
   "source": [
    "for sp in taxa_in.loc[\n",
    "\ttaxa_in.Name.str.contains(r'^[\\w\\-]+\\s+\\w+') |\n",
    "\ttaxa_in.Name.str.contains(r'\\w+\\s+×'),\n",
    "\t'Name'\n",
    "\t].unique():\n",
    "\n",
    "\t#print(sp)\n",
    "\tgn = re.split(r'\\s+', sp)[0]\n",
    "\t#print(gn)\n",
    "\tqu = taxa_in.loc[taxa_in.Name == gn]\n",
    "\tpapaid = taxa_in.loc[taxa_in.Name == gn].index[0]\n",
    "\t#print(papaid)\n",
    "\ttaxa_in.loc[taxa_in.Name == sp, 'Parent'] = papaid"
   ]
  },
  {
   "cell_type": "code",
   "execution_count": 45,
   "id": "50e5930d",
   "metadata": {},
   "outputs": [],
   "source": [
    "taxa_in.loc[taxa_in.Name == '× Agropogon lutosus', 'Parent'\n",
    "\t] = taxa_in.loc[taxa_in.Name == 'Andropogon'].index[0]"
   ]
  },
  {
   "cell_type": "code",
   "execution_count": 46,
   "id": "e0f6988e",
   "metadata": {},
   "outputs": [],
   "source": [
    "taxa_in['TaxonID'] = taxa_in.index"
   ]
  },
  {
   "cell_type": "code",
   "execution_count": 48,
   "id": "1316de19",
   "metadata": {},
   "outputs": [],
   "source": [
    "taxa_in.to_csv('taxa_in.csv', index=False)"
   ]
  },
  {
   "cell_type": "code",
   "execution_count": 49,
   "id": "352b58a5",
   "metadata": {},
   "outputs": [
    {
     "name": "stderr",
     "output_type": "stream",
     "text": [
      "INFO:package: mysql.connector.plugins\n",
      "INFO:plugin_name: caching_sha2_password\n",
      "INFO:AUTHENTICATION_PLUGIN_CLASS: MySQLCachingSHA2PasswordAuthPlugin\n"
     ]
    }
   ],
   "source": [
    "conn_str = 'mysql+mysqlconnector://' + \\\n",
    "\tf'{credentials.mysql['username']}:{credentials.mysql['password']}' + \\\n",
    "\t'@localhost:3306/Mutis'\n",
    "engine = create_engine(conn_str)\n",
    "connection = engine.connect()"
   ]
  },
  {
   "cell_type": "code",
   "execution_count": 54,
   "id": "1925a34d",
   "metadata": {},
   "outputs": [
    {
     "data": {
      "text/plain": [
       "<sqlalchemy.engine.cursor.CursorResult at 0x716450232d60>"
      ]
     },
     "execution_count": 54,
     "metadata": {},
     "output_type": "execute_result"
    }
   ],
   "source": [
    "connection.execute(text('SET FOREIGN_KEY_CHECKS = 0'))"
   ]
  },
  {
   "cell_type": "code",
   "execution_count": 63,
   "id": "629be676",
   "metadata": {},
   "outputs": [
    {
     "data": {
      "text/plain": [
       "-1"
      ]
     },
     "execution_count": 63,
     "metadata": {},
     "output_type": "execute_result"
    }
   ],
   "source": [
    "taxa_in[['TaxonID', 'Name', 'Author', 'CheckPriority', 'Distribution', 'Parent']\n",
    "\t].to_sql('Taxa', connection, if_exists='replace', index=False, chunksize=10000)"
   ]
  },
  {
   "cell_type": "code",
   "execution_count": null,
   "id": "50ffb7d3",
   "metadata": {},
   "outputs": [],
   "source": [
    "# Multispecies hybrids\n",
    "\n",
    "taxa_map.loc[taxa_map.Name_submitted.str.contains('×') & \n",
    "\ttaxa_map.Name_matched.notna() & \n",
    "\t~taxa_map.Name_matched.str.contains(r'×',na=False)]"
   ]
  },
  {
   "cell_type": "markdown",
   "id": "6c43f390",
   "metadata": {},
   "source": [
    "-------"
   ]
  },
  {
   "cell_type": "code",
   "execution_count": 64,
   "id": "e8e3ddef",
   "metadata": {},
   "outputs": [],
   "source": [
    "df = pd.read_sql(sql='SELECT * FROM Taxa', con=connection)"
   ]
  },
  {
   "cell_type": "code",
   "execution_count": 66,
   "id": "f5893308",
   "metadata": {},
   "outputs": [
    {
     "data": {
      "text/html": [
       "<div>\n",
       "<style scoped>\n",
       "    .dataframe tbody tr th:only-of-type {\n",
       "        vertical-align: middle;\n",
       "    }\n",
       "\n",
       "    .dataframe tbody tr th {\n",
       "        vertical-align: top;\n",
       "    }\n",
       "\n",
       "    .dataframe thead th {\n",
       "        text-align: right;\n",
       "    }\n",
       "</style>\n",
       "<table border=\"1\" class=\"dataframe\">\n",
       "  <thead>\n",
       "    <tr style=\"text-align: right;\">\n",
       "      <th></th>\n",
       "      <th>TaxonID</th>\n",
       "      <th>Name</th>\n",
       "      <th>Author</th>\n",
       "      <th>CheckPriority</th>\n",
       "      <th>Distribution</th>\n",
       "      <th>Parent</th>\n",
       "    </tr>\n",
       "  </thead>\n",
       "  <tbody>\n",
       "    <tr>\n",
       "      <th>0</th>\n",
       "      <td>0</td>\n",
       "      <td>Aa colombiana</td>\n",
       "      <td>Schltr.</td>\n",
       "      <td>NaN</td>\n",
       "      <td>None</td>\n",
       "      <td>3414.0</td>\n",
       "    </tr>\n",
       "    <tr>\n",
       "      <th>1</th>\n",
       "      <td>1</td>\n",
       "      <td>Aa hartwegii</td>\n",
       "      <td>Garay</td>\n",
       "      <td>NaN</td>\n",
       "      <td>None</td>\n",
       "      <td>3414.0</td>\n",
       "    </tr>\n",
       "    <tr>\n",
       "      <th>2</th>\n",
       "      <td>2</td>\n",
       "      <td>Aa leucantha</td>\n",
       "      <td>(Rchb.f.) Schltr.</td>\n",
       "      <td>NaN</td>\n",
       "      <td>None</td>\n",
       "      <td>3414.0</td>\n",
       "    </tr>\n",
       "    <tr>\n",
       "      <th>3</th>\n",
       "      <td>3</td>\n",
       "      <td>Aa maderoi</td>\n",
       "      <td>Schltr.</td>\n",
       "      <td>NaN</td>\n",
       "      <td>None</td>\n",
       "      <td>3414.0</td>\n",
       "    </tr>\n",
       "    <tr>\n",
       "      <th>4</th>\n",
       "      <td>4</td>\n",
       "      <td>Aa paleacea</td>\n",
       "      <td>(Kunth) Rchb.f.</td>\n",
       "      <td>NaN</td>\n",
       "      <td>None</td>\n",
       "      <td>3414.0</td>\n",
       "    </tr>\n",
       "    <tr>\n",
       "      <th>...</th>\n",
       "      <td>...</td>\n",
       "      <td>...</td>\n",
       "      <td>...</td>\n",
       "      <td>...</td>\n",
       "      <td>...</td>\n",
       "      <td>...</td>\n",
       "    </tr>\n",
       "    <tr>\n",
       "      <th>4435</th>\n",
       "      <td>4435</td>\n",
       "      <td>Zea</td>\n",
       "      <td>None</td>\n",
       "      <td>NaN</td>\n",
       "      <td>None</td>\n",
       "      <td>3226.0</td>\n",
       "    </tr>\n",
       "    <tr>\n",
       "      <th>4436</th>\n",
       "      <td>4436</td>\n",
       "      <td>Zephyranthes</td>\n",
       "      <td>None</td>\n",
       "      <td>NaN</td>\n",
       "      <td>None</td>\n",
       "      <td>3233.0</td>\n",
       "    </tr>\n",
       "    <tr>\n",
       "      <th>4437</th>\n",
       "      <td>4437</td>\n",
       "      <td>Zingiber</td>\n",
       "      <td>None</td>\n",
       "      <td>NaN</td>\n",
       "      <td>None</td>\n",
       "      <td>3347.0</td>\n",
       "    </tr>\n",
       "    <tr>\n",
       "      <th>4438</th>\n",
       "      <td>4438</td>\n",
       "      <td>Zuloagaea</td>\n",
       "      <td>None</td>\n",
       "      <td>NaN</td>\n",
       "      <td>None</td>\n",
       "      <td>3226.0</td>\n",
       "    </tr>\n",
       "    <tr>\n",
       "      <th>4439</th>\n",
       "      <td>4439</td>\n",
       "      <td>Zygophlebia</td>\n",
       "      <td>None</td>\n",
       "      <td>NaN</td>\n",
       "      <td>None</td>\n",
       "      <td>3237.0</td>\n",
       "    </tr>\n",
       "  </tbody>\n",
       "</table>\n",
       "<p>4440 rows × 6 columns</p>\n",
       "</div>"
      ],
      "text/plain": [
       "      TaxonID           Name             Author  CheckPriority Distribution  \\\n",
       "0           0  Aa colombiana            Schltr.            NaN         None   \n",
       "1           1   Aa hartwegii              Garay            NaN         None   \n",
       "2           2   Aa leucantha  (Rchb.f.) Schltr.            NaN         None   \n",
       "3           3     Aa maderoi            Schltr.            NaN         None   \n",
       "4           4    Aa paleacea    (Kunth) Rchb.f.            NaN         None   \n",
       "...       ...            ...                ...            ...          ...   \n",
       "4435     4435            Zea               None            NaN         None   \n",
       "4436     4436   Zephyranthes               None            NaN         None   \n",
       "4437     4437       Zingiber               None            NaN         None   \n",
       "4438     4438      Zuloagaea               None            NaN         None   \n",
       "4439     4439    Zygophlebia               None            NaN         None   \n",
       "\n",
       "      Parent  \n",
       "0     3414.0  \n",
       "1     3414.0  \n",
       "2     3414.0  \n",
       "3     3414.0  \n",
       "4     3414.0  \n",
       "...      ...  \n",
       "4435  3226.0  \n",
       "4436  3233.0  \n",
       "4437  3347.0  \n",
       "4438  3226.0  \n",
       "4439  3237.0  \n",
       "\n",
       "[4440 rows x 6 columns]"
      ]
     },
     "execution_count": 66,
     "metadata": {},
     "output_type": "execute_result"
    }
   ],
   "source": [
    "df"
   ]
  },
  {
   "cell_type": "code",
   "execution_count": 67,
   "id": "18445158",
   "metadata": {},
   "outputs": [],
   "source": [
    "connection.close()"
   ]
  }
 ],
 "metadata": {
  "kernelspec": {
   "display_name": "base",
   "language": "python",
   "name": "python3"
  },
  "language_info": {
   "codemirror_mode": {
    "name": "ipython",
    "version": 3
   },
   "file_extension": ".py",
   "mimetype": "text/x-python",
   "name": "python",
   "nbconvert_exporter": "python",
   "pygments_lexer": "ipython3",
   "version": "3.12.4"
  }
 },
 "nbformat": 4,
 "nbformat_minor": 5
}
