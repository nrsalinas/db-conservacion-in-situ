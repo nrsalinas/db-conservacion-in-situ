{
 "cells": [
  {
   "cell_type": "markdown",
   "id": "a4ef9551",
   "metadata": {},
   "source": [
    "# Mapeo campos \n",
    "\n",
    "|Fuente | Sources |\n",
    "|---|---|\n",
    "|Nombre base para flora de Bogota | Taxa |\n",
    "|Comentario de validación | Taxa.Comment |\n",
    "|Para revisión | Taxa.CheckPriority 0 or 1 |\n",
    "|Endemica | Taxa.Distribution |\n",
    "|Estado de amenaza | RedListAssessments with Standard='JBB'\n",
    "|Origen y status | Origins |\n",
    "|Trabajo de No nativas Flora de Bogotá | Origins.Type???\n",
    "|Determinador en fuente | Identifications.IdentifiedBy Merge with next field |\n",
    "|Determinador Depurado | Identifications.IdentifiedBy |\n",
    "|Calificador en fuente | Identifications.Certainty |\n",
    "|Fecha_Determinacion en fuente | Identifications.Date |\n",
    "|Fecha_Determinacion_(Year) | Identifications.Date |\n",
    "|Fecha_Determinacion_(Month) | Identifications.Date |\n",
    "|Fecha_Determinacion_(Day) | Identifications.Date |\n",
    "|State | Areas |\n",
    "|County | Areas |\n",
    "|Localidad | Locations |\n",
    "|Código de localidad georreferenciada | Locations.BD2020ID |\n",
    "|Latitud_original | Locations.Latitude |\n",
    "|Longitud_original | Locations.Longitud |\n",
    "|Elev__minima | Locations.ElevationMin |\n",
    "|Elev__maxima | Locations.ElevationMax |\n",
    "|Latitud_decimal | Geocodings.InterpretedLat, Geocoder is DB_2020 |\n",
    "|Longitud_decimal | Geocodings.InterpretedLon, Geocoder is DB_2020 |\n",
    "|Latitud para trabajo de mapas | Geocodings.InterpretedLat, Geocoder is mapas_2020 |\n",
    "|Longitud para trabajo de mapas | Geocodings.InterpretedLon, Geocoder is mapas_2020 |\n",
    "|Extensión de georreferenciación | Geocodins.Uncertainty ???\n",
    "|DATUM | Geocodings.Datum |\n",
    "|Colector depurado | Occurrences.Collector |\n",
    "|Colector principal | If no colector depurado, Occurrences.Collector, otherwise Occurrences.CollectorVerbatim  |\n",
    "|Número de colector | Occurrences.CollectionNumber & Occurrences.CollectionNumberVerbatim |\n",
    "|Fecha_Inicial_(Year) | Occurrences.DateInit, Occurrences.DateEnd |\n",
    "|Fecha_Inicial_(Month) | Occurrences.DateInit, Occurrences.DateEnd |\n",
    "|Fecha_Inicial_(day) | Occurrences.DateInit, Occurrences.DateEnd |\n",
    "|Notas_Localidad_y_Habitat | Occurrences.Comment  |\n",
    "|Fenologia | Occurrences.PhenoState |\n",
    "|Descripcion ejemplar | Occurrences.Comment |\n",
    "|Usos | Occurrences.Use |\n",
    "|Nombres_comunes | Occurrences.CommonName |\n",
    "|Comentarios generales | Occurrences.Comment |\n",
    "|Referencia bibligráfica | Occurrence.Sources |\n",
    "|Numero original en Base 2015 | Occurrence.DB2015ID |\n",
    "|Origen para herbario | Specimens.Institution  |\n",
    "|Número de identificación | Specimens.SpecimenCode |\n",
    "|Fecha_Inicial | REMOVE |\n",
    "|Notas de altura | REMOVE ???????\n",
    "|Familia Revisada | REMOVE |\n",
    "|Género revisado | REMOVE |\n",
    "|Comentarios de determinación en fuente | REMOVE |\n",
    "|Nivel taxonómico | REMOVE, info retrieved from TPRS |\n",
    "|Familia en fuente | REMOVE  |\n",
    "|Género en fuente | REMOVE  |\n",
    "|Epíteto específico en fuente | REMOVE  |\n",
    "|Autor del epíteto específico en fuente | REMOVE  |\n",
    "|Epíteto infraespecífico | REMOVE  |\n",
    "|Autor del infraespecífico en fuente | REMOVE  |\n",
    "|Nombre científico en fuente | REMOVE  |\n",
    "|Nombre validado | REMOVE  |\n",
    "|Nivel taxonómico en fuente | REMOVE  |\n",
    "|Herbario de proveniencia | REMOVE  |"
   ]
  },
  {
   "cell_type": "code",
   "execution_count": 3,
   "id": "0c38d22a",
   "metadata": {},
   "outputs": [],
   "source": [
    "from sqlalchemy import create_engine, text\n",
    "import pandas as pd\n",
    "import numpy as np\n",
    "\n",
    "import requests\n",
    "import json\n",
    "import re\n",
    "import time\n",
    "from datetime import datetime\n",
    "\n",
    "import pykew.powo as powo\n",
    "from pygbif import species, registry\n",
    "\n",
    "import credentials"
   ]
  },
  {
   "cell_type": "code",
   "execution_count": 25,
   "id": "8b6397b0",
   "metadata": {},
   "outputs": [],
   "source": [
    "orifile = '../Datos/Flora_de_Bogota/Registros_2020/FlBogota2020.csv'\n",
    "ori = pd.read_csv(orifile, dtype={'Elev__minima': str, 'Elev__maxima': str})"
   ]
  },
  {
   "cell_type": "code",
   "execution_count": null,
   "id": "1ce0c8d1",
   "metadata": {},
   "outputs": [],
   "source": [
    "tnrs_url = 'https://tnrsapi.xyz/tnrs_api.php'"
   ]
  },
  {
   "cell_type": "code",
   "execution_count": null,
   "id": "54177b49",
   "metadata": {},
   "outputs": [],
   "source": [
    "def tropicos(name, api_key):\n",
    "\tservice = 'http://services.tropicos.org/name'\n",
    "\tr = requests.get(\n",
    "\t\tf'{service}/search/?apikey={api_key}&name={name}&format=json'\n",
    "\t)\n",
    "\t#s = requests.get(\n",
    "\t#\tf'{service}/{r['NameId']}/highertaxa/?apikey={api_key}&name={name}&format=json'\n",
    "\t#)\n",
    "\t\n",
    "\treturn r.json()\n"
   ]
  },
  {
   "cell_type": "code",
   "execution_count": null,
   "id": "9d854693",
   "metadata": {},
   "outputs": [],
   "source": [
    "def powo_query(name):\n",
    "\tact_name = ''\n",
    "\tbits = re.split(r'\\s+', name)\n",
    "\n",
    "\tif bits[0] == '×' or bits[1] == '×':\n",
    "\t\tact_name = ' '.join(bits[:3])\n",
    "\telse:\n",
    "\t\tact_name = ' '.join(bits[:2])\n",
    "\t\n",
    "\tr = powo.search(act_name)\n",
    "\n",
    "\tif r.size() == 1:\n",
    "\t\tresults = [i for i in r]\n",
    "\t\treturn (results[0]['name'], results[0]['author'], results[0]['rank'])\n",
    "\t\n",
    "\telif r.size() > 1:\n",
    "\t\treturn f'Multiples results with name {name}'\n",
    "\t\n",
    "\telse:\n",
    "\t\treturn f'No results with name {name}'"
   ]
  },
  {
   "cell_type": "markdown",
   "id": "31b7e126",
   "metadata": {},
   "source": [
    "### Si la consulta a TNRS ya fue realizada y los resultados guardados:"
   ]
  },
  {
   "cell_type": "code",
   "execution_count": null,
   "id": "d02e38e2",
   "metadata": {},
   "outputs": [],
   "source": [
    "# Map between original name and corrected version by TNRS\n",
    "taxa_map_file = 'tnrs_query.csv'\n",
    "taxa_map = pd.read_csv(taxa_map_file)"
   ]
  },
  {
   "cell_type": "markdown",
   "id": "895dfcbc",
   "metadata": {},
   "source": [
    "### De lo contrario, aqui se realiza la consulta"
   ]
  },
  {
   "cell_type": "code",
   "execution_count": null,
   "id": "2a6a919c",
   "metadata": {},
   "outputs": [],
   "source": [
    "orinames = ori['Nombre base para flora de Bogota'].unique()\n",
    "query = [[i, j] for i,j in enumerate(orinames) if pd.notna(j)]\n",
    "\n",
    "r = requests.post(\n",
    "\ttnrs_url, \n",
    "\theaders={\"Content-Type\": \"application/json\"},\n",
    "\tdata=json.dumps({\n",
    "\t\t'data': query,\n",
    "\t\t'opts': {\n",
    "\t\t\t'sources': ['wcvp','wfo'],\n",
    "\t\t\t'class': 'wcvp',\n",
    "\t\t\t'mode': 'resolve',\n",
    "\t\t\t'matches' : 'best'\n",
    "\t\t}\t\t\n",
    "\t})\t\n",
    ")"
   ]
  },
  {
   "cell_type": "code",
   "execution_count": null,
   "id": "376d5637",
   "metadata": {},
   "outputs": [],
   "source": [
    "taxa_map = pd.DataFrame.from_records(results)\n",
    "taxa_map.to_csv('tnrs_query.csv', index=False)"
   ]
  },
  {
   "cell_type": "code",
   "execution_count": null,
   "id": "2ef9d7ca",
   "metadata": {},
   "outputs": [],
   "source": [
    "taxa_map.loc[taxa_map.Overall_score == '', 'Overall_score'] = 'NAN'\n",
    "taxa_map['Overall_score'] = taxa_map.Overall_score.astype(np.float32)"
   ]
  },
  {
   "cell_type": "markdown",
   "id": "b6d09fdb",
   "metadata": {},
   "source": [
    "# Aqui se continua la normalizacion de nombres"
   ]
  },
  {
   "cell_type": "markdown",
   "id": "a8983612",
   "metadata": {},
   "source": [
    "### Consulta a POWO de hibridos"
   ]
  },
  {
   "cell_type": "markdown",
   "id": "d8bc8f22",
   "metadata": {},
   "source": [
    "Primero remover hibridos no publicados, solo se registran a nivel de determinacion"
   ]
  },
  {
   "cell_type": "code",
   "execution_count": null,
   "id": "cc812e33",
   "metadata": {},
   "outputs": [],
   "source": [
    "taxa_map = taxa_map.drop(\n",
    "\tindex=taxa_map.loc[taxa_map.Name_submitted.str.contains(r'Salvia [\\w\\.\\s]+ ×')].index\n",
    ")"
   ]
  },
  {
   "cell_type": "code",
   "execution_count": null,
   "id": "9701ecbe",
   "metadata": {},
   "outputs": [],
   "source": [
    "for row in taxa_map.loc[taxa_map.Name_submitted.str.contains('×')].itertuples():\n",
    "\t#print(row.Name_submitted)\n",
    "\tpo = powo_query(row.Name_submitted)\n",
    "\tif isinstance(po, tuple):\n",
    "\t\ttaxa_map.loc[row.Index, 'Name_matched'] = po[0]\n",
    "\t\ttaxa_map.loc[row.Index, 'Author_matched'] = po[1]\n",
    "\t\ttaxa_map.loc[row.Index, 'Name_matched_rank'] = po[2].lower()\n",
    "\telse:\n",
    "\t\tprint(po)\n",
    "\ttime.sleep(1)"
   ]
  },
  {
   "cell_type": "code",
   "execution_count": null,
   "id": "b48e2ec3",
   "metadata": {},
   "outputs": [],
   "source": [
    "# Manually correct names couldn't be matched easily by POWO,\n",
    "# but there is a simple solution there \n",
    "\n",
    "taxa_map.loc[\n",
    "\t(taxa_map.Name_submitted.str.startswith('Pelargonium × hortorum')), \n",
    "\t['Name_matched', 'Author_matched', 'Name_matched_rank']\n",
    "\t] = ('Pelargonium × hortorum', 'L.H.Bailey', 'species')\n",
    "\n",
    "taxa_map.loc[\n",
    "\t(taxa_map.Name_submitted.str.startswith('Abelia × grandiflora')), \n",
    "\t['Name_matched', 'Author_matched', 'Name_matched_rank']\n",
    "\t] = ('Abelia × grandiflora', '(Rovelli ex André) Rehder', 'species')\n",
    "\n",
    "taxa_map.loc[\n",
    "\t(taxa_map.Name_submitted.str.startswith('Lavatera × clementii')), \n",
    "\t['Name_matched', 'Author_matched', 'Name_matched_rank']\n",
    "\t] = ('Lavatera × clementii', 'Cheek', 'species')\n",
    "\n",
    "taxa_map.loc[\n",
    "\t(taxa_map.Name_submitted.str.startswith('Polygala × dalmasiana')), \n",
    "\t['Name_matched', 'Author_matched', 'Name_matched_rank']\n",
    "\t] = ('Polygala', np.nan, 'genus')\n",
    "\n",
    "taxa_map.loc[\n",
    "\t(taxa_map.Name_submitted.str.startswith('Epidendrum chicoense')), \n",
    "\t['Name_matched', 'Author_matched', 'Name_matched_rank']\n",
    "\t] = ('Epidendrum', np.nan, 'genus')\n",
    "\n",
    "taxa_map.loc[\n",
    "\t(taxa_map.Name_submitted.str.startswith('Plantae')), \n",
    "\t['Name_matched', 'Author_matched', 'Name_matched_rank']\n",
    "\t] = (np.nan, np.nan, np.nan)\n",
    "\n",
    "# TNRS couldn't get appropriate response for the following\n",
    "\n",
    "taxa_map.loc[\n",
    "\t(taxa_map.Name_submitted.str.startswith('Callianthe striata')), \n",
    "\t['Name_matched', 'Author_matched', 'Name_matched_rank']\n",
    "\t] = ('Callianthe striata', '(G.F.Dicks. ex Lindl.) Donnell', 'species')\n",
    "\n",
    "taxa_map.loc[\n",
    "\t(taxa_map.Name_submitted.str.startswith('Phlegmariurus acifolius')), \n",
    "\t['Name_matched', 'Author_matched', 'Name_matched_rank']\n",
    "\t] = ('Phlegmariurus acifolius', '(Rolleri) B.Øllg.', 'species')\n"
   ]
  },
  {
   "cell_type": "code",
   "execution_count": null,
   "id": "a7903ff6",
   "metadata": {},
   "outputs": [],
   "source": [
    "# Save eliminated binomials from the database, they probably are invalid or unpublished names\n",
    "taxa_map.loc[(taxa_map.Overall_score < 0.9) & (taxa_map.Name_matched_rank == 'genus'),\n",
    "\t['Name_submitted', 'Name_matched', 'Name_matched_rank']\n",
    "\t].to_csv('binomios_eliminados.csv', index=False)"
   ]
  },
  {
   "cell_type": "code",
   "execution_count": null,
   "id": "9d3cba9d",
   "metadata": {},
   "outputs": [],
   "source": [
    "# Remove lichens: Ramalina, Usnea, Sticta, Candelariella\n",
    "# Remove general indets: 'Pteridophyta', 'Magnoliophyta', 'Plantae', 'Tracheophyta'\n",
    "\n",
    "taxa_map = taxa_map.drop(\n",
    "\tindex=taxa_map[taxa_map.Name_submitted.isin([\n",
    "\t\t'Ramalina', 'Usnea', 'Sticta', 'Candelariella',\n",
    "\t\t'Pteridophyta', 'Magnoliophyta', 'Plantae', 'Tracheophyta'\n",
    "\t])].index\n",
    ")"
   ]
  },
  {
   "cell_type": "code",
   "execution_count": null,
   "id": "daf36b28",
   "metadata": {},
   "outputs": [],
   "source": [
    "taxa_map.to_csv('taxa_map.csv', index=False)"
   ]
  },
  {
   "cell_type": "markdown",
   "id": "e268e759",
   "metadata": {},
   "source": [
    "### Obtener jerarquía taxonómica de World Flora Online"
   ]
  },
  {
   "cell_type": "code",
   "execution_count": 5,
   "id": "c8a7f4a0",
   "metadata": {},
   "outputs": [],
   "source": [
    "taxa_map = pd.read_csv('taxa_map.csv')"
   ]
  },
  {
   "cell_type": "code",
   "execution_count": 6,
   "id": "541d62e2",
   "metadata": {},
   "outputs": [],
   "source": [
    "wfo_file = '../../Botanical_databases/world_flora_online/classification.csv'"
   ]
  },
  {
   "cell_type": "code",
   "execution_count": 7,
   "id": "0b052125",
   "metadata": {},
   "outputs": [],
   "source": [
    "datyp = {'localID':str, 'subfamily': str, 'tribe': str, 'subtribe': str, \n",
    " \t'subgenus':str, 'infraspecificEpithet': str, 'tplID': str}"
   ]
  },
  {
   "cell_type": "code",
   "execution_count": 8,
   "id": "1c2ea82b",
   "metadata": {},
   "outputs": [],
   "source": [
    "wfo = pd.read_csv(wfo_file, sep='\\t', encoding='latin', dtype=datyp)"
   ]
  },
  {
   "cell_type": "code",
   "execution_count": 9,
   "id": "5e900b99",
   "metadata": {},
   "outputs": [],
   "source": [
    "taxa_in = taxa_map.groupby(['Name_matched','Author_matched']\n",
    "\t).size(\n",
    "\t).reset_index(\n",
    "\t).drop(columns=0\n",
    "\t).rename(columns={'Name_matched': 'Name', 'Author_matched':'Author'})"
   ]
  },
  {
   "cell_type": "code",
   "execution_count": 10,
   "id": "7aff1f62",
   "metadata": {},
   "outputs": [],
   "source": [
    "# For some reason Passiflora tripartita is retrieved twice, one with the wrong authorship\n",
    "taxa_in = taxa_in.drop(\n",
    "\tindex=taxa_in[\n",
    "\t\t(taxa_in.Name == 'Passiflora tripartita') & \n",
    "\t\t(taxa_in.Author == '(Juss.) Poir.')\n",
    "\t].index).reset_index()"
   ]
  },
  {
   "cell_type": "code",
   "execution_count": 11,
   "id": "c79c1cc1",
   "metadata": {},
   "outputs": [],
   "source": [
    "def get_family(name):\n",
    "\tret = np.nan\n",
    "\tif pd.isna(name): return np.nan\n",
    "\tbits = re.split(r'\\s+', name)\n",
    "\tnname = bits[0]\n",
    "\tout = wfo.loc[(wfo.scientificName == nname) & (wfo.taxonRank == 'genus')]\n",
    "\n",
    "\tif out.shape[0] == 1: \n",
    "\t\tret =  out['family'].item()\n",
    "\t\n",
    "\telif out.shape[0] > 1:\n",
    "\n",
    "\t\tif out[out['nomenclaturalStatus'] == 'Valid'].shape[0] == 1:\n",
    "\t\t\tret =  out.loc[out['nomenclaturalStatus'] == 'Valid', 'family'].item()\n",
    "\n",
    "\t\telif out[out['taxonomicStatus'] == 'Accepted'].shape[0] == 1:\n",
    "\t\t\tret =  out.loc[out['taxonomicStatus'] == 'Accepted', 'family'].item()\n",
    "\n",
    "\t\telse:\n",
    "\t\t\tif len(bits) > 1: nname = f'{bits[0]} {bits[1]}'\n",
    "\t\t\tout = wfo.loc[(wfo.scientificName == nname)]\n",
    "\t\t\tfams = out.family.unique()\n",
    "\t\t\tfams = [x for x in fams if pd.notna(x)]\n",
    "\n",
    "\t\t\tif len(fams) == 1:\n",
    "\t\t\t\tret =  fams[0]\t\t\n",
    "\t\t\n",
    "\telif out.shape[0] < 1 and re.search(r'\\w+aceae$', nname):\n",
    "\t\tout = wfo.loc[(wfo.scientificName == nname) & (wfo.taxonRank == 'family')]\n",
    "\t\tfams = out.family.unique()\n",
    "\t\tfams = [x for x in fams if pd.notna(x)]\n",
    "\n",
    "\t\tif len(fams) == 1:\n",
    "\t\t\tret =  fams[0]\n",
    "\n",
    "\treturn ret\n"
   ]
  },
  {
   "cell_type": "code",
   "execution_count": 12,
   "id": "ab25c446",
   "metadata": {},
   "outputs": [],
   "source": [
    "taxa_in['wfo_family'] = taxa_in.Name.apply(get_family)"
   ]
  },
  {
   "cell_type": "code",
   "execution_count": 13,
   "id": "1eb8d76a",
   "metadata": {},
   "outputs": [],
   "source": [
    "# Some missing names in World Flora Online\n",
    "taxa_in.loc[taxa_in.Name == 'Hydrophyllaceae', 'wfo_family'] = 'Hydrophyllaceae'\n",
    "taxa_in.loc[taxa_in.Name == 'Stemmatella', 'wfo_family'] = 'Asteraceae'\n",
    "taxa_in.loc[taxa_in.Name == 'Coniza', 'wfo_family'] = 'Asteraceae'\n",
    "taxa_in.loc[taxa_in.Name == '× Agropogon lutosus', 'wfo_family'] = 'Poaceae'\n"
   ]
  },
  {
   "cell_type": "code",
   "execution_count": 14,
   "id": "9b219adc",
   "metadata": {},
   "outputs": [],
   "source": [
    "famis = taxa_in.groupby('wfo_family'\n",
    "\t).size(\n",
    "\t).reset_index(\n",
    "\t)"
   ]
  },
  {
   "cell_type": "code",
   "execution_count": 15,
   "id": "aa7243a6",
   "metadata": {},
   "outputs": [],
   "source": [
    "def get_papa(name):\n",
    "\tret = np.nan\n",
    "\n",
    "\tif pd.notna(name):\n",
    "\t\tout = wfo.loc[(wfo.scientificName == name), 'parentNameUsageID']\n",
    "\t\tth = [x for x in out if pd.notna(x)]\n",
    "\t\t\n",
    "\t\tif len(th) == 1:\n",
    "\t\t\tparid = th[0]\n",
    "\t\t\tret = wfo.loc[(wfo.taxonID == parid), 'scientificName'].item()\n",
    "\t\n",
    "\treturn ret"
   ]
  },
  {
   "cell_type": "code",
   "execution_count": 16,
   "id": "4f16aa19",
   "metadata": {},
   "outputs": [],
   "source": [
    "famis['wfo_order'] = famis.wfo_family.apply(get_papa)"
   ]
  },
  {
   "cell_type": "code",
   "execution_count": 17,
   "id": "73872bb8",
   "metadata": {},
   "outputs": [],
   "source": [
    "famis.loc[famis.wfo_family == 'Hydrophyllaceae', 'wfo_order'] = 'Solanales'"
   ]
  },
  {
   "cell_type": "code",
   "execution_count": 18,
   "id": "7a5bf05e",
   "metadata": {},
   "outputs": [],
   "source": [
    "famis['wfo_clade'] = famis.wfo_order.apply(get_papa)"
   ]
  },
  {
   "cell_type": "code",
   "execution_count": 19,
   "id": "01ffd7f2",
   "metadata": {},
   "outputs": [],
   "source": [
    "taxa_in = taxa_in.merge(famis, 'left', 'wfo_family')"
   ]
  },
  {
   "cell_type": "code",
   "execution_count": 20,
   "id": "92aa85d0",
   "metadata": {},
   "outputs": [],
   "source": [
    "taxa_in.drop(columns=0).to_csv('taxa_in.csv', index=False)"
   ]
  },
  {
   "cell_type": "markdown",
   "id": "7d3e6569",
   "metadata": {},
   "source": [
    "### Verificación de nombres realizada y previamente guardada localmente\n",
    "\n",
    "Abajo se formalizan las jerarquías dado el diseño de la tabla Taxa en la DB"
   ]
  },
  {
   "cell_type": "code",
   "execution_count": null,
   "id": "df2bd006",
   "metadata": {},
   "outputs": [],
   "source": [
    "taxa_in = pd.read_csv('taxa_in.csv')"
   ]
  },
  {
   "cell_type": "code",
   "execution_count": 22,
   "id": "02230785",
   "metadata": {},
   "outputs": [],
   "source": [
    "taxa_in = taxa_in.reset_index(drop=True)"
   ]
  },
  {
   "cell_type": "code",
   "execution_count": 23,
   "id": "9d182e6c",
   "metadata": {},
   "outputs": [],
   "source": [
    "taxa_in['TaxonID'] = taxa_in.index + 1"
   ]
  },
  {
   "cell_type": "code",
   "execution_count": 21,
   "id": "02eb0167",
   "metadata": {},
   "outputs": [],
   "source": [
    "taxa_in[['CheckPriority', 'Distribution', 'Parent']] = np.nan, np.nan, np.nan"
   ]
  },
  {
   "cell_type": "code",
   "execution_count": 26,
   "id": "f7626228",
   "metadata": {},
   "outputs": [],
   "source": [
    "oriname = 'Nombre base para flora de Bogota'\n",
    "\n",
    "for row in taxa_in.itertuples():\n",
    "\t\n",
    "\tqu = (ori[oriname] == row.Name) & (ori.Endemica == 'SI')\n",
    "\t\n",
    "\tif ori.loc[qu].shape[0] > 0:\n",
    "\t\ttaxa_in.loc[taxa_in.Name == row.Name, 'Distribution'] = 0\n",
    "\n",
    "\tqu = (ori[oriname] == row.Name) & (ori['Para revisión'] == 'SI')\n",
    "\t\n",
    "\tif ori.loc[qu].shape[0] > 0:\n",
    "\t\ttaxa_in.loc[taxa_in.Name == row.Name, 'CheckPriority'] = 5"
   ]
  },
  {
   "cell_type": "code",
   "execution_count": 29,
   "id": "366f204c",
   "metadata": {},
   "outputs": [],
   "source": [
    "last_id = taxa_in.TaxonID.iloc[-1]"
   ]
  },
  {
   "cell_type": "code",
   "execution_count": 32,
   "id": "a26b634f",
   "metadata": {},
   "outputs": [],
   "source": [
    "for th in taxa_in.wfo_clade.unique():\n",
    "\tqu = taxa_in.loc[taxa_in.Name == th]\n",
    "\tif qu.shape[0] == 0:\n",
    "\t\tlast_id += 1\n",
    "\t\trec = {i:np.nan for i in taxa_in.columns}\n",
    "\t\trec['Name'] = th\n",
    "\t\trec['TaxonID'] = last_id\n",
    "\t\ttaxa_in = pd.concat([\n",
    "\t\t\ttaxa_in, \n",
    "\t\t\tpd.DataFrame.from_records([rec])\n",
    "\t\t])\n"
   ]
  },
  {
   "cell_type": "code",
   "execution_count": 34,
   "id": "3ab888a9",
   "metadata": {},
   "outputs": [],
   "source": [
    "for th in taxa_in.wfo_order[taxa_in.wfo_order.notna()].unique():\n",
    "\tqu = taxa_in.loc[taxa_in.Name == th]\n",
    "\tif qu.shape[0] == 0:\n",
    "\t\tlast_id += 1\n",
    "\t\tpapa = taxa_in.loc[taxa_in.wfo_order == th, 'wfo_clade'].iloc[0]\n",
    "\t\tpapaid = taxa_in.loc[taxa_in.Name == papa, 'TaxonID'].iloc[0]\n",
    "\t\trec = {i:np.nan for i in taxa_in.columns}\n",
    "\t\trec['Name'] = th\n",
    "\t\trec['Parent'] = papaid\n",
    "\t\trec['TaxonID'] = last_id\n",
    "\t\ttaxa_in = pd.concat([\n",
    "\t\t\ttaxa_in, \n",
    "\t\t\tpd.DataFrame.from_records([rec])\n",
    "\t\t])\n"
   ]
  },
  {
   "cell_type": "code",
   "execution_count": 41,
   "id": "d0aed830",
   "metadata": {},
   "outputs": [],
   "source": [
    "for th in taxa_in.wfo_family[taxa_in.wfo_family.notna()].unique():\n",
    "\tqu = taxa_in.loc[taxa_in.Name == th]\n",
    "\tif qu.shape[0] == 0:\n",
    "\t\tlast_id += 1\n",
    "\t\tpapa = taxa_in.loc[taxa_in.wfo_family == th, 'wfo_order'].iloc[0]\n",
    "\t\tpapaid = taxa_in.loc[taxa_in.Name == papa, 'TaxonID'].iloc[0]\n",
    "\t\trec = {i:np.nan for i in taxa_in.columns}\n",
    "\t\trec['Name'] = th\n",
    "\t\trec['Parent'] = papaid\n",
    "\t\trec['TaxonID'] = last_id\n",
    "\t\ttaxa_in = pd.concat([\n",
    "\t\t\ttaxa_in, \n",
    "\t\t\tpd.DataFrame.from_records([rec])\n",
    "\t\t])\n",
    "\telse:\n",
    "\t\tpapa = taxa_in.loc[taxa_in.wfo_family == th, 'wfo_order'].iloc[0]\n",
    "\t\tpapaid = taxa_in.loc[taxa_in.Name == papa, 'TaxonID'].iloc[0]\n",
    "\t\ttaxa_in.loc[taxa_in.Name == th, 'Parent'] = papaid\n",
    "\n"
   ]
  },
  {
   "cell_type": "code",
   "execution_count": 49,
   "id": "0c1cdd2b",
   "metadata": {},
   "outputs": [],
   "source": [
    "no_gens = taxa_in.wfo_family.unique().tolist() + \\\n",
    "\ttaxa_in.wfo_order.unique().tolist() + \\\n",
    "\ttaxa_in.wfo_clade.unique().tolist() + ['×']\n",
    "\n",
    "no_gens = [i for i in no_gens if pd.notna(i)]"
   ]
  },
  {
   "cell_type": "code",
   "execution_count": 50,
   "id": "064684c6",
   "metadata": {},
   "outputs": [],
   "source": [
    "gens = [x for x in taxa_in.Name.apply(lambda x: re.split(r'\\s+', x)[0]).unique()]\n",
    "gens = [x for x in gens if not x in no_gens]"
   ]
  },
  {
   "cell_type": "code",
   "execution_count": 51,
   "id": "5f57ca1f",
   "metadata": {},
   "outputs": [],
   "source": [
    "for gn in gens:\n",
    "\t#print(gn)\n",
    "\t\n",
    "\tif pd.notna(gn):\n",
    "\n",
    "\t\tqu = taxa_in.loc[taxa_in.Name == gn]\n",
    "\n",
    "\t\tif qu.shape[0] == 0:\n",
    "\t\t\tlast_id += 1\n",
    "\t\t\tpapa = taxa_in.loc[taxa_in.Name.str.startswith(f'{gn} '), 'wfo_family'].iloc[0]\n",
    "\t\t\t#print(papa)\n",
    "\t\t\tpapaid = taxa_in.loc[taxa_in.Name == papa, 'TaxonID'].iloc[0]\n",
    "\t\t\t#print(papaid)\n",
    "\t\t\trec = {i:np.nan for i in taxa_in.columns}\n",
    "\t\t\trec['Name'] = gn\n",
    "\t\t\trec['Parent'] = papaid\n",
    "\t\t\trec['TaxonID'] = last_id\n",
    "\t\t\ttaxa_in = pd.concat([\n",
    "\t\t\t\ttaxa_in, \n",
    "\t\t\t\tpd.DataFrame.from_records([rec])\n",
    "\t\t\t])\n",
    "\n",
    "\t\telse:\n",
    "\t\t\tpapa = taxa_in.loc[taxa_in.Name == gn, 'wfo_family'].iloc[0]\n",
    "\t\t\t#print(papa)\n",
    "\t\t\tpapaid = taxa_in.loc[taxa_in.Name == papa, 'TaxonID'].iloc[0]\n",
    "\t\t\t#print(papaid)\n",
    "\t\t\ttaxa_in.loc[taxa_in.Name == gn, 'Parent'] = papaid\n",
    "\n"
   ]
  },
  {
   "cell_type": "markdown",
   "id": "ff107cab",
   "metadata": {},
   "source": [
    "Por alguna razón Vriesea está incorrectamente clasificada"
   ]
  },
  {
   "cell_type": "code",
   "execution_count": 72,
   "id": "7e48f491",
   "metadata": {},
   "outputs": [
    {
     "data": {
      "text/html": [
       "<div>\n",
       "<style scoped>\n",
       "    .dataframe tbody tr th:only-of-type {\n",
       "        vertical-align: middle;\n",
       "    }\n",
       "\n",
       "    .dataframe tbody tr th {\n",
       "        vertical-align: top;\n",
       "    }\n",
       "\n",
       "    .dataframe thead th {\n",
       "        text-align: right;\n",
       "    }\n",
       "</style>\n",
       "<table border=\"1\" class=\"dataframe\">\n",
       "  <thead>\n",
       "    <tr style=\"text-align: right;\">\n",
       "      <th></th>\n",
       "      <th>index</th>\n",
       "      <th>Name</th>\n",
       "      <th>Author</th>\n",
       "      <th>wfo_family</th>\n",
       "      <th>0</th>\n",
       "      <th>wfo_order</th>\n",
       "      <th>wfo_clade</th>\n",
       "      <th>CheckPriority</th>\n",
       "      <th>Distribution</th>\n",
       "      <th>Parent</th>\n",
       "      <th>TaxonID</th>\n",
       "    </tr>\n",
       "  </thead>\n",
       "  <tbody>\n",
       "    <tr>\n",
       "      <th>0</th>\n",
       "      <td>NaN</td>\n",
       "      <td>Bromeliaceae</td>\n",
       "      <td>NaN</td>\n",
       "      <td>NaN</td>\n",
       "      <td>NaN</td>\n",
       "      <td>NaN</td>\n",
       "      <td>NaN</td>\n",
       "      <td>NaN</td>\n",
       "      <td>NaN</td>\n",
       "      <td>3166.0</td>\n",
       "      <td>3230</td>\n",
       "    </tr>\n",
       "  </tbody>\n",
       "</table>\n",
       "</div>"
      ],
      "text/plain": [
       "   index          Name Author wfo_family   0 wfo_order wfo_clade  \\\n",
       "0    NaN  Bromeliaceae    NaN        NaN NaN       NaN       NaN   \n",
       "\n",
       "   CheckPriority  Distribution  Parent  TaxonID  \n",
       "0            NaN           NaN  3166.0     3230  "
      ]
     },
     "execution_count": 72,
     "metadata": {},
     "output_type": "execute_result"
    }
   ],
   "source": [
    "taxa_in.loc[taxa_in.Name == 'Bromeliaceae']"
   ]
  },
  {
   "cell_type": "code",
   "execution_count": 73,
   "id": "42610269",
   "metadata": {},
   "outputs": [],
   "source": [
    "taxa_in.loc[taxa_in.Name == 'Vriesea', 'Parent'] = 3230"
   ]
  },
  {
   "cell_type": "code",
   "execution_count": 76,
   "id": "a727bc3f",
   "metadata": {},
   "outputs": [],
   "source": [
    "for sp in taxa_in.loc[\n",
    "\ttaxa_in.Name.str.contains(r'^[\\w\\-]+\\s+\\w+') |\n",
    "\ttaxa_in.Name.str.contains(r'\\w+\\s+×'),\n",
    "\t'Name'\n",
    "\t].unique():\n",
    "\n",
    "\t#print(sp)\n",
    "\tgn = re.split(r'\\s+', sp)[0]\n",
    "\t#print(gn)\n",
    "\tqu = taxa_in.loc[taxa_in.Name == gn]\n",
    "\tpapaid = taxa_in.loc[taxa_in.Name == gn, 'TaxonID'].iloc[0]\n",
    "\t#print(papaid)\n",
    "\ttaxa_in.loc[taxa_in.Name == sp, 'Parent'] = papaid"
   ]
  },
  {
   "cell_type": "code",
   "execution_count": 80,
   "id": "50e5930d",
   "metadata": {},
   "outputs": [],
   "source": [
    "taxa_in.loc[taxa_in.Name == '× Agropogon lutosus', 'Parent'\n",
    "\t] = taxa_in.loc[taxa_in.Name == 'Andropogon'].index[0]"
   ]
  },
  {
   "cell_type": "code",
   "execution_count": 82,
   "id": "4f5a7c89",
   "metadata": {},
   "outputs": [],
   "source": [
    "taxa_in[['AcceptedName', 'Authority', 'Protologue', 'Comment']\n",
    "\t] = np.nan, np.nan, np.nan, np.nan"
   ]
  },
  {
   "cell_type": "code",
   "execution_count": 84,
   "id": "1316de19",
   "metadata": {},
   "outputs": [],
   "source": [
    "taxa_in[['TaxonID', 'Name', 'Author', 'CheckPriority', 'Distribution', 'Parent',\n",
    "\t'AcceptedName', 'Authority', 'Protologue', 'Comment']].to_csv(\n",
    "\t'taxa_in.csv', index=False)"
   ]
  },
  {
   "cell_type": "markdown",
   "id": "3c846e29",
   "metadata": {},
   "source": [
    "# Insert Taxa table\n",
    "\n",
    "If all nomenclatural and classification validation has been conducted, read `taxa_in.csv` file and directly do insertion."
   ]
  },
  {
   "cell_type": "code",
   "execution_count": 2,
   "id": "450c6e78",
   "metadata": {},
   "outputs": [],
   "source": [
    "taxa_in = pd.read_csv('taxa_in.csv')"
   ]
  },
  {
   "cell_type": "code",
   "execution_count": 13,
   "id": "352b58a5",
   "metadata": {},
   "outputs": [],
   "source": [
    "conn_str = 'mysql+mysqlconnector://' + \\\n",
    "\tf'{credentials.mysql['username']}:{credentials.mysql['password']}' + \\\n",
    "\t'@localhost:3306/Mutis'\n",
    "engine = create_engine(conn_str)\n",
    "connection = engine.connect()"
   ]
  },
  {
   "cell_type": "code",
   "execution_count": null,
   "id": "1925a34d",
   "metadata": {},
   "outputs": [],
   "source": [
    "#connection.execute(text('SET FOREIGN_KEY_CHECKS = 0'))"
   ]
  },
  {
   "cell_type": "code",
   "execution_count": 14,
   "id": "629be676",
   "metadata": {},
   "outputs": [
    {
     "data": {
      "text/plain": [
       "-1"
      ]
     },
     "execution_count": 14,
     "metadata": {},
     "output_type": "execute_result"
    }
   ],
   "source": [
    "taxa_in[['TaxonID', 'Name', 'Author', 'CheckPriority', 'Distribution', 'Parent',\n",
    "\t'AcceptedName', 'Authority', 'Protologue', 'Comment']\n",
    "\t].to_sql('Taxa', engine, if_exists='append', index=False, chunksize=10000, method='multi')"
   ]
  },
  {
   "cell_type": "markdown",
   "id": "947702f6",
   "metadata": {},
   "source": [
    "# Validation personas y grupos de personas \n",
    "\n",
    "Normalización de nombres de personas y de grupos para inserción en tablas Persons, PeoplePersons y People"
   ]
  },
  {
   "cell_type": "code",
   "execution_count": 63,
   "id": "4cf8a7de",
   "metadata": {},
   "outputs": [],
   "source": [
    "from rapidfuzz import fuzz, utils, distance"
   ]
  },
  {
   "cell_type": "code",
   "execution_count": 4,
   "id": "c9407d8e",
   "metadata": {},
   "outputs": [],
   "source": [
    "orifile = '../Datos/Flora_de_Bogota/Registros_2020/FlBogota2020.csv'\n",
    "\n",
    "colpp = ['Determinador en fuente', 'Determinador Depurado', 'Colector depurado', \n",
    " 'Colector principal', 'Referencia bibligráfica']\n",
    "\n",
    "ori = pd.read_csv(orifile, dtype={'Elev__minima': str, 'Elev__maxima': str},\n",
    "\tusecols=colpp)"
   ]
  },
  {
   "cell_type": "code",
   "execution_count": 5,
   "id": "9499b057",
   "metadata": {},
   "outputs": [],
   "source": [
    "ori = ori.rename(columns={\n",
    "\t'Determinador en fuente':'detfu', \n",
    "\t'Determinador Depurado':'detde', \n",
    "\t'Colector depurado': 'colde', \n",
    "\t'Colector principal': 'colpri',\n",
    "\t'Referencia bibligráfica': 'ref'\n",
    "})"
   ]
  },
  {
   "cell_type": "code",
   "execution_count": 7,
   "id": "70727dbc",
   "metadata": {},
   "outputs": [
    {
     "data": {
      "text/plain": [
       "((26982, 5), (42024, 5), (42177, 5), (38071, 5))"
      ]
     },
     "execution_count": 7,
     "metadata": {},
     "output_type": "execute_result"
    }
   ],
   "source": [
    "ori[ori.detfu.notna()].shape, ori[ori.detde.notna()].shape, \\\n",
    "\tori[ori.colde.notna()].shape, ori[ori.colpri.notna()].shape"
   ]
  },
  {
   "cell_type": "code",
   "execution_count": 275,
   "id": "282d7dda",
   "metadata": {},
   "outputs": [],
   "source": [
    "parties = ori.groupby('colde'\n",
    "\t).size(\n",
    "\t).reset_index(\n",
    "\t).sort_values('colde'\n",
    "\t).rename(columns={'colde':'party'}\n",
    "\t).drop(columns=0)\n",
    "\n",
    "parties['person'] = parties.party"
   ]
  },
  {
   "cell_type": "code",
   "execution_count": 276,
   "id": "72ae9b8f",
   "metadata": {},
   "outputs": [],
   "source": [
    "dets = ori.groupby('detde'\n",
    "\t).size(\n",
    "\t).reset_index(\n",
    "\t).sort_values('detde'\n",
    "\t).rename(columns={'detde':'party'}\n",
    "\t).drop(columns=0)\n",
    "\n",
    "dets[['person0', 'person1']] = dets.party.str.split(r'\\s+[&y]\\s+',expand=True)"
   ]
  },
  {
   "cell_type": "code",
   "execution_count": 277,
   "id": "85ebee7d",
   "metadata": {},
   "outputs": [],
   "source": [
    "dets = dets.melt(id_vars='party', value_vars=['person0', 'person1'], \n",
    "\tvalue_name='person').sort_values('party'\n",
    "\t).drop(columns='variable')\n",
    "\n",
    "dets.loc[dets.person.isna(), 'person'] = dets.loc[dets.person.isna(), 'party']"
   ]
  },
  {
   "cell_type": "code",
   "execution_count": null,
   "id": "1e34b5a4",
   "metadata": {},
   "outputs": [],
   "source": [
    "#parties = pd.concat([parties, dets])"
   ]
  },
  {
   "cell_type": "code",
   "execution_count": null,
   "id": "73b3c19a",
   "metadata": {},
   "outputs": [],
   "source": [
    "#parties = parties.groupby(['party', 'person'], dropna=False\n",
    "#\t).size(\n",
    "#\t).reset_index(\n",
    "#\t).drop(columns=0\n",
    "#\t).reset_index(drop=True)"
   ]
  },
  {
   "cell_type": "code",
   "execution_count": 278,
   "id": "a9e3e8a1",
   "metadata": {},
   "outputs": [],
   "source": [
    "jper = parties.groupby('person').size().reset_index().drop(columns=0)"
   ]
  },
  {
   "cell_type": "code",
   "execution_count": 279,
   "id": "b228e741",
   "metadata": {},
   "outputs": [],
   "source": [
    "def sim_scores(a_str):\n",
    "\tjper['jw'] = jper.person.apply(\n",
    "\t\tlambda x: distance.JaroWinkler.similarity(a_str, x)\n",
    "\t)\n",
    "\tjper['part'] = jper.person.apply(\n",
    "\t\tlambda x: fuzz.partial_ratio(a_str, x)\n",
    "\t)\n",
    "\tjper['ratio'] = jper.person.apply(\n",
    "\t\tlambda x: fuzz.ratio(a_str, x)\n",
    "\t)\n",
    "\n",
    "\tout = (\n",
    "\t\tjper.loc[(jper.jw == jper.jw.max()), 'person'].iloc[0],\n",
    "\t\tjper.jw.max(),\n",
    "\t\tjper.loc[(jper.part == jper.part.max()), 'person'].iloc[0],\n",
    "\t\tjper.part.max(),\n",
    "\t\tjper.loc[(jper.ratio == jper.ratio.max()), 'person'].iloc[0],\n",
    "\t\tjper.ratio.max()\n",
    "\t)\n",
    "\n",
    "\treturn out"
   ]
  },
  {
   "cell_type": "code",
   "execution_count": 280,
   "id": "4d2e32d4",
   "metadata": {},
   "outputs": [],
   "source": [
    "dets[['jw', 'jw_sc', 'part', 'part_sc', 'ratio', 'ratio_sc']] = dets.apply(\n",
    "\tlambda x: sim_scores(x.person), axis=1, result_type='expand'\n",
    ")"
   ]
  },
  {
   "cell_type": "code",
   "execution_count": 298,
   "id": "8a24aec1",
   "metadata": {},
   "outputs": [
    {
     "data": {
      "text/html": [
       "<div>\n",
       "<style scoped>\n",
       "    .dataframe tbody tr th:only-of-type {\n",
       "        vertical-align: middle;\n",
       "    }\n",
       "\n",
       "    .dataframe tbody tr th {\n",
       "        vertical-align: top;\n",
       "    }\n",
       "\n",
       "    .dataframe thead th {\n",
       "        text-align: right;\n",
       "    }\n",
       "</style>\n",
       "<table border=\"1\" class=\"dataframe\">\n",
       "  <thead>\n",
       "    <tr style=\"text-align: right;\">\n",
       "      <th></th>\n",
       "      <th>person</th>\n",
       "      <th>ratio</th>\n",
       "      <th>ratio_sc</th>\n",
       "    </tr>\n",
       "  </thead>\n",
       "  <tbody>\n",
       "    <tr>\n",
       "      <th>340</th>\n",
       "      <td>Fernández-A., J.L</td>\n",
       "      <td>Fernández-A., J. L.</td>\n",
       "      <td>94.444444</td>\n",
       "    </tr>\n",
       "    <tr>\n",
       "      <th>1509</th>\n",
       "      <td>Fernández-A., J.L</td>\n",
       "      <td>Fernández-A., J. L.</td>\n",
       "      <td>94.444444</td>\n",
       "    </tr>\n",
       "  </tbody>\n",
       "</table>\n",
       "</div>"
      ],
      "text/plain": [
       "                 person                ratio   ratio_sc\n",
       "340   Fernández-A., J.L  Fernández-A., J. L.  94.444444\n",
       "1509  Fernández-A., J.L  Fernández-A., J. L.  94.444444"
      ]
     },
     "execution_count": 298,
     "metadata": {},
     "output_type": "execute_result"
    }
   ],
   "source": [
    "val = 94\n",
    "dets.loc[(dets.ratio_sc > val) & (dets.ratio_sc < val + 1), ['person', 'ratio', 'ratio_sc']].head(50)"
   ]
  },
  {
   "cell_type": "code",
   "execution_count": 314,
   "id": "5156eca9",
   "metadata": {},
   "outputs": [
    {
     "data": {
      "text/html": [
       "<div>\n",
       "<style scoped>\n",
       "    .dataframe tbody tr th:only-of-type {\n",
       "        vertical-align: middle;\n",
       "    }\n",
       "\n",
       "    .dataframe tbody tr th {\n",
       "        vertical-align: top;\n",
       "    }\n",
       "\n",
       "    .dataframe thead th {\n",
       "        text-align: right;\n",
       "    }\n",
       "</style>\n",
       "<table border=\"1\" class=\"dataframe\">\n",
       "  <thead>\n",
       "    <tr style=\"text-align: right;\">\n",
       "      <th></th>\n",
       "      <th>person</th>\n",
       "      <th>part</th>\n",
       "      <th>part_sc</th>\n",
       "    </tr>\n",
       "  </thead>\n",
       "  <tbody>\n",
       "    <tr>\n",
       "      <th>1372</th>\n",
       "      <td>Castro, Sa.</td>\n",
       "      <td>Castro, S.L.</td>\n",
       "      <td>95.238095</td>\n",
       "    </tr>\n",
       "    <tr>\n",
       "      <th>203</th>\n",
       "      <td>Castro, Sa.</td>\n",
       "      <td>Castro, S.L.</td>\n",
       "      <td>95.238095</td>\n",
       "    </tr>\n",
       "    <tr>\n",
       "      <th>227</th>\n",
       "      <td>Cogollo, A.</td>\n",
       "      <td>Cogollo, Angélica</td>\n",
       "      <td>95.238095</td>\n",
       "    </tr>\n",
       "    <tr>\n",
       "      <th>1396</th>\n",
       "      <td>Cogollo, A.</td>\n",
       "      <td>Cogollo, Angélica</td>\n",
       "      <td>95.238095</td>\n",
       "    </tr>\n",
       "    <tr>\n",
       "      <th>1578</th>\n",
       "      <td>Giraldo, C.</td>\n",
       "      <td>Giraldo, Catalina</td>\n",
       "      <td>95.238095</td>\n",
       "    </tr>\n",
       "    <tr>\n",
       "      <th>409</th>\n",
       "      <td>Giraldo, C.</td>\n",
       "      <td>Giraldo, Catalina</td>\n",
       "      <td>95.238095</td>\n",
       "    </tr>\n",
       "    <tr>\n",
       "      <th>509</th>\n",
       "      <td>Hourteig, A.</td>\n",
       "      <td>Lourteig, A.</td>\n",
       "      <td>95.652174</td>\n",
       "    </tr>\n",
       "    <tr>\n",
       "      <th>1678</th>\n",
       "      <td>Hourteig, A.</td>\n",
       "      <td>Lourteig, A.</td>\n",
       "      <td>95.652174</td>\n",
       "    </tr>\n",
       "    <tr>\n",
       "      <th>626</th>\n",
       "      <td>Mahecha, Gilberto</td>\n",
       "      <td>Mahecha, G.</td>\n",
       "      <td>95.238095</td>\n",
       "    </tr>\n",
       "    <tr>\n",
       "      <th>1795</th>\n",
       "      <td>Mahecha, Gilberto</td>\n",
       "      <td>Mahecha, G.</td>\n",
       "      <td>95.238095</td>\n",
       "    </tr>\n",
       "    <tr>\n",
       "      <th>637</th>\n",
       "      <td>Martínez, Liliana</td>\n",
       "      <td>Martínez, L.</td>\n",
       "      <td>95.652174</td>\n",
       "    </tr>\n",
       "    <tr>\n",
       "      <th>1806</th>\n",
       "      <td>Martínez, Liliana</td>\n",
       "      <td>Martínez, L.</td>\n",
       "      <td>95.652174</td>\n",
       "    </tr>\n",
       "    <tr>\n",
       "      <th>864</th>\n",
       "      <td>Restrepo, M.</td>\n",
       "      <td>Restrepo, Marcela</td>\n",
       "      <td>95.652174</td>\n",
       "    </tr>\n",
       "    <tr>\n",
       "      <th>2033</th>\n",
       "      <td>Restrepo, M.</td>\n",
       "      <td>Restrepo, Marcela</td>\n",
       "      <td>95.652174</td>\n",
       "    </tr>\n",
       "    <tr>\n",
       "      <th>1082</th>\n",
       "      <td>Valencia, J.</td>\n",
       "      <td>Valencia, Janice</td>\n",
       "      <td>95.652174</td>\n",
       "    </tr>\n",
       "    <tr>\n",
       "      <th>2251</th>\n",
       "      <td>Valencia, J.</td>\n",
       "      <td>Valencia, Janice</td>\n",
       "      <td>95.652174</td>\n",
       "    </tr>\n",
       "  </tbody>\n",
       "</table>\n",
       "</div>"
      ],
      "text/plain": [
       "                 person               part    part_sc\n",
       "1372        Castro, Sa.       Castro, S.L.  95.238095\n",
       "203         Castro, Sa.       Castro, S.L.  95.238095\n",
       "227         Cogollo, A.  Cogollo, Angélica  95.238095\n",
       "1396        Cogollo, A.  Cogollo, Angélica  95.238095\n",
       "1578        Giraldo, C.  Giraldo, Catalina  95.238095\n",
       "409         Giraldo, C.  Giraldo, Catalina  95.238095\n",
       "509        Hourteig, A.       Lourteig, A.  95.652174\n",
       "1678       Hourteig, A.       Lourteig, A.  95.652174\n",
       "626   Mahecha, Gilberto        Mahecha, G.  95.238095\n",
       "1795  Mahecha, Gilberto        Mahecha, G.  95.238095\n",
       "637   Martínez, Liliana       Martínez, L.  95.652174\n",
       "1806  Martínez, Liliana       Martínez, L.  95.652174\n",
       "864        Restrepo, M.  Restrepo, Marcela  95.652174\n",
       "2033       Restrepo, M.  Restrepo, Marcela  95.652174\n",
       "1082       Valencia, J.   Valencia, Janice  95.652174\n",
       "2251       Valencia, J.   Valencia, Janice  95.652174"
      ]
     },
     "execution_count": 314,
     "metadata": {},
     "output_type": "execute_result"
    }
   ],
   "source": [
    "val = 95\n",
    "dets.loc[(dets.part_sc > val) & (dets.part_sc < val + 1), ['person', 'part', 'part_sc']].head(50)"
   ]
  },
  {
   "cell_type": "code",
   "execution_count": 308,
   "id": "459e1158",
   "metadata": {},
   "outputs": [
    {
     "data": {
      "text/html": [
       "<div>\n",
       "<style scoped>\n",
       "    .dataframe tbody tr th:only-of-type {\n",
       "        vertical-align: middle;\n",
       "    }\n",
       "\n",
       "    .dataframe tbody tr th {\n",
       "        vertical-align: top;\n",
       "    }\n",
       "\n",
       "    .dataframe thead th {\n",
       "        text-align: right;\n",
       "    }\n",
       "</style>\n",
       "<table border=\"1\" class=\"dataframe\">\n",
       "  <thead>\n",
       "    <tr style=\"text-align: right;\">\n",
       "      <th></th>\n",
       "      <th>person</th>\n",
       "      <th>jw</th>\n",
       "      <th>jw_sc</th>\n",
       "    </tr>\n",
       "  </thead>\n",
       "  <tbody>\n",
       "    <tr>\n",
       "      <th>1372</th>\n",
       "      <td>Castro, Sa.</td>\n",
       "      <td>Castro, S.</td>\n",
       "      <td>0.981818</td>\n",
       "    </tr>\n",
       "    <tr>\n",
       "      <th>203</th>\n",
       "      <td>Castro, Sa.</td>\n",
       "      <td>Castro, S.</td>\n",
       "      <td>0.981818</td>\n",
       "    </tr>\n",
       "    <tr>\n",
       "      <th>1419</th>\n",
       "      <td>Cortés-S., S. P.</td>\n",
       "      <td>Cortés-S., S.P.</td>\n",
       "      <td>0.987500</td>\n",
       "    </tr>\n",
       "    <tr>\n",
       "      <th>250</th>\n",
       "      <td>Cortés-S., S. P.</td>\n",
       "      <td>Cortés-S., S.P.</td>\n",
       "      <td>0.987500</td>\n",
       "    </tr>\n",
       "    <tr>\n",
       "      <th>1524</th>\n",
       "      <td>Forero, Di.</td>\n",
       "      <td>Forero, D.</td>\n",
       "      <td>0.981818</td>\n",
       "    </tr>\n",
       "    <tr>\n",
       "      <th>355</th>\n",
       "      <td>Forero, Di.</td>\n",
       "      <td>Forero, D.</td>\n",
       "      <td>0.981818</td>\n",
       "    </tr>\n",
       "    <tr>\n",
       "      <th>454</th>\n",
       "      <td>Gutiérrez-G., V.</td>\n",
       "      <td>Gutiérrez-V., G.</td>\n",
       "      <td>0.987500</td>\n",
       "    </tr>\n",
       "    <tr>\n",
       "      <th>1623</th>\n",
       "      <td>Gutiérrez-G., V.</td>\n",
       "      <td>Gutiérrez-V., G.</td>\n",
       "      <td>0.987500</td>\n",
       "    </tr>\n",
       "    <tr>\n",
       "      <th>1628</th>\n",
       "      <td>Gómez, J. C.</td>\n",
       "      <td>Gómez, J.C.</td>\n",
       "      <td>0.983333</td>\n",
       "    </tr>\n",
       "    <tr>\n",
       "      <th>459</th>\n",
       "      <td>Gómez, J. C.</td>\n",
       "      <td>Gómez, J.C.</td>\n",
       "      <td>0.983333</td>\n",
       "    </tr>\n",
       "    <tr>\n",
       "      <th>481</th>\n",
       "      <td>Hernández, Al.</td>\n",
       "      <td>Hernández, A.</td>\n",
       "      <td>0.985714</td>\n",
       "    </tr>\n",
       "    <tr>\n",
       "      <th>1650</th>\n",
       "      <td>Hernández, Al.</td>\n",
       "      <td>Hernández, A.</td>\n",
       "      <td>0.985714</td>\n",
       "    </tr>\n",
       "    <tr>\n",
       "      <th>1772</th>\n",
       "      <td>Lozano, G.</td>\n",
       "      <td>Lozano, Ga.</td>\n",
       "      <td>0.981818</td>\n",
       "    </tr>\n",
       "    <tr>\n",
       "      <th>603</th>\n",
       "      <td>Lozano, G.</td>\n",
       "      <td>Lozano, Ga.</td>\n",
       "      <td>0.981818</td>\n",
       "    </tr>\n",
       "    <tr>\n",
       "      <th>2178</th>\n",
       "      <td>Stein, B. A.</td>\n",
       "      <td>Stein, B.A.</td>\n",
       "      <td>0.983333</td>\n",
       "    </tr>\n",
       "    <tr>\n",
       "      <th>1009</th>\n",
       "      <td>Stein, B. A.</td>\n",
       "      <td>Stein, B.A.</td>\n",
       "      <td>0.983333</td>\n",
       "    </tr>\n",
       "    <tr>\n",
       "      <th>1097</th>\n",
       "      <td>Vargas, O.</td>\n",
       "      <td>Vargas, Os.</td>\n",
       "      <td>0.981818</td>\n",
       "    </tr>\n",
       "    <tr>\n",
       "      <th>2266</th>\n",
       "      <td>Vargas, O.</td>\n",
       "      <td>Vargas, Os.</td>\n",
       "      <td>0.981818</td>\n",
       "    </tr>\n",
       "  </tbody>\n",
       "</table>\n",
       "</div>"
      ],
      "text/plain": [
       "                person                jw     jw_sc\n",
       "1372       Castro, Sa.        Castro, S.  0.981818\n",
       "203        Castro, Sa.        Castro, S.  0.981818\n",
       "1419  Cortés-S., S. P.   Cortés-S., S.P.  0.987500\n",
       "250   Cortés-S., S. P.   Cortés-S., S.P.  0.987500\n",
       "1524       Forero, Di.        Forero, D.  0.981818\n",
       "355        Forero, Di.        Forero, D.  0.981818\n",
       "454   Gutiérrez-G., V.  Gutiérrez-V., G.  0.987500\n",
       "1623  Gutiérrez-G., V.  Gutiérrez-V., G.  0.987500\n",
       "1628      Gómez, J. C.       Gómez, J.C.  0.983333\n",
       "459       Gómez, J. C.       Gómez, J.C.  0.983333\n",
       "481     Hernández, Al.     Hernández, A.  0.985714\n",
       "1650    Hernández, Al.     Hernández, A.  0.985714\n",
       "1772        Lozano, G.       Lozano, Ga.  0.981818\n",
       "603         Lozano, G.       Lozano, Ga.  0.981818\n",
       "2178      Stein, B. A.       Stein, B.A.  0.983333\n",
       "1009      Stein, B. A.       Stein, B.A.  0.983333\n",
       "1097        Vargas, O.       Vargas, Os.  0.981818\n",
       "2266        Vargas, O.       Vargas, Os.  0.981818"
      ]
     },
     "execution_count": 308,
     "metadata": {},
     "output_type": "execute_result"
    }
   ],
   "source": [
    "val = 0.98\n",
    "dets.loc[(dets.jw_sc > val) & (dets.jw_sc < val + 0.01), ['person', 'jw', 'jw_sc']].head(50)"
   ]
  },
  {
   "cell_type": "code",
   "execution_count": 22,
   "id": "abf1e511",
   "metadata": {},
   "outputs": [],
   "source": [
    "colpri_map = ori.loc[ori.colde.isna()].groupby('colpri').size().reset_index()"
   ]
  },
  {
   "cell_type": "code",
   "execution_count": 64,
   "id": "72019e50",
   "metadata": {},
   "outputs": [
    {
     "data": {
      "text/plain": [
       "87.5"
      ]
     },
     "execution_count": 64,
     "metadata": {},
     "output_type": "execute_result"
    }
   ],
   "source": [
    "fuzz.partial_ratio('hola pepe', 'hoLa perro', processor=utils.default_process)"
   ]
  },
  {
   "cell_type": "code",
   "execution_count": 65,
   "id": "4393b2a6",
   "metadata": {},
   "outputs": [
    {
     "data": {
      "text/plain": [
       "73.6842105263158"
      ]
     },
     "execution_count": 65,
     "metadata": {},
     "output_type": "execute_result"
    }
   ],
   "source": [
    "fuzz.ratio('hola pepe', 'hoLa perro', processor=utils.default_process)"
   ]
  },
  {
   "cell_type": "code",
   "execution_count": 67,
   "id": "2820fbb1",
   "metadata": {},
   "outputs": [
    {
     "data": {
      "text/plain": [
       "0.8955555555555555"
      ]
     },
     "execution_count": 67,
     "metadata": {},
     "output_type": "execute_result"
    }
   ],
   "source": [
    "distance.JaroWinkler.similarity('hola pepe', 'hoLa perro', processor=utils.default_process)"
   ]
  },
  {
   "cell_type": "code",
   "execution_count": 23,
   "id": "ed22e762",
   "metadata": {},
   "outputs": [
    {
     "data": {
      "text/html": [
       "<div>\n",
       "<style scoped>\n",
       "    .dataframe tbody tr th:only-of-type {\n",
       "        vertical-align: middle;\n",
       "    }\n",
       "\n",
       "    .dataframe tbody tr th {\n",
       "        vertical-align: top;\n",
       "    }\n",
       "\n",
       "    .dataframe thead th {\n",
       "        text-align: right;\n",
       "    }\n",
       "</style>\n",
       "<table border=\"1\" class=\"dataframe\">\n",
       "  <thead>\n",
       "    <tr style=\"text-align: right;\">\n",
       "      <th></th>\n",
       "      <th>colpri</th>\n",
       "      <th>0</th>\n",
       "    </tr>\n",
       "  </thead>\n",
       "  <tbody>\n",
       "    <tr>\n",
       "      <th>0</th>\n",
       "      <td>Baptiste, H.</td>\n",
       "      <td>1</td>\n",
       "    </tr>\n",
       "    <tr>\n",
       "      <th>1</th>\n",
       "      <td>Cabrera, Diego</td>\n",
       "      <td>7</td>\n",
       "    </tr>\n",
       "    <tr>\n",
       "      <th>2</th>\n",
       "      <td>Cabrera-Amaya, Diego Mauricio</td>\n",
       "      <td>2</td>\n",
       "    </tr>\n",
       "    <tr>\n",
       "      <th>3</th>\n",
       "      <td>Calbi, M.</td>\n",
       "      <td>2</td>\n",
       "    </tr>\n",
       "    <tr>\n",
       "      <th>4</th>\n",
       "      <td>Camacho, I.</td>\n",
       "      <td>15</td>\n",
       "    </tr>\n",
       "    <tr>\n",
       "      <th>5</th>\n",
       "      <td>Camacho, Shirley</td>\n",
       "      <td>2</td>\n",
       "    </tr>\n",
       "    <tr>\n",
       "      <th>6</th>\n",
       "      <td>Cortés-Ballén, Lorena Andrea</td>\n",
       "      <td>3</td>\n",
       "    </tr>\n",
       "    <tr>\n",
       "      <th>7</th>\n",
       "      <td>Fajardo, F.</td>\n",
       "      <td>80</td>\n",
       "    </tr>\n",
       "    <tr>\n",
       "      <th>8</th>\n",
       "      <td>Fajardo, Francisco</td>\n",
       "      <td>30</td>\n",
       "    </tr>\n",
       "    <tr>\n",
       "      <th>9</th>\n",
       "      <td>Fajardo-G., F.</td>\n",
       "      <td>60</td>\n",
       "    </tr>\n",
       "    <tr>\n",
       "      <th>10</th>\n",
       "      <td>Fajardo-Gutiérrez, Francisco</td>\n",
       "      <td>2</td>\n",
       "    </tr>\n",
       "    <tr>\n",
       "      <th>11</th>\n",
       "      <td>Jara, A.</td>\n",
       "      <td>1</td>\n",
       "    </tr>\n",
       "    <tr>\n",
       "      <th>12</th>\n",
       "      <td>Jara, Adolfo</td>\n",
       "      <td>8</td>\n",
       "    </tr>\n",
       "    <tr>\n",
       "      <th>13</th>\n",
       "      <td>Lopera, María Catalina</td>\n",
       "      <td>2</td>\n",
       "    </tr>\n",
       "    <tr>\n",
       "      <th>14</th>\n",
       "      <td>Lopera-Doncel, María Catalina</td>\n",
       "      <td>1</td>\n",
       "    </tr>\n",
       "    <tr>\n",
       "      <th>15</th>\n",
       "      <td>López, José</td>\n",
       "      <td>1</td>\n",
       "    </tr>\n",
       "    <tr>\n",
       "      <th>16</th>\n",
       "      <td>López-Cruz, José</td>\n",
       "      <td>5</td>\n",
       "    </tr>\n",
       "    <tr>\n",
       "      <th>17</th>\n",
       "      <td>López-O., M.</td>\n",
       "      <td>1</td>\n",
       "    </tr>\n",
       "    <tr>\n",
       "      <th>18</th>\n",
       "      <td>Martín, R.</td>\n",
       "      <td>10</td>\n",
       "    </tr>\n",
       "    <tr>\n",
       "      <th>19</th>\n",
       "      <td>Martínez-Peña, Myriam Liliana</td>\n",
       "      <td>5</td>\n",
       "    </tr>\n",
       "    <tr>\n",
       "      <th>20</th>\n",
       "      <td>Marín, César</td>\n",
       "      <td>18</td>\n",
       "    </tr>\n",
       "    <tr>\n",
       "      <th>21</th>\n",
       "      <td>Medellín-Z., D.</td>\n",
       "      <td>3</td>\n",
       "    </tr>\n",
       "    <tr>\n",
       "      <th>22</th>\n",
       "      <td>Medellín-Z., Diana</td>\n",
       "      <td>9</td>\n",
       "    </tr>\n",
       "    <tr>\n",
       "      <th>23</th>\n",
       "      <td>Montoya, Angela</td>\n",
       "      <td>1</td>\n",
       "    </tr>\n",
       "    <tr>\n",
       "      <th>24</th>\n",
       "      <td>Montoya-Q., Angela</td>\n",
       "      <td>26</td>\n",
       "    </tr>\n",
       "    <tr>\n",
       "      <th>25</th>\n",
       "      <td>Morales-Rozo, Clara</td>\n",
       "      <td>1</td>\n",
       "    </tr>\n",
       "    <tr>\n",
       "      <th>26</th>\n",
       "      <td>Muñoz, José</td>\n",
       "      <td>1</td>\n",
       "    </tr>\n",
       "    <tr>\n",
       "      <th>27</th>\n",
       "      <td>Muñoz, José A.</td>\n",
       "      <td>58</td>\n",
       "    </tr>\n",
       "    <tr>\n",
       "      <th>28</th>\n",
       "      <td>Ocampo-Z., K.</td>\n",
       "      <td>1</td>\n",
       "    </tr>\n",
       "    <tr>\n",
       "      <th>29</th>\n",
       "      <td>Orejuela, Andrés</td>\n",
       "      <td>2</td>\n",
       "    </tr>\n",
       "    <tr>\n",
       "      <th>30</th>\n",
       "      <td>Orejuela-Ramírez, Andrés</td>\n",
       "      <td>2</td>\n",
       "    </tr>\n",
       "    <tr>\n",
       "      <th>31</th>\n",
       "      <td>Pérez-Suárez, Verónica</td>\n",
       "      <td>1</td>\n",
       "    </tr>\n",
       "    <tr>\n",
       "      <th>32</th>\n",
       "      <td>Rivera, Yissel</td>\n",
       "      <td>51</td>\n",
       "    </tr>\n",
       "    <tr>\n",
       "      <th>33</th>\n",
       "      <td>Rodríguez, Ángela</td>\n",
       "      <td>73</td>\n",
       "    </tr>\n",
       "    <tr>\n",
       "      <th>34</th>\n",
       "      <td>Rodríguez-Alarcón, Slendy</td>\n",
       "      <td>2</td>\n",
       "    </tr>\n",
       "    <tr>\n",
       "      <th>35</th>\n",
       "      <td>Rodríguez-C., A.</td>\n",
       "      <td>1</td>\n",
       "    </tr>\n",
       "    <tr>\n",
       "      <th>36</th>\n",
       "      <td>Romero-Murcia, Johanna</td>\n",
       "      <td>2</td>\n",
       "    </tr>\n",
       "    <tr>\n",
       "      <th>37</th>\n",
       "      <td>Rubiano, Kristian</td>\n",
       "      <td>1</td>\n",
       "    </tr>\n",
       "    <tr>\n",
       "      <th>38</th>\n",
       "      <td>Suárez, C. I.</td>\n",
       "      <td>2</td>\n",
       "    </tr>\n",
       "    <tr>\n",
       "      <th>39</th>\n",
       "      <td>Suárez, Carlos Iván</td>\n",
       "      <td>1</td>\n",
       "    </tr>\n",
       "    <tr>\n",
       "      <th>40</th>\n",
       "      <td>Torres, T.</td>\n",
       "      <td>1</td>\n",
       "    </tr>\n",
       "    <tr>\n",
       "      <th>41</th>\n",
       "      <td>Torres-H., T.</td>\n",
       "      <td>2</td>\n",
       "    </tr>\n",
       "    <tr>\n",
       "      <th>42</th>\n",
       "      <td>Trujillo-Acosta, Angélica</td>\n",
       "      <td>17</td>\n",
       "    </tr>\n",
       "    <tr>\n",
       "      <th>43</th>\n",
       "      <td>Urbano, S.</td>\n",
       "      <td>145</td>\n",
       "    </tr>\n",
       "    <tr>\n",
       "      <th>44</th>\n",
       "      <td>Zuluaga-C., Juliana</td>\n",
       "      <td>3</td>\n",
       "    </tr>\n",
       "  </tbody>\n",
       "</table>\n",
       "</div>"
      ],
      "text/plain": [
       "                           colpri    0\n",
       "0                    Baptiste, H.    1\n",
       "1                  Cabrera, Diego    7\n",
       "2   Cabrera-Amaya, Diego Mauricio    2\n",
       "3                       Calbi, M.    2\n",
       "4                     Camacho, I.   15\n",
       "5                Camacho, Shirley    2\n",
       "6    Cortés-Ballén, Lorena Andrea    3\n",
       "7                     Fajardo, F.   80\n",
       "8              Fajardo, Francisco   30\n",
       "9                  Fajardo-G., F.   60\n",
       "10   Fajardo-Gutiérrez, Francisco    2\n",
       "11                       Jara, A.    1\n",
       "12                   Jara, Adolfo    8\n",
       "13         Lopera, María Catalina    2\n",
       "14  Lopera-Doncel, María Catalina    1\n",
       "15                    López, José    1\n",
       "16               López-Cruz, José    5\n",
       "17                   López-O., M.    1\n",
       "18                     Martín, R.   10\n",
       "19  Martínez-Peña, Myriam Liliana    5\n",
       "20                   Marín, César   18\n",
       "21                Medellín-Z., D.    3\n",
       "22             Medellín-Z., Diana    9\n",
       "23                Montoya, Angela    1\n",
       "24             Montoya-Q., Angela   26\n",
       "25            Morales-Rozo, Clara    1\n",
       "26                    Muñoz, José    1\n",
       "27                 Muñoz, José A.   58\n",
       "28                  Ocampo-Z., K.    1\n",
       "29               Orejuela, Andrés    2\n",
       "30       Orejuela-Ramírez, Andrés    2\n",
       "31         Pérez-Suárez, Verónica    1\n",
       "32                 Rivera, Yissel   51\n",
       "33              Rodríguez, Ángela   73\n",
       "34      Rodríguez-Alarcón, Slendy    2\n",
       "35               Rodríguez-C., A.    1\n",
       "36         Romero-Murcia, Johanna    2\n",
       "37              Rubiano, Kristian    1\n",
       "38                  Suárez, C. I.    2\n",
       "39            Suárez, Carlos Iván    1\n",
       "40                     Torres, T.    1\n",
       "41                  Torres-H., T.    2\n",
       "42      Trujillo-Acosta, Angélica   17\n",
       "43                     Urbano, S.  145\n",
       "44            Zuluaga-C., Juliana    3"
      ]
     },
     "execution_count": 23,
     "metadata": {},
     "output_type": "execute_result"
    }
   ],
   "source": [
    "colpri_map"
   ]
  },
  {
   "cell_type": "code",
   "execution_count": null,
   "id": "c4118e54",
   "metadata": {},
   "outputs": [
    {
     "data": {
      "text/plain": [
       "colpri\n",
       "Baptiste, H.                       1\n",
       "Cabrera, Diego                     7\n",
       "Cabrera-Amaya, Diego Mauricio      2\n",
       "Calbi, M.                          2\n",
       "Camacho, I.                       15\n",
       "Camacho, Shirley                   2\n",
       "Cortés-Ballén, Lorena Andrea       3\n",
       "Fajardo, F.                       80\n",
       "Fajardo, Francisco                30\n",
       "Fajardo-G., F.                    60\n",
       "Fajardo-Gutiérrez, Francisco       2\n",
       "Jara, A.                           1\n",
       "Jara, Adolfo                       8\n",
       "Lopera, María Catalina             2\n",
       "Lopera-Doncel, María Catalina      1\n",
       "López, José                        1\n",
       "López-Cruz, José                   5\n",
       "López-O., M.                       1\n",
       "Martín, R.                        10\n",
       "Martínez-Peña, Myriam Liliana      5\n",
       "Marín, César                      18\n",
       "Medellín-Z., D.                    3\n",
       "Medellín-Z., Diana                 9\n",
       "Montoya, Angela                    1\n",
       "Montoya-Q., Angela                26\n",
       "Morales-Rozo, Clara                1\n",
       "Muñoz, José                        1\n",
       "Muñoz, José A.                    58\n",
       "Ocampo-Z., K.                      1\n",
       "Orejuela, Andrés                   2\n",
       "Orejuela-Ramírez, Andrés           2\n",
       "Pérez-Suárez, Verónica             1\n",
       "Rivera, Yissel                    51\n",
       "Rodríguez, Ángela                 73\n",
       "Rodríguez-Alarcón, Slendy          2\n",
       "Rodríguez-C., A.                   1\n",
       "Romero-Murcia, Johanna             2\n",
       "Rubiano, Kristian                  1\n",
       "Suárez, C. I.                      2\n",
       "Suárez, Carlos Iván                1\n",
       "Torres, T.                         1\n",
       "Torres-H., T.                      2\n",
       "Trujillo-Acosta, Angélica         17\n",
       "Urbano, S.                       145\n",
       "Zuluaga-C., Juliana                3\n",
       "dtype: int64"
      ]
     },
     "metadata": {},
     "output_type": "display_data"
    }
   ],
   "source": [
    "ori.loc[ori.colde.isna() & ori.colpri.notna()].groupby('colpri').size()"
   ]
  },
  {
   "cell_type": "code",
   "execution_count": 22,
   "id": "402c0a49",
   "metadata": {},
   "outputs": [
    {
     "data": {
      "text/plain": [
       "Determinador en fuente  Determinador Depurado\n",
       "!A. Alvarez (NY),       Álvarez, A.                1\n",
       "!D. Grimm (CAS),        Grimm, D.                  1\n",
       "!J. Pruski (MO),        Pruski, J.                 1\n",
       "!K. Burt-Utley (NOLS),  Burt-Utley, K.             1\n",
       "!L. Ferrufino (B),      Ferrufino, L.              1\n",
       "                                                ... \n",
       "Ávila                   Ávila                      3\n",
       "Ávila, A.               Ávila, A.                  1\n",
       "                        Ávila, F.                 10\n",
       "Ávila, Andrés           Ávila, F.                  2\n",
       "Ávila, F.               Ávila, F.                127\n",
       "Length: 1884, dtype: int64"
      ]
     },
     "execution_count": 22,
     "metadata": {},
     "output_type": "execute_result"
    }
   ],
   "source": [
    "ori.groupby(['Determinador en fuente', 'Determinador Depurado']).size()"
   ]
  },
  {
   "cell_type": "code",
   "execution_count": 21,
   "id": "406b5f54",
   "metadata": {},
   "outputs": [
    {
     "data": {
      "text/html": [
       "<div>\n",
       "<style scoped>\n",
       "    .dataframe tbody tr th:only-of-type {\n",
       "        vertical-align: middle;\n",
       "    }\n",
       "\n",
       "    .dataframe tbody tr th {\n",
       "        vertical-align: top;\n",
       "    }\n",
       "\n",
       "    .dataframe thead th {\n",
       "        text-align: right;\n",
       "    }\n",
       "</style>\n",
       "<table border=\"1\" class=\"dataframe\">\n",
       "  <thead>\n",
       "    <tr style=\"text-align: right;\">\n",
       "      <th></th>\n",
       "      <th>Referencia bibligráfica</th>\n",
       "      <th>0</th>\n",
       "    </tr>\n",
       "  </thead>\n",
       "  <tbody>\n",
       "    <tr>\n",
       "      <th>168</th>\n",
       "      <td>de Souza-Secco, R. (2004). Alchorneae (Euphorb...</td>\n",
       "      <td>1</td>\n",
       "    </tr>\n",
       "    <tr>\n",
       "      <th>105</th>\n",
       "      <td>Mora-Osejo, L. E. (1978). Nuevas especies de G...</td>\n",
       "      <td>1</td>\n",
       "    </tr>\n",
       "    <tr>\n",
       "      <th>24</th>\n",
       "      <td>Core, E. L. (1948). The genus Scleria in Colom...</td>\n",
       "      <td>1</td>\n",
       "    </tr>\n",
       "    <tr>\n",
       "      <th>55</th>\n",
       "      <td>Forero-González, E., Piñeros, Z., &amp; Barbosa, C...</td>\n",
       "      <td>1</td>\n",
       "    </tr>\n",
       "    <tr>\n",
       "      <th>27</th>\n",
       "      <td>Cuatrecasas, J. M. (1940). Estudios sobre plan...</td>\n",
       "      <td>1</td>\n",
       "    </tr>\n",
       "    <tr>\n",
       "      <th>...</th>\n",
       "      <td>...</td>\n",
       "      <td>...</td>\n",
       "    </tr>\n",
       "    <tr>\n",
       "      <th>64</th>\n",
       "      <td>Garzón de Pérez, M. R. (1993). Flora del Páram...</td>\n",
       "      <td>555</td>\n",
       "    </tr>\n",
       "    <tr>\n",
       "      <th>90</th>\n",
       "      <td>Londoño-Botero, R., Barrera-Lobatón, S., Franc...</td>\n",
       "      <td>559</td>\n",
       "    </tr>\n",
       "    <tr>\n",
       "      <th>26</th>\n",
       "      <td>Cortés-Sánchez, S. P., Hammen, T. van der, &amp; R...</td>\n",
       "      <td>645</td>\n",
       "    </tr>\n",
       "    <tr>\n",
       "      <th>121</th>\n",
       "      <td>Pedraza-Peñalosa, P., Betancur, J., &amp; Franco-R...</td>\n",
       "      <td>1377</td>\n",
       "    </tr>\n",
       "    <tr>\n",
       "      <th>120</th>\n",
       "      <td>Pedraza-Peñalosa, P. (2000). Las plantas con f...</td>\n",
       "      <td>1410</td>\n",
       "    </tr>\n",
       "  </tbody>\n",
       "</table>\n",
       "<p>169 rows × 2 columns</p>\n",
       "</div>"
      ],
      "text/plain": [
       "                               Referencia bibligráfica     0\n",
       "168  de Souza-Secco, R. (2004). Alchorneae (Euphorb...     1\n",
       "105  Mora-Osejo, L. E. (1978). Nuevas especies de G...     1\n",
       "24   Core, E. L. (1948). The genus Scleria in Colom...     1\n",
       "55   Forero-González, E., Piñeros, Z., & Barbosa, C...     1\n",
       "27   Cuatrecasas, J. M. (1940). Estudios sobre plan...     1\n",
       "..                                                 ...   ...\n",
       "64   Garzón de Pérez, M. R. (1993). Flora del Páram...   555\n",
       "90   Londoño-Botero, R., Barrera-Lobatón, S., Franc...   559\n",
       "26   Cortés-Sánchez, S. P., Hammen, T. van der, & R...   645\n",
       "121  Pedraza-Peñalosa, P., Betancur, J., & Franco-R...  1377\n",
       "120  Pedraza-Peñalosa, P. (2000). Las plantas con f...  1410\n",
       "\n",
       "[169 rows x 2 columns]"
      ]
     },
     "execution_count": 21,
     "metadata": {},
     "output_type": "execute_result"
    }
   ],
   "source": [
    "ori.groupby(['Referencia bibligráfica']).size().reset_index().sort_values(0)"
   ]
  },
  {
   "cell_type": "markdown",
   "id": "4e17d136",
   "metadata": {},
   "source": [
    "-------"
   ]
  },
  {
   "cell_type": "code",
   "execution_count": null,
   "id": "50ffb7d3",
   "metadata": {},
   "outputs": [],
   "source": [
    "# Multispecies hybrids\n",
    "\n",
    "taxa_map.loc[taxa_map.Name_submitted.str.contains('×') & \n",
    "\ttaxa_map.Name_matched.notna() & \n",
    "\t~taxa_map.Name_matched.str.contains(r'×',na=False)]"
   ]
  },
  {
   "cell_type": "markdown",
   "id": "6c43f390",
   "metadata": {},
   "source": [
    "-------"
   ]
  },
  {
   "cell_type": "code",
   "execution_count": null,
   "id": "e8e3ddef",
   "metadata": {},
   "outputs": [],
   "source": [
    "df = pd.read_sql(sql='SELECT * FROM Taxa', con=connection)"
   ]
  },
  {
   "cell_type": "code",
   "execution_count": null,
   "id": "f5893308",
   "metadata": {},
   "outputs": [],
   "source": [
    "df"
   ]
  },
  {
   "cell_type": "code",
   "execution_count": null,
   "id": "f5e69375",
   "metadata": {},
   "outputs": [],
   "source": [
    "#connection.execute(text('SET FOREIGN_KEY_CHECKS = 1'))"
   ]
  },
  {
   "cell_type": "code",
   "execution_count": 12,
   "id": "18445158",
   "metadata": {},
   "outputs": [],
   "source": [
    "connection.close()"
   ]
  }
 ],
 "metadata": {
  "kernelspec": {
   "display_name": "base",
   "language": "python",
   "name": "python3"
  },
  "language_info": {
   "codemirror_mode": {
    "name": "ipython",
    "version": 3
   },
   "file_extension": ".py",
   "mimetype": "text/x-python",
   "name": "python",
   "nbconvert_exporter": "python",
   "pygments_lexer": "ipython3",
   "version": "3.12.4"
  }
 },
 "nbformat": 4,
 "nbformat_minor": 5
}
