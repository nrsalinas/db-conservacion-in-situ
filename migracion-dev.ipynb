{
 "cells": [
  {
   "cell_type": "markdown",
   "id": "a4ef9551",
   "metadata": {},
   "source": [
    "# Mapeo campos \n",
    "\n",
    "|Fuente | Sources |\n",
    "|---|---|\n",
    "|Nombre base para flora de Bogota | Taxa |\n",
    "|Comentario de validación | Taxa.Comment |\n",
    "|Para revisión | Taxa.CheckPriority 0 or 1 |\n",
    "|Endemica | Taxa.Distribution |\n",
    "|Estado de amenaza | RedListAssessments with Standard='JBB'\n",
    "|Origen y status | Origins |\n",
    "|Trabajo de No nativas Flora de Bogotá | Origins.Type???\n",
    "|Determinador en fuente | Identifications.IdentifiedBy Merge with next field |\n",
    "|Determinador Depurado | Identifications.IdentifiedBy |\n",
    "|Calificador en fuente | Identifications.Certainty |\n",
    "|Fecha_Determinacion en fuente | Identifications.Date |\n",
    "|Fecha_Determinacion_(Year) | Identifications.Date |\n",
    "|Fecha_Determinacion_(Month) | Identifications.Date |\n",
    "|Fecha_Determinacion_(Day) | Identifications.Date |\n",
    "|State | Areas |\n",
    "|County | Areas |\n",
    "|Localidad | Locations |\n",
    "|Código de localidad georreferenciada | Locations.BD2020ID |\n",
    "|Latitud_original | Locations.Latitude |\n",
    "|Longitud_original | Locations.Longitud |\n",
    "|Elev__minima | Locations.ElevationMin |\n",
    "|Elev__maxima | Locations.ElevationMax |\n",
    "|Latitud_decimal | Geocodings.InterpretedLat, Geocoder is DB_2020 |\n",
    "|Longitud_decimal | Geocodings.InterpretedLon, Geocoder is DB_2020 |\n",
    "|Latitud para trabajo de mapas | Geocodings.InterpretedLat, Geocoder is mapas_2020 |\n",
    "|Longitud para trabajo de mapas | Geocodings.InterpretedLon, Geocoder is mapas_2020 |\n",
    "|Extensión de georreferenciación | Geocodins.Uncertainty ???\n",
    "|DATUM | Geocodings.Datum |\n",
    "|Colector depurado | Occurrences.Collector |\n",
    "|Colector principal | If no colector depurado, Occurrences.Collector, otherwise Occurrences.CollectorVerbatim  |\n",
    "|Número de colector | Occurrences.CollectionNumber & Occurrences.CollectionNumberVerbatim |\n",
    "|Fecha_Inicial_(Year) | Occurrences.DateInit, Occurrences.DateEnd |\n",
    "|Fecha_Inicial_(Month) | Occurrences.DateInit, Occurrences.DateEnd |\n",
    "|Fecha_Inicial_(day) | Occurrences.DateInit, Occurrences.DateEnd |\n",
    "|Notas_Localidad_y_Habitat | Occurrences.Comment  |\n",
    "|Fenologia | Occurrences.PhenoState |\n",
    "|Descripcion ejemplar | Occurrences.Comment |\n",
    "|Usos | Occurrences.Use |\n",
    "|Nombres_comunes | Occurrences.CommonName |\n",
    "|Comentarios generales | Occurrences.Comment |\n",
    "|Referencia bibligráfica | Occurrence.Sources |\n",
    "|Numero original en Base 2015 | Occurrence.DB2015ID |\n",
    "|Origen para herbario | Specimens.Institution  |\n",
    "|Número de identificación | Specimens.SpecimenCode |\n",
    "|Fecha_Inicial | REMOVE |\n",
    "|Notas de altura | REMOVE ???????\n",
    "|Familia Revisada | REMOVE |\n",
    "|Género revisado | REMOVE |\n",
    "|Comentarios de determinación en fuente | REMOVE |\n",
    "|Nivel taxonómico | REMOVE, info retrieved from TPRS |\n",
    "|Familia en fuente | REMOVE  |\n",
    "|Género en fuente | REMOVE  |\n",
    "|Epíteto específico en fuente | REMOVE  |\n",
    "|Autor del epíteto específico en fuente | REMOVE  |\n",
    "|Epíteto infraespecífico | REMOVE  |\n",
    "|Autor del infraespecífico en fuente | REMOVE  |\n",
    "|Nombre científico en fuente | REMOVE  |\n",
    "|Nombre validado | REMOVE  |\n",
    "|Nivel taxonómico en fuente | REMOVE  |\n",
    "|Herbario de proveniencia | REMOVE  |"
   ]
  },
  {
   "cell_type": "code",
   "execution_count": 1,
   "id": "0c38d22a",
   "metadata": {},
   "outputs": [],
   "source": [
    "from sqlalchemy import create_engine, text\n",
    "import pandas as pd\n",
    "import numpy as np\n",
    "\n",
    "import requests\n",
    "import json\n",
    "import re\n",
    "import time\n",
    "from datetime import datetime\n",
    "\n",
    "import pykew.powo as powo\n",
    "from pygbif import species, registry\n",
    "\n",
    "import credentials"
   ]
  },
  {
   "cell_type": "code",
   "execution_count": 267,
   "id": "ab566bb1",
   "metadata": {},
   "outputs": [],
   "source": [
    "conn_str = 'mysql+mysqlconnector://' + \\\n",
    "\tf\"{credentials.mysql['username']}:{credentials.mysql['password']}\" + \\\n",
    "\t'@localhost:3306/Mutis'\n",
    "engine = create_engine(conn_str)\n",
    "connection = engine.connect()"
   ]
  },
  {
   "cell_type": "code",
   "execution_count": null,
   "id": "f976f08e",
   "metadata": {},
   "outputs": [],
   "source": [
    "#connection.execute(text('SET FOREIGN_KEY_CHECKS = 0'))"
   ]
  },
  {
   "cell_type": "code",
   "execution_count": null,
   "id": "8b6397b0",
   "metadata": {},
   "outputs": [],
   "source": [
    "orifile = '../Datos/Flora_de_Bogota/Registros_2020/FlBogota2020.csv'\n",
    "ori = pd.read_csv(orifile, dtype={'Elev__minima': str, 'Elev__maxima': str})"
   ]
  },
  {
   "cell_type": "code",
   "execution_count": null,
   "id": "1ce0c8d1",
   "metadata": {},
   "outputs": [],
   "source": [
    "tnrs_url = 'https://tnrsapi.xyz/tnrs_api.php'"
   ]
  },
  {
   "cell_type": "code",
   "execution_count": null,
   "id": "54177b49",
   "metadata": {},
   "outputs": [],
   "source": [
    "def tropicos(name, api_key):\n",
    "\tservice = 'http://services.tropicos.org/name'\n",
    "\tr = requests.get(\n",
    "\t\tf'{service}/search/?apikey={api_key}&name={name}&format=json'\n",
    "\t)\n",
    "\t#s = requests.get(\n",
    "\t#\tf'{service}/{r['NameId']}/highertaxa/?apikey={api_key}&name={name}&format=json'\n",
    "\t#)\n",
    "\t\n",
    "\treturn r.json()\n"
   ]
  },
  {
   "cell_type": "code",
   "execution_count": null,
   "id": "9d854693",
   "metadata": {},
   "outputs": [],
   "source": [
    "def powo_query(name):\n",
    "\tact_name = ''\n",
    "\tbits = re.split(r'\\s+', name)\n",
    "\n",
    "\tif bits[0] == '×' or bits[1] == '×':\n",
    "\t\tact_name = ' '.join(bits[:3])\n",
    "\telse:\n",
    "\t\tact_name = ' '.join(bits[:2])\n",
    "\t\n",
    "\tr = powo.search(act_name)\n",
    "\n",
    "\tif r.size() == 1:\n",
    "\t\tresults = [i for i in r]\n",
    "\t\treturn (results[0]['name'], results[0]['author'], results[0]['rank'])\n",
    "\t\n",
    "\telif r.size() > 1:\n",
    "\t\treturn f'Multiples results with name {name}'\n",
    "\t\n",
    "\telse:\n",
    "\t\treturn f'No results with name {name}'"
   ]
  },
  {
   "cell_type": "markdown",
   "id": "31b7e126",
   "metadata": {},
   "source": [
    "### Si la consulta a TNRS ya fue realizada y los resultados guardados:"
   ]
  },
  {
   "cell_type": "code",
   "execution_count": null,
   "id": "d02e38e2",
   "metadata": {},
   "outputs": [],
   "source": [
    "# Map between original name and corrected version by TNRS\n",
    "taxa_map_file = 'tnrs_query.csv'\n",
    "taxa_map = pd.read_csv(taxa_map_file)"
   ]
  },
  {
   "cell_type": "markdown",
   "id": "895dfcbc",
   "metadata": {},
   "source": [
    "### De lo contrario, aqui se realiza la consulta"
   ]
  },
  {
   "cell_type": "code",
   "execution_count": null,
   "id": "2a6a919c",
   "metadata": {},
   "outputs": [],
   "source": [
    "orinames = ori['Nombre base para flora de Bogota'].unique()\n",
    "query = [[i, j] for i,j in enumerate(orinames) if pd.notna(j)]\n",
    "\n",
    "r = requests.post(\n",
    "\ttnrs_url, \n",
    "\theaders={\"Content-Type\": \"application/json\"},\n",
    "\tdata=json.dumps({\n",
    "\t\t'data': query,\n",
    "\t\t'opts': {\n",
    "\t\t\t'sources': ['wcvp','wfo'],\n",
    "\t\t\t'class': 'wcvp',\n",
    "\t\t\t'mode': 'resolve',\n",
    "\t\t\t'matches' : 'best'\n",
    "\t\t}\t\t\n",
    "\t})\t\n",
    ")"
   ]
  },
  {
   "cell_type": "code",
   "execution_count": null,
   "id": "376d5637",
   "metadata": {},
   "outputs": [],
   "source": [
    "taxa_map = pd.DataFrame.from_records(results)\n",
    "taxa_map.to_csv('tnrs_query.csv', index=False)"
   ]
  },
  {
   "cell_type": "code",
   "execution_count": null,
   "id": "2ef9d7ca",
   "metadata": {},
   "outputs": [],
   "source": [
    "taxa_map.loc[taxa_map.Overall_score == '', 'Overall_score'] = 'NAN'\n",
    "taxa_map['Overall_score'] = taxa_map.Overall_score.astype(np.float32)"
   ]
  },
  {
   "cell_type": "markdown",
   "id": "b6d09fdb",
   "metadata": {},
   "source": [
    "# Aqui se continua la normalizacion de nombres"
   ]
  },
  {
   "cell_type": "markdown",
   "id": "a8983612",
   "metadata": {},
   "source": [
    "### Consulta a POWO de hibridos"
   ]
  },
  {
   "cell_type": "markdown",
   "id": "d8bc8f22",
   "metadata": {},
   "source": [
    "Primero remover hibridos no publicados, solo se registran a nivel de determinacion"
   ]
  },
  {
   "cell_type": "code",
   "execution_count": null,
   "id": "cc812e33",
   "metadata": {},
   "outputs": [],
   "source": [
    "taxa_map = taxa_map.drop(\n",
    "\tindex=taxa_map.loc[taxa_map.Name_submitted.str.contains(r'Salvia [\\w\\.\\s]+ ×')].index\n",
    ")"
   ]
  },
  {
   "cell_type": "code",
   "execution_count": null,
   "id": "9701ecbe",
   "metadata": {},
   "outputs": [],
   "source": [
    "for row in taxa_map.loc[taxa_map.Name_submitted.str.contains('×')].itertuples():\n",
    "\t#print(row.Name_submitted)\n",
    "\tpo = powo_query(row.Name_submitted)\n",
    "\tif isinstance(po, tuple):\n",
    "\t\ttaxa_map.loc[row.Index, 'Name_matched'] = po[0]\n",
    "\t\ttaxa_map.loc[row.Index, 'Author_matched'] = po[1]\n",
    "\t\ttaxa_map.loc[row.Index, 'Name_matched_rank'] = po[2].lower()\n",
    "\telse:\n",
    "\t\tprint(po)\n",
    "\ttime.sleep(1)"
   ]
  },
  {
   "cell_type": "code",
   "execution_count": null,
   "id": "b48e2ec3",
   "metadata": {},
   "outputs": [],
   "source": [
    "# Manually correct names couldn't be matched easily by POWO,\n",
    "# but there is a simple solution there \n",
    "\n",
    "taxa_map.loc[\n",
    "\t(taxa_map.Name_submitted.str.startswith('Pelargonium × hortorum')), \n",
    "\t['Name_matched', 'Author_matched', 'Name_matched_rank']\n",
    "\t] = ('Pelargonium × hortorum', 'L.H.Bailey', 'species')\n",
    "\n",
    "taxa_map.loc[\n",
    "\t(taxa_map.Name_submitted.str.startswith('Abelia × grandiflora')), \n",
    "\t['Name_matched', 'Author_matched', 'Name_matched_rank']\n",
    "\t] = ('Abelia × grandiflora', '(Rovelli ex André) Rehder', 'species')\n",
    "\n",
    "taxa_map.loc[\n",
    "\t(taxa_map.Name_submitted.str.startswith('Lavatera × clementii')), \n",
    "\t['Name_matched', 'Author_matched', 'Name_matched_rank']\n",
    "\t] = ('Lavatera × clementii', 'Cheek', 'species')\n",
    "\n",
    "taxa_map.loc[\n",
    "\t(taxa_map.Name_submitted.str.startswith('Polygala × dalmasiana')), \n",
    "\t['Name_matched', 'Author_matched', 'Name_matched_rank']\n",
    "\t] = ('Polygala', np.nan, 'genus')\n",
    "\n",
    "taxa_map.loc[\n",
    "\t(taxa_map.Name_submitted.str.startswith('Epidendrum chicoense')), \n",
    "\t['Name_matched', 'Author_matched', 'Name_matched_rank']\n",
    "\t] = ('Epidendrum', np.nan, 'genus')\n",
    "\n",
    "taxa_map.loc[\n",
    "\t(taxa_map.Name_submitted.str.startswith('Plantae')), \n",
    "\t['Name_matched', 'Author_matched', 'Name_matched_rank']\n",
    "\t] = (np.nan, np.nan, np.nan)\n",
    "\n",
    "# TNRS couldn't get appropriate response for the following\n",
    "\n",
    "taxa_map.loc[\n",
    "\t(taxa_map.Name_submitted.str.startswith('Callianthe striata')), \n",
    "\t['Name_matched', 'Author_matched', 'Name_matched_rank']\n",
    "\t] = ('Callianthe striata', '(G.F.Dicks. ex Lindl.) Donnell', 'species')\n",
    "\n",
    "taxa_map.loc[\n",
    "\t(taxa_map.Name_submitted.str.startswith('Phlegmariurus acifolius')), \n",
    "\t['Name_matched', 'Author_matched', 'Name_matched_rank']\n",
    "\t] = ('Phlegmariurus acifolius', '(Rolleri) B.Øllg.', 'species')\n"
   ]
  },
  {
   "cell_type": "code",
   "execution_count": null,
   "id": "a7903ff6",
   "metadata": {},
   "outputs": [],
   "source": [
    "# Save eliminated binomials from the database, they probably are invalid or unpublished names\n",
    "taxa_map.loc[(taxa_map.Overall_score < 0.9) & (taxa_map.Name_matched_rank == 'genus'),\n",
    "\t['Name_submitted', 'Name_matched', 'Name_matched_rank']\n",
    "\t].to_csv('binomios_eliminados.csv', index=False)"
   ]
  },
  {
   "cell_type": "code",
   "execution_count": null,
   "id": "9d3cba9d",
   "metadata": {},
   "outputs": [],
   "source": [
    "# Remove lichens: Ramalina, Usnea, Sticta, Candelariella\n",
    "# Remove general indets: 'Pteridophyta', 'Magnoliophyta', 'Plantae', 'Tracheophyta'\n",
    "\n",
    "taxa_map = taxa_map.drop(\n",
    "\tindex=taxa_map[taxa_map.Name_submitted.isin([\n",
    "\t\t'Ramalina', 'Usnea', 'Sticta', 'Candelariella',\n",
    "\t\t'Pteridophyta', 'Magnoliophyta', 'Plantae', 'Tracheophyta'\n",
    "\t])].index\n",
    ")"
   ]
  },
  {
   "cell_type": "code",
   "execution_count": null,
   "id": "daf36b28",
   "metadata": {},
   "outputs": [],
   "source": [
    "taxa_map.to_csv('taxa_map.csv', index=False)"
   ]
  },
  {
   "cell_type": "markdown",
   "id": "e268e759",
   "metadata": {},
   "source": [
    "### Obtener jerarquía taxonómica de World Flora Online"
   ]
  },
  {
   "cell_type": "code",
   "execution_count": null,
   "id": "c8a7f4a0",
   "metadata": {},
   "outputs": [],
   "source": [
    "taxa_map = pd.read_csv('taxa_map.csv')"
   ]
  },
  {
   "cell_type": "code",
   "execution_count": null,
   "id": "541d62e2",
   "metadata": {},
   "outputs": [],
   "source": [
    "wfo_file = '../../Botanical_databases/world_flora_online/classification.csv'"
   ]
  },
  {
   "cell_type": "code",
   "execution_count": null,
   "id": "0b052125",
   "metadata": {},
   "outputs": [],
   "source": [
    "datyp = {'localID':str, 'subfamily': str, 'tribe': str, 'subtribe': str, \n",
    " \t'subgenus':str, 'infraspecificEpithet': str, 'tplID': str}"
   ]
  },
  {
   "cell_type": "code",
   "execution_count": null,
   "id": "1c2ea82b",
   "metadata": {},
   "outputs": [],
   "source": [
    "wfo = pd.read_csv(wfo_file, sep='\\t', encoding='latin', dtype=datyp)"
   ]
  },
  {
   "cell_type": "code",
   "execution_count": null,
   "id": "5e900b99",
   "metadata": {},
   "outputs": [],
   "source": [
    "taxa_in = taxa_map.groupby(['Name_matched','Author_matched']\n",
    "\t).size(\n",
    "\t).reset_index(\n",
    "\t).drop(columns=0\n",
    "\t).rename(columns={'Name_matched': 'Name', 'Author_matched':'Author'})"
   ]
  },
  {
   "cell_type": "code",
   "execution_count": null,
   "id": "7aff1f62",
   "metadata": {},
   "outputs": [],
   "source": [
    "# For some reason Passiflora tripartita is retrieved twice, one with the wrong authorship\n",
    "taxa_in = taxa_in.drop(\n",
    "\tindex=taxa_in[\n",
    "\t\t(taxa_in.Name == 'Passiflora tripartita') & \n",
    "\t\t(taxa_in.Author == '(Juss.) Poir.')\n",
    "\t].index).reset_index()"
   ]
  },
  {
   "cell_type": "code",
   "execution_count": null,
   "id": "c79c1cc1",
   "metadata": {},
   "outputs": [],
   "source": [
    "def get_family(name):\n",
    "\tret = np.nan\n",
    "\tif pd.isna(name): return np.nan\n",
    "\tbits = re.split(r'\\s+', name)\n",
    "\tnname = bits[0]\n",
    "\tout = wfo.loc[(wfo.scientificName == nname) & (wfo.taxonRank == 'genus')]\n",
    "\n",
    "\tif out.shape[0] == 1: \n",
    "\t\tret =  out['family'].item()\n",
    "\t\n",
    "\telif out.shape[0] > 1:\n",
    "\n",
    "\t\tif out[out['nomenclaturalStatus'] == 'Valid'].shape[0] == 1:\n",
    "\t\t\tret =  out.loc[out['nomenclaturalStatus'] == 'Valid', 'family'].item()\n",
    "\n",
    "\t\telif out[out['taxonomicStatus'] == 'Accepted'].shape[0] == 1:\n",
    "\t\t\tret =  out.loc[out['taxonomicStatus'] == 'Accepted', 'family'].item()\n",
    "\n",
    "\t\telse:\n",
    "\t\t\tif len(bits) > 1: nname = f'{bits[0]} {bits[1]}'\n",
    "\t\t\tout = wfo.loc[(wfo.scientificName == nname)]\n",
    "\t\t\tfams = out.family.unique()\n",
    "\t\t\tfams = [x for x in fams if pd.notna(x)]\n",
    "\n",
    "\t\t\tif len(fams) == 1:\n",
    "\t\t\t\tret =  fams[0]\t\t\n",
    "\t\t\n",
    "\telif out.shape[0] < 1 and re.search(r'\\w+aceae$', nname):\n",
    "\t\tout = wfo.loc[(wfo.scientificName == nname) & (wfo.taxonRank == 'family')]\n",
    "\t\tfams = out.family.unique()\n",
    "\t\tfams = [x for x in fams if pd.notna(x)]\n",
    "\n",
    "\t\tif len(fams) == 1:\n",
    "\t\t\tret =  fams[0]\n",
    "\n",
    "\treturn ret\n"
   ]
  },
  {
   "cell_type": "code",
   "execution_count": null,
   "id": "ab25c446",
   "metadata": {},
   "outputs": [],
   "source": [
    "taxa_in['wfo_family'] = taxa_in.Name.apply(get_family)"
   ]
  },
  {
   "cell_type": "code",
   "execution_count": null,
   "id": "1eb8d76a",
   "metadata": {},
   "outputs": [],
   "source": [
    "# Some missing names in World Flora Online\n",
    "taxa_in.loc[taxa_in.Name == 'Hydrophyllaceae', 'wfo_family'] = 'Hydrophyllaceae'\n",
    "taxa_in.loc[taxa_in.Name == 'Stemmatella', 'wfo_family'] = 'Asteraceae'\n",
    "taxa_in.loc[taxa_in.Name == 'Coniza', 'wfo_family'] = 'Asteraceae'\n",
    "taxa_in.loc[taxa_in.Name == '× Agropogon lutosus', 'wfo_family'] = 'Poaceae'\n"
   ]
  },
  {
   "cell_type": "code",
   "execution_count": null,
   "id": "9b219adc",
   "metadata": {},
   "outputs": [],
   "source": [
    "famis = taxa_in.groupby('wfo_family'\n",
    "\t).size(\n",
    "\t).reset_index(\n",
    "\t)"
   ]
  },
  {
   "cell_type": "code",
   "execution_count": null,
   "id": "aa7243a6",
   "metadata": {},
   "outputs": [],
   "source": [
    "def get_papa(name):\n",
    "\tret = np.nan\n",
    "\n",
    "\tif pd.notna(name):\n",
    "\t\tout = wfo.loc[(wfo.scientificName == name), 'parentNameUsageID']\n",
    "\t\tth = [x for x in out if pd.notna(x)]\n",
    "\t\t\n",
    "\t\tif len(th) == 1:\n",
    "\t\t\tparid = th[0]\n",
    "\t\t\tret = wfo.loc[(wfo.taxonID == parid), 'scientificName'].item()\n",
    "\t\n",
    "\treturn ret"
   ]
  },
  {
   "cell_type": "code",
   "execution_count": null,
   "id": "4f16aa19",
   "metadata": {},
   "outputs": [],
   "source": [
    "famis['wfo_order'] = famis.wfo_family.apply(get_papa)"
   ]
  },
  {
   "cell_type": "code",
   "execution_count": null,
   "id": "73872bb8",
   "metadata": {},
   "outputs": [],
   "source": [
    "famis.loc[famis.wfo_family == 'Hydrophyllaceae', 'wfo_order'] = 'Solanales'"
   ]
  },
  {
   "cell_type": "code",
   "execution_count": null,
   "id": "7a5bf05e",
   "metadata": {},
   "outputs": [],
   "source": [
    "famis['wfo_clade'] = famis.wfo_order.apply(get_papa)"
   ]
  },
  {
   "cell_type": "code",
   "execution_count": null,
   "id": "01ffd7f2",
   "metadata": {},
   "outputs": [],
   "source": [
    "taxa_in = taxa_in.merge(famis, 'left', 'wfo_family')"
   ]
  },
  {
   "cell_type": "code",
   "execution_count": null,
   "id": "92aa85d0",
   "metadata": {},
   "outputs": [],
   "source": [
    "taxa_in.drop(columns=0).to_csv('taxa_in.csv', index=False)"
   ]
  },
  {
   "cell_type": "markdown",
   "id": "7d3e6569",
   "metadata": {},
   "source": [
    "### Verificación de nombres realizada y previamente guardada localmente\n",
    "\n",
    "Abajo se formalizan las jerarquías dado el diseño de la tabla Taxa en la DB"
   ]
  },
  {
   "cell_type": "code",
   "execution_count": null,
   "id": "df2bd006",
   "metadata": {},
   "outputs": [],
   "source": [
    "taxa_in = pd.read_csv('taxa_in.csv')"
   ]
  },
  {
   "cell_type": "code",
   "execution_count": null,
   "id": "02230785",
   "metadata": {},
   "outputs": [],
   "source": [
    "taxa_in = taxa_in.reset_index(drop=True)"
   ]
  },
  {
   "cell_type": "code",
   "execution_count": null,
   "id": "9d182e6c",
   "metadata": {},
   "outputs": [],
   "source": [
    "taxa_in['TaxonID'] = taxa_in.index + 1"
   ]
  },
  {
   "cell_type": "code",
   "execution_count": null,
   "id": "02eb0167",
   "metadata": {},
   "outputs": [],
   "source": [
    "taxa_in[['CheckPriority', 'Distribution', 'Parent']] = np.nan, np.nan, np.nan"
   ]
  },
  {
   "cell_type": "code",
   "execution_count": null,
   "id": "f7626228",
   "metadata": {},
   "outputs": [],
   "source": [
    "oriname = 'Nombre base para flora de Bogota'\n",
    "\n",
    "for row in taxa_in.itertuples():\n",
    "\t\n",
    "\tqu = (ori[oriname] == row.Name) & (ori.Endemica == 'SI')\n",
    "\t\n",
    "\tif ori.loc[qu].shape[0] > 0:\n",
    "\t\ttaxa_in.loc[taxa_in.Name == row.Name, 'Distribution'] = 0\n",
    "\n",
    "\tqu = (ori[oriname] == row.Name) & (ori['Para revisión'] == 'SI')\n",
    "\t\n",
    "\tif ori.loc[qu].shape[0] > 0:\n",
    "\t\ttaxa_in.loc[taxa_in.Name == row.Name, 'CheckPriority'] = 5"
   ]
  },
  {
   "cell_type": "code",
   "execution_count": null,
   "id": "366f204c",
   "metadata": {},
   "outputs": [],
   "source": [
    "last_id = taxa_in.TaxonID.iloc[-1]"
   ]
  },
  {
   "cell_type": "code",
   "execution_count": null,
   "id": "a26b634f",
   "metadata": {},
   "outputs": [],
   "source": [
    "for th in taxa_in.wfo_clade.unique():\n",
    "\tqu = taxa_in.loc[taxa_in.Name == th]\n",
    "\tif qu.shape[0] == 0:\n",
    "\t\tlast_id += 1\n",
    "\t\trec = {i:np.nan for i in taxa_in.columns}\n",
    "\t\trec['Name'] = th\n",
    "\t\trec['TaxonID'] = last_id\n",
    "\t\ttaxa_in = pd.concat([\n",
    "\t\t\ttaxa_in, \n",
    "\t\t\tpd.DataFrame.from_records([rec])\n",
    "\t\t])\n"
   ]
  },
  {
   "cell_type": "code",
   "execution_count": null,
   "id": "3ab888a9",
   "metadata": {},
   "outputs": [],
   "source": [
    "for th in taxa_in.wfo_order[taxa_in.wfo_order.notna()].unique():\n",
    "\tqu = taxa_in.loc[taxa_in.Name == th]\n",
    "\tif qu.shape[0] == 0:\n",
    "\t\tlast_id += 1\n",
    "\t\tpapa = taxa_in.loc[taxa_in.wfo_order == th, 'wfo_clade'].iloc[0]\n",
    "\t\tpapaid = taxa_in.loc[taxa_in.Name == papa, 'TaxonID'].iloc[0]\n",
    "\t\trec = {i:np.nan for i in taxa_in.columns}\n",
    "\t\trec['Name'] = th\n",
    "\t\trec['Parent'] = papaid\n",
    "\t\trec['TaxonID'] = last_id\n",
    "\t\ttaxa_in = pd.concat([\n",
    "\t\t\ttaxa_in, \n",
    "\t\t\tpd.DataFrame.from_records([rec])\n",
    "\t\t])\n"
   ]
  },
  {
   "cell_type": "code",
   "execution_count": null,
   "id": "d0aed830",
   "metadata": {},
   "outputs": [],
   "source": [
    "for th in taxa_in.wfo_family[taxa_in.wfo_family.notna()].unique():\n",
    "\tqu = taxa_in.loc[taxa_in.Name == th]\n",
    "\tif qu.shape[0] == 0:\n",
    "\t\tlast_id += 1\n",
    "\t\tpapa = taxa_in.loc[taxa_in.wfo_family == th, 'wfo_order'].iloc[0]\n",
    "\t\tpapaid = taxa_in.loc[taxa_in.Name == papa, 'TaxonID'].iloc[0]\n",
    "\t\trec = {i:np.nan for i in taxa_in.columns}\n",
    "\t\trec['Name'] = th\n",
    "\t\trec['Parent'] = papaid\n",
    "\t\trec['TaxonID'] = last_id\n",
    "\t\ttaxa_in = pd.concat([\n",
    "\t\t\ttaxa_in, \n",
    "\t\t\tpd.DataFrame.from_records([rec])\n",
    "\t\t])\n",
    "\telse:\n",
    "\t\tpapa = taxa_in.loc[taxa_in.wfo_family == th, 'wfo_order'].iloc[0]\n",
    "\t\tpapaid = taxa_in.loc[taxa_in.Name == papa, 'TaxonID'].iloc[0]\n",
    "\t\ttaxa_in.loc[taxa_in.Name == th, 'Parent'] = papaid\n",
    "\n"
   ]
  },
  {
   "cell_type": "code",
   "execution_count": null,
   "id": "0c1cdd2b",
   "metadata": {},
   "outputs": [],
   "source": [
    "no_gens = taxa_in.wfo_family.unique().tolist() + \\\n",
    "\ttaxa_in.wfo_order.unique().tolist() + \\\n",
    "\ttaxa_in.wfo_clade.unique().tolist() + ['×']\n",
    "\n",
    "no_gens = [i for i in no_gens if pd.notna(i)]"
   ]
  },
  {
   "cell_type": "code",
   "execution_count": null,
   "id": "064684c6",
   "metadata": {},
   "outputs": [],
   "source": [
    "gens = [x for x in taxa_in.Name.apply(lambda x: re.split(r'\\s+', x)[0]).unique()]\n",
    "gens = [x for x in gens if not x in no_gens]"
   ]
  },
  {
   "cell_type": "code",
   "execution_count": null,
   "id": "5f57ca1f",
   "metadata": {},
   "outputs": [],
   "source": [
    "for gn in gens:\n",
    "\t#print(gn)\n",
    "\t\n",
    "\tif pd.notna(gn):\n",
    "\n",
    "\t\tqu = taxa_in.loc[taxa_in.Name == gn]\n",
    "\n",
    "\t\tif qu.shape[0] == 0:\n",
    "\t\t\tlast_id += 1\n",
    "\t\t\tpapa = taxa_in.loc[taxa_in.Name.str.startswith(f'{gn} '), 'wfo_family'].iloc[0]\n",
    "\t\t\t#print(papa)\n",
    "\t\t\tpapaid = taxa_in.loc[taxa_in.Name == papa, 'TaxonID'].iloc[0]\n",
    "\t\t\t#print(papaid)\n",
    "\t\t\trec = {i:np.nan for i in taxa_in.columns}\n",
    "\t\t\trec['Name'] = gn\n",
    "\t\t\trec['Parent'] = papaid\n",
    "\t\t\trec['TaxonID'] = last_id\n",
    "\t\t\ttaxa_in = pd.concat([\n",
    "\t\t\t\ttaxa_in, \n",
    "\t\t\t\tpd.DataFrame.from_records([rec])\n",
    "\t\t\t])\n",
    "\n",
    "\t\telse:\n",
    "\t\t\tpapa = taxa_in.loc[taxa_in.Name == gn, 'wfo_family'].iloc[0]\n",
    "\t\t\t#print(papa)\n",
    "\t\t\tpapaid = taxa_in.loc[taxa_in.Name == papa, 'TaxonID'].iloc[0]\n",
    "\t\t\t#print(papaid)\n",
    "\t\t\ttaxa_in.loc[taxa_in.Name == gn, 'Parent'] = papaid\n",
    "\n"
   ]
  },
  {
   "cell_type": "markdown",
   "id": "ff107cab",
   "metadata": {},
   "source": [
    "Por alguna razón Vriesea está incorrectamente clasificada"
   ]
  },
  {
   "cell_type": "code",
   "execution_count": null,
   "id": "7e48f491",
   "metadata": {},
   "outputs": [],
   "source": [
    "taxa_in.loc[taxa_in.Name == 'Bromeliaceae']"
   ]
  },
  {
   "cell_type": "code",
   "execution_count": null,
   "id": "42610269",
   "metadata": {},
   "outputs": [],
   "source": [
    "taxa_in.loc[taxa_in.Name == 'Vriesea', 'Parent'] = 3230"
   ]
  },
  {
   "cell_type": "code",
   "execution_count": null,
   "id": "a727bc3f",
   "metadata": {},
   "outputs": [],
   "source": [
    "for sp in taxa_in.loc[\n",
    "\ttaxa_in.Name.str.contains(r'^[\\w\\-]+\\s+\\w+') |\n",
    "\ttaxa_in.Name.str.contains(r'\\w+\\s+×'),\n",
    "\t'Name'\n",
    "\t].unique():\n",
    "\n",
    "\t#print(sp)\n",
    "\tgn = re.split(r'\\s+', sp)[0]\n",
    "\t#print(gn)\n",
    "\tqu = taxa_in.loc[taxa_in.Name == gn]\n",
    "\tpapaid = taxa_in.loc[taxa_in.Name == gn, 'TaxonID'].iloc[0]\n",
    "\t#print(papaid)\n",
    "\ttaxa_in.loc[taxa_in.Name == sp, 'Parent'] = papaid"
   ]
  },
  {
   "cell_type": "code",
   "execution_count": null,
   "id": "50e5930d",
   "metadata": {},
   "outputs": [],
   "source": [
    "taxa_in.loc[taxa_in.Name == '× Agropogon lutosus', 'Parent'\n",
    "\t] = taxa_in.loc[taxa_in.Name == 'Andropogon'].index[0]"
   ]
  },
  {
   "cell_type": "code",
   "execution_count": null,
   "id": "4f5a7c89",
   "metadata": {},
   "outputs": [],
   "source": [
    "taxa_in[['AcceptedName', 'Authority', 'Protologue', 'Comment']\n",
    "\t] = np.nan, np.nan, np.nan, np.nan"
   ]
  },
  {
   "cell_type": "code",
   "execution_count": null,
   "id": "1316de19",
   "metadata": {},
   "outputs": [],
   "source": [
    "taxa_in[['TaxonID', 'Name', 'Author', 'CheckPriority', 'Distribution', 'Parent',\n",
    "\t'AcceptedName', 'Authority', 'Protologue', 'Comment']].to_csv(\n",
    "\t'taxa_in.csv', index=False)"
   ]
  },
  {
   "cell_type": "markdown",
   "id": "3c846e29",
   "metadata": {},
   "source": [
    "# Insert Taxa table\n",
    "\n",
    "If all nomenclatural and classification validation has been conducted, read `taxa_in.csv` file and directly do insertion."
   ]
  },
  {
   "cell_type": "code",
   "execution_count": 2,
   "id": "450c6e78",
   "metadata": {},
   "outputs": [],
   "source": [
    "taxa_in = pd.read_csv('taxa_in.csv')"
   ]
  },
  {
   "cell_type": "code",
   "execution_count": 11,
   "id": "629be676",
   "metadata": {},
   "outputs": [
    {
     "data": {
      "text/plain": [
       "-1"
      ]
     },
     "execution_count": 11,
     "metadata": {},
     "output_type": "execute_result"
    }
   ],
   "source": [
    "taxa_in[['TaxonID', 'Name', 'Author', 'CheckPriority', 'Distribution', 'Parent',\n",
    "\t'AcceptedName', 'Authority', 'Protologue', 'Comment']\n",
    "\t].to_sql('Taxa', engine, if_exists='append', index=False, chunksize=10000, method='multi')"
   ]
  },
  {
   "cell_type": "markdown",
   "id": "b2c2bcc1",
   "metadata": {},
   "source": [
    "# Procedamiento tablas Locations y Geocodings\n",
    "\n",
    "| Campo original | Campo DB |\n",
    "|---|---|\n",
    "|Localidad | Locations |\n",
    "|Código de localidad georreferenciada | Locations.BD2020ID |\n",
    "|Latitud_original | Locations.Latitude |\n",
    "|Longitud_original | Locations.Longitud |\n",
    "|Elev__minima | Locations.ElevationMin |\n",
    "|Elev__maxima | Locations.ElevationMax |\n",
    "|Latitud_decimal | Geocodings.InterpretedLat, Geocoder is DB_2020 |\n",
    "|Longitud_decimal | Geocodings.InterpretedLon, Geocoder is DB_2020 |\n",
    "|Latitud para trabajo de mapas | Geocodings.InterpretedLat, Geocoder is mapas_2020 |\n",
    "|Longitud para trabajo de mapas | Geocodings.InterpretedLon, Geocoder is mapas_2020 |\n",
    "|Extensión de georreferenciación | Geocodins.Uncertainty ???\n",
    "|DATUM | Geocodings.Datum |\n"
   ]
  },
  {
   "cell_type": "code",
   "execution_count": 268,
   "id": "e5c27b75",
   "metadata": {},
   "outputs": [],
   "source": [
    "orifile = '../Datos/Flora_de_Bogota/Registros_2020/FlBogota2020.csv'\n",
    "\n",
    "colpp = {\n",
    "\t'Colector depurado': 'colde', 'Colector principal': 'colpri', \n",
    "\t'Número de colector': 'CollectionNumberVerbatim', \n",
    "\t'Fecha_Inicial_(Year)': 'year',\n",
    "\t'Fecha_Inicial_(Month)': 'month', 'Fecha_Inicial_(day)': 'day',\n",
    "\t'Notas_Localidad_y_Habitat': 'notas', 'Fenologia': 'feno',\n",
    "\t'Usos': 'usos', 'Nombres_comunes': 'comname', \n",
    "\t'Comentarios generales': 'comm', 'Referencia bibligráfica': 'ref',\n",
    "\t'Numero original en Base 2015': 'dbid', \n",
    "\t'Nombre base para flora de Bogota': 'name',\n",
    "\t'Descripcion ejemplar': 'descr', 'Localidad': 'Localidad',\n",
    "\t'Latitud_decimal': 'Latitud_decimal', 'Longitud_decimal': 'Longitud_decimal',\n",
    "\t'Código de localidad georreferenciada': 'DB2020ID',\n",
    "\t'Latitud_original': 'Latitude_text', 'Longitud_original': 'Longitude_text',\n",
    "\t'Elev__minima': 'ElevationMin', 'Elev__maxima': 'ElevationMax',\n",
    "\t'State': 'State', 'County': 'County',\n",
    "\t}\n",
    "\n",
    "ori = pd.read_csv(orifile, dtype={'Elev__minima': str, 'Elev__maxima': str},\n",
    "\tusecols=colpp)\n",
    "\n",
    "ori = ori.rename(columns=colpp)"
   ]
  },
  {
   "cell_type": "code",
   "execution_count": 269,
   "id": "1920ab3a",
   "metadata": {},
   "outputs": [
    {
     "name": "stderr",
     "output_type": "stream",
     "text": [
      "/tmp/ipykernel_305037/3942084273.py:46: UserWarning: This pattern is interpreted as a regular expression, and has match groups. To actually get the groups, use str.extract.\n",
      "  ~ori.State.str.contains(r'(bogot|distrit)', flags=re.I, na=False) &\n",
      "/tmp/ipykernel_305037/3942084273.py:47: UserWarning: This pattern is interpreted as a regular expression, and has match groups. To actually get the groups, use str.extract.\n",
      "  ~ori.County.str.contains(r'(bogot|distrit|Usaqu|Usme)', flags=re.I, na=False),\n",
      "/tmp/ipykernel_305037/3942084273.py:52: UserWarning: This pattern is interpreted as a regular expression, and has match groups. To actually get the groups, use str.extract.\n",
      "  ori.State.str.contains(r'(bogot|distrit)', flags=re.I, na=False) |\n",
      "/tmp/ipykernel_305037/3942084273.py:53: UserWarning: This pattern is interpreted as a regular expression, and has match groups. To actually get the groups, use str.extract.\n",
      "  ori.County.str.contains(r'(bogot|distrit|Usaqu|Usme)', flags=re.I, na=False),\n"
     ]
    }
   ],
   "source": [
    "ori['Localidad'] = ori.Localidad.str.replace(r'\\s+', ' ', regex=True\n",
    "\t).str.replace(r'(^\\s+|\\s+$)', '', regex=True\n",
    "\t)\n",
    "\n",
    "ori['Latitude_text'] = ori.Latitude_text.str.replace(',', '.')\n",
    "ori['Longitude_text'] = ori.Longitude_text.str.replace(',', '.')\n",
    "\n",
    "bits = ori.Latitude_text.str.extractall(r'([\\d\\.]+)'\n",
    "\t).reset_index(\n",
    "\t).pivot(index='level_0', columns='match', values=0\n",
    "\t)\n",
    "\n",
    "bits = bits.fillna('0') \n",
    "\n",
    "bits['Latitude'] = (bits[0].astype(np.float64) + \n",
    "\t\tbits[1].astype(np.float64) / 60 + \n",
    "\t\tbits[2].astype(np.float64) / 3600) \n",
    "\n",
    "ori = ori.merge(bits[['Latitude']], how='left', left_index=True, right_index=True\n",
    "\t)\n",
    "\n",
    "bits = ori.Longitude_text.str.extractall(r'([\\d\\.]+)'\n",
    "\t).reset_index(\n",
    "\t).pivot(index='level_0', columns='match', values=0\n",
    "\t)\n",
    "\n",
    "bits = bits.fillna('0') \n",
    "\n",
    "bits['Longitude'] = -1 * (bits[0].astype(np.float64) + \n",
    "\t\tbits[1].astype(np.float64) / 60 + \n",
    "\t\tbits[2].astype(np.float64) / 3600) \n",
    "\n",
    "ori = ori.merge(bits[['Longitude']], how='left', left_index=True, right_index=True)\n",
    "ori['County'] = ori.County.fillna('')\n",
    "ori['State'] = ori.State.fillna('')\n",
    "ori['Localidad'] = ori.Localidad.fillna('')\n",
    "ori['Localidad'] = ori.State + ', ' + ori.County + ', ' + ori.Localidad \n",
    "\n",
    "ori['Localidad'] = ori.Localidad.str.replace(r'\\s+', ' ', regex=True\n",
    "\t).str.replace(r'(, )+', ', ', regex=True\n",
    "\t).str.replace(r'(^[\\.,\\s]+|[\\.,\\s]+$)', '', regex=True\n",
    "\t).str.replace('Bogota', 'Bogotá', regex=False\n",
    "\t)\n",
    "\n",
    "ori.loc[\n",
    "\t~ori.State.str.contains(r'(bogot|distrit)', flags=re.I, na=False) &\n",
    "\t~ori.County.str.contains(r'(bogot|distrit|Usaqu|Usme)', flags=re.I, na=False),\n",
    "\t'State'\n",
    "\t] = 'Cundinamarca'\n",
    "\n",
    "ori.loc[\n",
    "\tori.State.str.contains(r'(bogot|distrit)', flags=re.I, na=False) |\n",
    "\tori.County.str.contains(r'(bogot|distrit|Usaqu|Usme)', flags=re.I, na=False),\n",
    "\t['State', 'County'] \n",
    "\t] = ['Bogotá', 'Bogotá']\n",
    "\n",
    "ori.loc[ori.County == '', 'County'] = np.nan\n",
    "ori['ElevationMax'] = ori.ElevationMax.str.replace(r'\\s', '', regex=True)\n",
    "ori.loc[ori.ElevationMax == '', 'ElevationMax'] = np.nan\n",
    "ori['ElevationMax'] = ori.ElevationMax.astype(np.float64)\n",
    "ori['ElevationMin'] = ori.ElevationMin.astype(np.float64)"
   ]
  },
  {
   "cell_type": "code",
   "execution_count": 270,
   "id": "d929fd4a",
   "metadata": {},
   "outputs": [],
   "source": [
    "locs = ori.groupby(\n",
    "\t['DB2020ID', 'Localidad', 'Latitude', 'Longitude', 'ElevationMin', 'ElevationMax'],\n",
    "\tdropna=False\n",
    "\t).size(\n",
    "\t).reset_index(\n",
    "\t).drop(columns=0\n",
    "\t)\n",
    "\n",
    "locs['LocationID'] = locs.index + 1\n",
    "\n",
    "ori = ori.merge(\n",
    "\tlocs, \n",
    "\thow='left', \n",
    "\ton=[\n",
    "\t\t'DB2020ID', 'Localidad', 'Latitude', 'Longitude', 'ElevationMin', \n",
    "\t\t'ElevationMax'\n",
    "\t])"
   ]
  },
  {
   "cell_type": "code",
   "execution_count": 271,
   "id": "9373d62b",
   "metadata": {},
   "outputs": [
    {
     "data": {
      "text/plain": [
       "-2"
      ]
     },
     "execution_count": 271,
     "metadata": {},
     "output_type": "execute_result"
    }
   ],
   "source": [
    "locs.rename(\n",
    "\t\tcolumns={'Localidad':'Name'}\n",
    "\t).to_sql(\n",
    "\t\t'Locations', engine, if_exists='append', index=False, chunksize=10000, \n",
    "\t\tmethod='multi'\n",
    "\t)"
   ]
  },
  {
   "cell_type": "markdown",
   "id": "92dcdd97",
   "metadata": {},
   "source": [
    "# Procesamiento tabla Sources"
   ]
  },
  {
   "cell_type": "code",
   "execution_count": 151,
   "id": "f3a4be11",
   "metadata": {},
   "outputs": [],
   "source": [
    "orifile = '../Datos/Flora_de_Bogota/Registros_2020/FlBogota2020.csv'\n",
    "\n",
    "colpp = {\n",
    "\t'Colector depurado': 'colde', 'Colector principal': 'colpri', \n",
    "\t'Número de colector': 'CollectionNumberVerbatim', \n",
    "\t'Fecha_Inicial_(Year)': 'year',\n",
    "\t'Fecha_Inicial_(Month)': 'month', 'Fecha_Inicial_(day)': 'day',\n",
    "\t'Notas_Localidad_y_Habitat': 'notas', 'Fenologia': 'feno',\n",
    "\t'Usos': 'usos', 'Nombres_comunes': 'comname', \n",
    "\t'Comentarios generales': 'comm', 'Referencia bibligráfica': 'ref',\n",
    "\t'Numero original en Base 2015': 'dbid', \n",
    "\t'Nombre base para flora de Bogota': 'name',\n",
    "\t'Descripcion ejemplar': 'descr'\n",
    "\t}\n",
    "\n",
    "ori = pd.read_csv(orifile, dtype={'Elev__minima': str, 'Elev__maxima': str},\n",
    "\tusecols=colpp)\n",
    "\n",
    "ori = ori.rename(columns=colpp)"
   ]
  },
  {
   "cell_type": "code",
   "execution_count": 152,
   "id": "9cf66b41",
   "metadata": {},
   "outputs": [],
   "source": [
    "ori['author'] = None\n",
    "\n",
    "ori.loc[ori.ref.notna(), 'author'] = ori.loc[ori.ref.notna(), 'ref'\n",
    "\t].str.extract(r'^([^\\(]+)\\(').loc[:, 0]\n",
    "\n",
    "authors = ori.groupby('author').size().reset_index().drop(columns=0)\n",
    "authors.index += 1\n",
    "authors['authorID'] = authors.index\n",
    "\n",
    "tmp = authors.author.str.extractall(r'([\\w\\-\\.]{3,},( [A-Z]\\.)+)'\n",
    "\t).drop(columns=1).rename(columns={0:'person'})\n",
    "\n",
    "persons = tmp.groupby('person').size().reset_index().drop(columns=0)\n",
    "persons['PersonID'] = persons.index + 1 \n",
    "persons['LastName'] = persons.person.str.extract(r'(^[\\w\\-\\.]+),')\n",
    "persons['FirstName'] = persons.person.str.extract(r',(.+)$')\n",
    "persons = persons.rename(columns={'person':'NameVerbatim'})\n",
    "\n",
    "peoper = tmp.reset_index().merge(\n",
    "\tpersons, left_on='person', right_on='NameVerbatim', how='left'\n",
    "\t).rename(columns={\n",
    "\t\t'level_0': 'People', 'match':'Order', 'PersonID':'Person'\n",
    "\t})\n",
    "\n",
    "peoper['Order'] += 1\n",
    "sour = ori.groupby(['ref', 'author']).size().reset_index().drop(columns=0)\n",
    "sour = sour.merge(authors, how='left', on='author')\n",
    "sour['Year'] = sour.ref.str.extract(r'\\((\\d+)\\)')\n",
    "sour['Name'] = sour.ref.str.extract(r'\\).\\s+(.+)[\\.\\s]*$')\n",
    "sour['Type'] = 'Document'\n",
    "# Removing a ghost reference (probably a specimen in F)\n",
    "sour = sour.drop(\n",
    "\tindex=sour[sour.Name.isna()].index\n",
    "\t)\n",
    "sour = sour.reset_index(drop=True)\n",
    "sour['SourceID'] = sour.index + 1\n",
    "ori = ori.merge(sour, on='ref', how='left')"
   ]
  },
  {
   "cell_type": "code",
   "execution_count": 124,
   "id": "da61a40b",
   "metadata": {},
   "outputs": [
    {
     "data": {
      "text/plain": [
       "-1"
      ]
     },
     "execution_count": 124,
     "metadata": {},
     "output_type": "execute_result"
    }
   ],
   "source": [
    "persons.to_sql('Persons', engine, if_exists='append', index=False, chunksize=10000, method='multi')\n",
    "\n",
    "authors.rename(columns={'authorID':'PeopleID'})[['PeopleID']\n",
    "\t].to_sql('People', engine, if_exists='append', index=False, chunksize=10000, \n",
    "\t\tmethod='multi'\n",
    "\t)\n",
    "\n",
    "peoper[['People', 'Order', 'Person']].to_sql(\n",
    "\t'PeoplePersons', engine, if_exists='append', index=False, chunksize=10000, \n",
    "\t\tmethod='multi')\n",
    "\n",
    "sour.rename(columns={'authorID':'Author'})[['SourceID', 'Type', 'Author', 'Year', 'Name']\n",
    "\t].to_sql('Sources', engine, if_exists='append', index=False, chunksize=10000, method='multi')"
   ]
  },
  {
   "cell_type": "markdown",
   "id": "947702f6",
   "metadata": {},
   "source": [
    "# Procesamiento tabla ocurrencias\n",
    "\n",
    "| Campo | Nota |\n",
    "|---|---|\n",
    "|Colector depurado | Occurrences.Collector |\n",
    "|Colector principal | If no colector depurado, Occurrences.Collector, otherwise Occurrences.CollectorVerbatim  |\n",
    "|Número de colector | Occurrences.CollectionNumber & Occurrences.CollectionNumberVerbatim |\n",
    "|Fecha_Inicial_(Year) | Occurrences.DateInit, Occurrences.DateEnd |\n",
    "|Fecha_Inicial_(Month) | Occurrences.DateInit, Occurrences.DateEnd |\n",
    "|Fecha_Inicial_(day) | Occurrences.DateInit, Occurrences.DateEnd |\n",
    "|Notas_Localidad_y_Habitat | Occurrences.Comment  |\n",
    "|Fenologia | Occurrences.PhenoState |\n",
    "|Descripcion ejemplar | Occurrences.Comment |\n",
    "|Usos | Occurrences.Use |\n",
    "|Nombres_comunes | Occurrences.CommonName |\n",
    "|Comentarios generales | Occurrences.Comment |\n",
    "|Referencia bibligráfica | Occurrence.Sources |\n",
    "|Numero original en Base 2015 | Occurrence.DB2015ID |"
   ]
  },
  {
   "cell_type": "code",
   "execution_count": 153,
   "id": "a192e466",
   "metadata": {},
   "outputs": [],
   "source": [
    "ori.loc[ori.colde.isna(), 'colde'] = ori.loc[ori.colde.isna(), 'colpri']"
   ]
  },
  {
   "cell_type": "code",
   "execution_count": 154,
   "id": "a182ed9f",
   "metadata": {},
   "outputs": [
    {
     "name": "stderr",
     "output_type": "stream",
     "text": [
      "/tmp/ipykernel_27363/1556294952.py:18: UserWarning: This pattern is interpreted as a regular expression, and has match groups. To actually get the groups, use str.extract.\n",
      "  & ori.CollectionNumberVerbatim.str.contains(r'\\d+[^\\d]+\\d{1,2}([^\\d]+$|$)'),\n",
      "/tmp/ipykernel_27363/1556294952.py:15: UserWarning: This pattern is interpreted as a regular expression, and has match groups. To actually get the groups, use str.extract.\n",
      "  & ori.CollectionNumberVerbatim.str.contains(r'\\d+[^\\d]+\\d{1,2}([^\\d]+$|$)'),\n",
      "/tmp/ipykernel_27363/1556294952.py:34: UserWarning: This pattern is interpreted as a regular expression, and has match groups. To actually get the groups, use str.extract.\n",
      "  ori.CollectionNumberVerbatim.str.contains(r'(^[^\\d]+\\d+$|^\\d+[^\\d]+$)'),\n",
      "/tmp/ipykernel_27363/1556294952.py:31: UserWarning: This pattern is interpreted as a regular expression, and has match groups. To actually get the groups, use str.extract.\n",
      "  ori.CollectionNumberVerbatim.str.contains(r'(^[^\\d]+\\d+$|^\\d+[^\\d]+$)'),\n"
     ]
    }
   ],
   "source": [
    "bits = ori.loc[ori.CollectionNumberVerbatim.notna()\n",
    "\t& ori.CollectionNumberVerbatim.str.contains(r'[^\\d]'), 'CollectionNumberVerbatim'\n",
    "\t].str.extractall(r'(\\d+)'\n",
    "\t).reset_index(\n",
    "\t).pivot(index='level_0', columns='match', values=0\n",
    "\t)\n",
    "\n",
    "ori = ori.merge(bits, 'left', left_index=True, right_index=True\n",
    "\t)\n",
    "\n",
    "ori['CollectionNumber'] = np.nan\n",
    "\n",
    "# Sorting number before spliting token\n",
    "ori.loc[ori.CollectionNumberVerbatim.notna() & ori[1].notna()\n",
    "\t& ori.CollectionNumberVerbatim.str.contains(r'\\d+[^\\d]+\\d{1,2}([^\\d]+$|$)'),\n",
    "\t'CollectionNumber'] = \\\n",
    "\tori.loc[ori.CollectionNumberVerbatim.notna() & ori[1].notna()\n",
    "\t\t& ori.CollectionNumberVerbatim.str.contains(r'\\d+[^\\d]+\\d{1,2}([^\\d]+$|$)'), \n",
    "\t\t0].astype(np.int64)\n",
    "\n",
    "# Sorting number after spliting token\n",
    "ori.loc[ori.CollectionNumberVerbatim.notna() & ori[1].notna()\n",
    "\t& ori.CollectionNumberVerbatim.str.contains(r'[^\\d]\\d{3,}'),\n",
    "\t'CollectionNumber'] = \\\n",
    "\tori.loc[ori.CollectionNumberVerbatim.notna() & ori[1].notna()\n",
    "\t\t& ori.CollectionNumberVerbatim.str.contains(r'[^\\d]\\d{3,}'), \n",
    "\t\t1].astype(np.int64)\n",
    "\n",
    "# Remove non-digits from collections numbers\n",
    "ori.loc[ori.CollectionNumber.isna() & \n",
    "\tori.CollectionNumberVerbatim.str.contains(r'(^[^\\d]+\\d+$|^\\d+[^\\d]+$)'), \n",
    "\t'CollectionNumber'\n",
    "\t] = ori.loc[ori.CollectionNumber.isna() & \n",
    "\tori.CollectionNumberVerbatim.str.contains(r'(^[^\\d]+\\d+$|^\\d+[^\\d]+$)'), \n",
    "\t'CollectionNumberVerbatim'\n",
    "\t].str.replace(r'[^\\d]+', '', regex=True).astype(np.int64)\n",
    "\n",
    "# Remove non-digits from collections numbers (again)\n",
    "ori.loc[ori.CollectionNumber.isna() & \n",
    "\tori.CollectionNumberVerbatim.str.contains(r'[^\\d]'), \n",
    "\t'CollectionNumber'] = ori.loc[ori.CollectionNumber.isna() & \n",
    "\tori.CollectionNumberVerbatim.str.contains(r'[^\\d]'), \n",
    "\t'CollectionNumberVerbatim'].str.replace(r'[^\\d]', '', regex=True\n",
    "\t).astype(np.int64)\n",
    "\n",
    "# Sorting number is verbatim number\n",
    "ori.loc[ori.CollectionNumber.isna() & ori.CollectionNumberVerbatim.notna(), 'CollectionNumber'] = ori.loc[ori.CollectionNumber.isna() & ori.CollectionNumberVerbatim.notna(), 'CollectionNumberVerbatim'].astype(np.int64)"
   ]
  },
  {
   "cell_type": "code",
   "execution_count": 155,
   "id": "58305591",
   "metadata": {},
   "outputs": [],
   "source": [
    "# Number of days per month\n",
    "ld = {1:31, 2:28, 3:31, 4:30, 5:31, 6:30, 7:31, 8:31, 9:30, 10:31, 11:30, 12:31}\n",
    "# Date\n",
    "\n",
    "def get_date(row):\n",
    "\tout = [None, None]\n",
    "\n",
    "\tif pd.notna(row.year) and row.year >= 1:\n",
    "\n",
    "\t\tif pd.notna(row.month) and row.month >= 1:\n",
    "\t\t\n",
    "\t\t\tif pd.notna(row.day) and row.day >= 1:\n",
    "\n",
    "\t\t\t\tif row.year % 2 > 0 and row.month == 2 and row.day > 28:\n",
    "\t\t\t\t\tout = [\n",
    "\t\t\t\t\t\tdatetime.strptime(f\"{int(row.year)}-{int(row.month)}-28\", \"%Y-%m-%d\"),\n",
    "\t\t\t\t\t\tdatetime.strptime(f\"{int(row.year)}-{int(row.month)}-28\", \"%Y-%m-%d\")\n",
    "\t\t\t\t\t]\n",
    "\t\t\t\telse:\n",
    "\t\t\t\t\tout = [\n",
    "\t\t\t\t\t\tdatetime.strptime(f\"{int(row.year)}-{int(row.month)}-{int(row.day)}\", \"%Y-%m-%d\"),\n",
    "\t\t\t\t\t\tdatetime.strptime(f\"{int(row.year)}-{int(row.month)}-{int(row.day)}\", \"%Y-%m-%d\")\n",
    "\t\t\t\t\t]\n",
    "\t\t\t\t\t\n",
    "\t\t\telse:\n",
    "\t\t\t\tout = [\n",
    "\t\t\t\t\tdatetime.strptime(f\"{int(row.year)}-{int(row.month)}-01\", \"%Y-%m-%d\"),\n",
    "\t\t\t\t\tdatetime.strptime(f\"{int(row.year)}-{int(row.month)}-{ld[int(row.month)]}\", \"%Y-%m-%d\")\n",
    "\t\t\t\t]\n",
    "\t\t\n",
    "\t\telse:\n",
    "\t\t\tout = [\n",
    "\t\t\t\t\tdatetime.strptime(f\"{int(row.year)}-01-01\", \"%Y-%m-%d\"),\n",
    "\t\t\t\t\tdatetime.strptime(f\"{int(row.year)}-12-31\", \"%Y-%m-%d\")\n",
    "\t\t\t\t]\n",
    "\t\n",
    "\treturn out\n",
    "\n",
    "ori[['DateInit', 'DateEnd']] = ori.apply(get_date, axis=1, result_type='expand')"
   ]
  },
  {
   "cell_type": "code",
   "execution_count": 156,
   "id": "bea8634f",
   "metadata": {},
   "outputs": [],
   "source": [
    "repmap = {'fértil': np.nan, 'Esteril': 'estéril', 'Flor': 'flor', \n",
    "\t'Flor & Fruto': 'flor y fruto', \n",
    " \t'Estéril': 'estéril', 'Fruto': 'fruto', 'Fertil': 'flor y fruto', \n",
    "\t'Fértil': 'flor y fruto', 'Infertil': 'estéril', 'Botón floral': 'flor', \n",
    "\t'Flor/Fruto': 'flor y fruto'\n",
    "}\n",
    "\n",
    "ori['PhenoState'] = ori.feno.replace(repmap)"
   ]
  },
  {
   "cell_type": "code",
   "execution_count": 157,
   "id": "2a070855",
   "metadata": {},
   "outputs": [],
   "source": [
    "ori['comname'] = ori.comname.str.replace('\"', ''\n",
    "\t).str.replace(r'\\s+', ' ', regex=True\n",
    "\t).str.replace(r'^\\s+', '', regex=True\n",
    "\t).str.replace(r'\\s+$', '', regex=True\n",
    "\t).str.lower(\n",
    "\t)"
   ]
  },
  {
   "cell_type": "code",
   "execution_count": 158,
   "id": "025ab4d9",
   "metadata": {},
   "outputs": [],
   "source": [
    "# A couple of descriptions inserted in the wrong column\n",
    "ori.loc[ori.usos.notna() & ori.usos.str.contains('Hierba'), 'descr'] = \\\n",
    "ori.loc[ori.usos.notna() & ori.usos.str.contains('Hierba'), 'usos']\n",
    "\n",
    "ori.loc[ori.usos.notna() & ori.usos.str.contains('Hierba'), 'usos'] = np.nan"
   ]
  },
  {
   "cell_type": "code",
   "execution_count": 159,
   "id": "9ce4b5bd",
   "metadata": {},
   "outputs": [],
   "source": [
    "ori['comm'] = ori.comm.str.replace(r'[‘”“\"\\r\\n]', '', regex=True\n",
    "\t).str.replace(r'\\s{2,}', ' ', regex=True\n",
    "\t)"
   ]
  },
  {
   "cell_type": "code",
   "execution_count": 160,
   "id": "65de50cb",
   "metadata": {},
   "outputs": [],
   "source": [
    "ori['notas'] = ori.notas.str.replace(r'[‘”“\"\\r\\n]', '', regex=True\n",
    "\t).str.replace(r'\\s{2,}', ' ', regex=True\n",
    "\t)"
   ]
  },
  {
   "cell_type": "code",
   "execution_count": 161,
   "id": "523650e4",
   "metadata": {},
   "outputs": [],
   "source": [
    "# Remove extrmely long poetic plant descriptions longer than 500 chars\n",
    "ori.loc[ori.descr.notna() & ori.descr.apply(lambda x: len(x) > 500 if pd.notna(x) else 0), 'descr'] = np.nan"
   ]
  },
  {
   "cell_type": "code",
   "execution_count": 162,
   "id": "c7d9d38a",
   "metadata": {},
   "outputs": [],
   "source": [
    "ori['Comment'] = ori.descr.apply(str) + \"|\" + \\\n",
    "\tori.notas.apply(str) + \"|\" + \\\n",
    "\tori.comm.apply(str) + \"|\""
   ]
  },
  {
   "cell_type": "code",
   "execution_count": 163,
   "id": "d1c00bc4",
   "metadata": {},
   "outputs": [
    {
     "data": {
      "text/plain": [
       "Index([                    'name',                   'colpri',\n",
       "                          'colde', 'CollectionNumberVerbatim',\n",
       "                           'year',                    'month',\n",
       "                            'day',                    'notas',\n",
       "                           'feno',                    'descr',\n",
       "                           'usos',                  'comname',\n",
       "                           'comm',                      'ref',\n",
       "                           'dbid',                 'author_x',\n",
       "                       'author_y',                 'authorID',\n",
       "                           'Year',                     'Name',\n",
       "                           'Type',                 'SourceID',\n",
       "                                0,                          1,\n",
       "                                2,         'CollectionNumber',\n",
       "                       'DateInit',                  'DateEnd',\n",
       "                     'PhenoState',                  'Comment'],\n",
       "      dtype='object')"
      ]
     },
     "execution_count": 163,
     "metadata": {},
     "output_type": "execute_result"
    }
   ],
   "source": [
    "ori.columns"
   ]
  },
  {
   "cell_type": "code",
   "execution_count": 167,
   "id": "cff9c4da",
   "metadata": {},
   "outputs": [
    {
     "data": {
      "text/html": [
       "<div>\n",
       "<style scoped>\n",
       "    .dataframe tbody tr th:only-of-type {\n",
       "        vertical-align: middle;\n",
       "    }\n",
       "\n",
       "    .dataframe tbody tr th {\n",
       "        vertical-align: top;\n",
       "    }\n",
       "\n",
       "    .dataframe thead th {\n",
       "        text-align: right;\n",
       "    }\n",
       "</style>\n",
       "<table border=\"1\" class=\"dataframe\">\n",
       "  <thead>\n",
       "    <tr style=\"text-align: right;\">\n",
       "      <th></th>\n",
       "      <th>colde</th>\n",
       "      <th>CollectionNumberVerbatim</th>\n",
       "      <th>CollectionNumber</th>\n",
       "      <th>DateInit</th>\n",
       "      <th>DateEnd</th>\n",
       "      <th>PhenoState</th>\n",
       "      <th>comname</th>\n",
       "      <th>Comment</th>\n",
       "      <th>SourceID</th>\n",
       "      <th>usos</th>\n",
       "      <th>dbid</th>\n",
       "    </tr>\n",
       "  </thead>\n",
       "  <tbody>\n",
       "    <tr>\n",
       "      <th>0</th>\n",
       "      <td>NaN</td>\n",
       "      <td>NaN</td>\n",
       "      <td>NaN</td>\n",
       "      <td>1999-02-10</td>\n",
       "      <td>1999-02-10</td>\n",
       "      <td>NaN</td>\n",
       "      <td>NaN</td>\n",
       "      <td>Hierba de 1 metro de altura, inflorescencias t...</td>\n",
       "      <td>NaN</td>\n",
       "      <td>NaN</td>\n",
       "      <td>NaN</td>\n",
       "    </tr>\n",
       "    <tr>\n",
       "      <th>1</th>\n",
       "      <td>NaN</td>\n",
       "      <td>NaN</td>\n",
       "      <td>NaN</td>\n",
       "      <td>1999-02-18</td>\n",
       "      <td>1999-02-18</td>\n",
       "      <td>NaN</td>\n",
       "      <td>NaN</td>\n",
       "      <td>Hierba rastrera. Botón floral amarillo|En suel...</td>\n",
       "      <td>NaN</td>\n",
       "      <td>NaN</td>\n",
       "      <td>NaN</td>\n",
       "    </tr>\n",
       "    <tr>\n",
       "      <th>2</th>\n",
       "      <td>NaN</td>\n",
       "      <td>NaN</td>\n",
       "      <td>NaN</td>\n",
       "      <td>NaT</td>\n",
       "      <td>NaT</td>\n",
       "      <td>NaN</td>\n",
       "      <td>NaN</td>\n",
       "      <td>Liana con hojas discóloras con indumento blanc...</td>\n",
       "      <td>NaN</td>\n",
       "      <td>NaN</td>\n",
       "      <td>NaN</td>\n",
       "    </tr>\n",
       "    <tr>\n",
       "      <th>3</th>\n",
       "      <td>NaN</td>\n",
       "      <td>NaN</td>\n",
       "      <td>NaN</td>\n",
       "      <td>1999-02-10</td>\n",
       "      <td>1999-02-10</td>\n",
       "      <td>NaN</td>\n",
       "      <td>NaN</td>\n",
       "      <td>Arbusto de 2 metros de altura. Espinas en hoja...</td>\n",
       "      <td>NaN</td>\n",
       "      <td>NaN</td>\n",
       "      <td>NaN</td>\n",
       "    </tr>\n",
       "    <tr>\n",
       "      <th>4</th>\n",
       "      <td>NaN</td>\n",
       "      <td>NaN</td>\n",
       "      <td>NaN</td>\n",
       "      <td>NaT</td>\n",
       "      <td>NaT</td>\n",
       "      <td>NaN</td>\n",
       "      <td>NaN</td>\n",
       "      <td>Hierba erecta 1 m. Fronda 1.5 , larga|Parcela ...</td>\n",
       "      <td>NaN</td>\n",
       "      <td>NaN</td>\n",
       "      <td>NaN</td>\n",
       "    </tr>\n",
       "  </tbody>\n",
       "</table>\n",
       "</div>"
      ],
      "text/plain": [
       "  colde CollectionNumberVerbatim  CollectionNumber   DateInit    DateEnd  \\\n",
       "0   NaN                      NaN               NaN 1999-02-10 1999-02-10   \n",
       "1   NaN                      NaN               NaN 1999-02-18 1999-02-18   \n",
       "2   NaN                      NaN               NaN        NaT        NaT   \n",
       "3   NaN                      NaN               NaN 1999-02-10 1999-02-10   \n",
       "4   NaN                      NaN               NaN        NaT        NaT   \n",
       "\n",
       "  PhenoState comname                                            Comment  \\\n",
       "0        NaN     NaN  Hierba de 1 metro de altura, inflorescencias t...   \n",
       "1        NaN     NaN  Hierba rastrera. Botón floral amarillo|En suel...   \n",
       "2        NaN     NaN  Liana con hojas discóloras con indumento blanc...   \n",
       "3        NaN     NaN  Arbusto de 2 metros de altura. Espinas en hoja...   \n",
       "4        NaN     NaN  Hierba erecta 1 m. Fronda 1.5 , larga|Parcela ...   \n",
       "\n",
       "   SourceID usos  dbid  \n",
       "0       NaN  NaN   NaN  \n",
       "1       NaN  NaN   NaN  \n",
       "2       NaN  NaN   NaN  \n",
       "3       NaN  NaN   NaN  \n",
       "4       NaN  NaN   NaN  "
      ]
     },
     "execution_count": 167,
     "metadata": {},
     "output_type": "execute_result"
    }
   ],
   "source": [
    "ori[['colde', 'CollectionNumberVerbatim', 'CollectionNumber', 'DateInit', 'DateEnd', 'PhenoState',\n",
    "\t 'comname', 'Comment', 'SourceID', 'usos', 'dbid']].head()\n",
    "\n",
    "#Reference"
   ]
  },
  {
   "cell_type": "markdown",
   "id": "4e17d136",
   "metadata": {},
   "source": [
    "________"
   ]
  },
  {
   "cell_type": "code",
   "execution_count": null,
   "id": "50ffb7d3",
   "metadata": {},
   "outputs": [],
   "source": [
    "# Multispecies hybrids\n",
    "\n",
    "taxa_map.loc[taxa_map.Name_submitted.str.contains('×') & \n",
    "\ttaxa_map.Name_matched.notna() & \n",
    "\t~taxa_map.Name_matched.str.contains(r'×',na=False)]"
   ]
  },
  {
   "cell_type": "markdown",
   "id": "6c43f390",
   "metadata": {},
   "source": [
    "-------"
   ]
  },
  {
   "cell_type": "code",
   "execution_count": 266,
   "id": "e8e3ddef",
   "metadata": {},
   "outputs": [],
   "source": [
    "df = pd.read_sql(sql='SELECT * FROM Taxa', con=connection)"
   ]
  },
  {
   "cell_type": "code",
   "execution_count": null,
   "id": "f5893308",
   "metadata": {},
   "outputs": [],
   "source": [
    "df"
   ]
  },
  {
   "cell_type": "code",
   "execution_count": null,
   "id": "f5e69375",
   "metadata": {},
   "outputs": [],
   "source": [
    "#connection.execute(text('SET FOREIGN_KEY_CHECKS = 1'))"
   ]
  },
  {
   "cell_type": "code",
   "execution_count": 249,
   "id": "18445158",
   "metadata": {},
   "outputs": [],
   "source": [
    "connection.close()"
   ]
  }
 ],
 "metadata": {
  "kernelspec": {
   "display_name": "base",
   "language": "python",
   "name": "python3"
  },
  "language_info": {
   "codemirror_mode": {
    "name": "ipython",
    "version": 3
   },
   "file_extension": ".py",
   "mimetype": "text/x-python",
   "name": "python",
   "nbconvert_exporter": "python",
   "pygments_lexer": "ipython3",
   "version": "3.12.2"
  }
 },
 "nbformat": 4,
 "nbformat_minor": 5
}
