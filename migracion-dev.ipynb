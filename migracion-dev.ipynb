{
 "cells": [
  {
   "cell_type": "markdown",
   "id": "a4ef9551",
   "metadata": {},
   "source": [
    "# Mapeo campos \n",
    "\n",
    "|Fuente | Sources |\n",
    "|---|---|\n",
    "|Nombre base para flora de Bogota | Taxa |\n",
    "|Comentario de validación | Taxa.Comment |\n",
    "|Para revisión | Taxa.CheckPriority 0 or 1 |\n",
    "|Endemica | Taxa.Distribution |\n",
    "|Estado de amenaza | RedListAssessments with Standard='JBB'\n",
    "|Origen y status | Origins |\n",
    "|Trabajo de No nativas Flora de Bogotá | Origins.Type???\n",
    "|Determinador en fuente | Identifications.IdentifiedBy Merge with next field |\n",
    "|Determinador Depurado | Identifications.IdentifiedBy |\n",
    "|Calificador en fuente | Identifications.Certainty |\n",
    "|Fecha_Determinacion en fuente | Identifications.Date |\n",
    "|Fecha_Determinacion_(Year) | Identifications.Date |\n",
    "|Fecha_Determinacion_(Month) | Identifications.Date |\n",
    "|Fecha_Determinacion_(Day) | Identifications.Date |\n",
    "|State | Areas |\n",
    "|County | Areas |\n",
    "|Localidad | Locations |\n",
    "|Código de localidad georreferenciada | Locations.BD2020ID |\n",
    "|Latitud_original | Locations.Latitude |\n",
    "|Longitud_original | Locations.Longitud |\n",
    "|Elev__minima | Locations.ElevationMin |\n",
    "|Elev__maxima | Locations.ElevationMax |\n",
    "|Latitud_decimal | Geocodings.InterpretedLat, Geocoder is DB_2020 |\n",
    "|Longitud_decimal | Geocodings.InterpretedLon, Geocoder is DB_2020 |\n",
    "|Latitud para trabajo de mapas | Geocodings.InterpretedLat, Geocoder is mapas_2020 |\n",
    "|Longitud para trabajo de mapas | Geocodings.InterpretedLon, Geocoder is mapas_2020 |\n",
    "|Extensión de georreferenciación | Geocodins.Uncertainty ???\n",
    "|DATUM | Geocodings.Datum |\n",
    "|Colector depurado | Occurrences.Collector |\n",
    "|Colector principal | If no colector depurado, Occurrences.Collector, otherwise Occurrences.CollectorVerbatim  |\n",
    "|Número de colector | Occurrences.CollectionNumber & Occurrences.CollectionNumberVerbatim |\n",
    "|Fecha_Inicial_(Year) | Occurrences.DateInit, Occurrences.DateEnd |\n",
    "|Fecha_Inicial_(Month) | Occurrences.DateInit, Occurrences.DateEnd |\n",
    "|Fecha_Inicial_(day) | Occurrences.DateInit, Occurrences.DateEnd |\n",
    "|Notas_Localidad_y_Habitat | Occurrences.Comment  |\n",
    "|Fenologia | Occurrences.PhenoState |\n",
    "|Descripcion ejemplar | Occurrences.Comment |\n",
    "|Usos | Occurrences.Use |\n",
    "|Nombres_comunes | Occurrences.CommonName |\n",
    "|Comentarios generales | Occurrences.Comment |\n",
    "|Referencia bibligráfica | Occurrence.Sources |\n",
    "|Numero original en Base 2015 | Occurrence.DB2015ID |\n",
    "|Origen para herbario | Specimens.Institution  |\n",
    "|Número de identificación | Specimens.SpecimenCode |\n",
    "|Fecha_Inicial | REMOVE |\n",
    "|Notas de altura | REMOVE ???????\n",
    "|Familia Revisada | REMOVE |\n",
    "|Género revisado | REMOVE |\n",
    "|Comentarios de determinación en fuente | REMOVE |\n",
    "|Nivel taxonómico | REMOVE, info retrieved from TPRS |\n",
    "|Familia en fuente | REMOVE  |\n",
    "|Género en fuente | REMOVE  |\n",
    "|Epíteto específico en fuente | REMOVE  |\n",
    "|Autor del epíteto específico en fuente | REMOVE  |\n",
    "|Epíteto infraespecífico | REMOVE  |\n",
    "|Autor del infraespecífico en fuente | REMOVE  |\n",
    "|Nombre científico en fuente | REMOVE  |\n",
    "|Nombre validado | REMOVE  |\n",
    "|Nivel taxonómico en fuente | REMOVE  |\n",
    "|Herbario de proveniencia | REMOVE  |"
   ]
  },
  {
   "cell_type": "code",
   "execution_count": 1,
   "id": "0c38d22a",
   "metadata": {},
   "outputs": [],
   "source": [
    "from sqlalchemy import create_engine, text\n",
    "import pandas as pd\n",
    "import numpy as np\n",
    "\n",
    "import requests\n",
    "import json\n",
    "import re\n",
    "import time\n",
    "from datetime import datetime\n",
    "\n",
    "import pykew.powo as powo\n",
    "from pygbif import species, registry\n",
    "\n",
    "import credentials"
   ]
  },
  {
   "cell_type": "code",
   "execution_count": null,
   "id": "8b6397b0",
   "metadata": {},
   "outputs": [],
   "source": [
    "orifile = '../Datos/Flora_de_Bogota/Registros_2020/FlBogota2020.csv'\n",
    "ori = pd.read_csv(orifile, dtype={'Elev__minima': str, 'Elev__maxima': str})"
   ]
  },
  {
   "cell_type": "code",
   "execution_count": null,
   "id": "1ce0c8d1",
   "metadata": {},
   "outputs": [],
   "source": [
    "tnrs_url = 'https://tnrsapi.xyz/tnrs_api.php'"
   ]
  },
  {
   "cell_type": "code",
   "execution_count": null,
   "id": "54177b49",
   "metadata": {},
   "outputs": [],
   "source": [
    "def tropicos(name, api_key):\n",
    "\tservice = 'http://services.tropicos.org/name'\n",
    "\tr = requests.get(\n",
    "\t\tf'{service}/search/?apikey={api_key}&name={name}&format=json'\n",
    "\t)\n",
    "\t#s = requests.get(\n",
    "\t#\tf'{service}/{r['NameId']}/highertaxa/?apikey={api_key}&name={name}&format=json'\n",
    "\t#)\n",
    "\t\n",
    "\treturn r.json()\n"
   ]
  },
  {
   "cell_type": "code",
   "execution_count": null,
   "id": "9d854693",
   "metadata": {},
   "outputs": [],
   "source": [
    "def powo_query(name):\n",
    "\tact_name = ''\n",
    "\tbits = re.split(r'\\s+', name)\n",
    "\n",
    "\tif bits[0] == '×' or bits[1] == '×':\n",
    "\t\tact_name = ' '.join(bits[:3])\n",
    "\telse:\n",
    "\t\tact_name = ' '.join(bits[:2])\n",
    "\t\n",
    "\tr = powo.search(act_name)\n",
    "\n",
    "\tif r.size() == 1:\n",
    "\t\tresults = [i for i in r]\n",
    "\t\treturn (results[0]['name'], results[0]['author'], results[0]['rank'])\n",
    "\t\n",
    "\telif r.size() > 1:\n",
    "\t\treturn f'Multiples results with name {name}'\n",
    "\t\n",
    "\telse:\n",
    "\t\treturn f'No results with name {name}'"
   ]
  },
  {
   "cell_type": "markdown",
   "id": "31b7e126",
   "metadata": {},
   "source": [
    "### Si la consulta a TNRS ya fue realizada y los resultados guardados:"
   ]
  },
  {
   "cell_type": "code",
   "execution_count": null,
   "id": "d02e38e2",
   "metadata": {},
   "outputs": [],
   "source": [
    "# Map between original name and corrected version by TNRS\n",
    "taxa_map_file = 'tnrs_query.csv'\n",
    "taxa_map = pd.read_csv(taxa_map_file)"
   ]
  },
  {
   "cell_type": "markdown",
   "id": "895dfcbc",
   "metadata": {},
   "source": [
    "### De lo contrario, aqui se realiza la consulta"
   ]
  },
  {
   "cell_type": "code",
   "execution_count": null,
   "id": "2a6a919c",
   "metadata": {},
   "outputs": [],
   "source": [
    "orinames = ori['Nombre base para flora de Bogota'].unique()\n",
    "query = [[i, j] for i,j in enumerate(orinames) if pd.notna(j)]\n",
    "\n",
    "r = requests.post(\n",
    "\ttnrs_url, \n",
    "\theaders={\"Content-Type\": \"application/json\"},\n",
    "\tdata=json.dumps({\n",
    "\t\t'data': query,\n",
    "\t\t'opts': {\n",
    "\t\t\t'sources': ['wcvp','wfo'],\n",
    "\t\t\t'class': 'wcvp',\n",
    "\t\t\t'mode': 'resolve',\n",
    "\t\t\t'matches' : 'best'\n",
    "\t\t}\t\t\n",
    "\t})\t\n",
    ")"
   ]
  },
  {
   "cell_type": "code",
   "execution_count": null,
   "id": "376d5637",
   "metadata": {},
   "outputs": [],
   "source": [
    "taxa_map = pd.DataFrame.from_records(results)\n",
    "taxa_map.to_csv('tnrs_query.csv', index=False)"
   ]
  },
  {
   "cell_type": "code",
   "execution_count": null,
   "id": "2ef9d7ca",
   "metadata": {},
   "outputs": [],
   "source": [
    "taxa_map.loc[taxa_map.Overall_score == '', 'Overall_score'] = 'NAN'\n",
    "taxa_map['Overall_score'] = taxa_map.Overall_score.astype(np.float32)"
   ]
  },
  {
   "cell_type": "markdown",
   "id": "b6d09fdb",
   "metadata": {},
   "source": [
    "# Aqui se continua la normalizacion de nombres"
   ]
  },
  {
   "cell_type": "markdown",
   "id": "a8983612",
   "metadata": {},
   "source": [
    "### Consulta a POWO de hibridos"
   ]
  },
  {
   "cell_type": "markdown",
   "id": "d8bc8f22",
   "metadata": {},
   "source": [
    "Primero remover hibridos no publicados, solo se registran a nivel de determinacion"
   ]
  },
  {
   "cell_type": "code",
   "execution_count": null,
   "id": "cc812e33",
   "metadata": {},
   "outputs": [],
   "source": [
    "taxa_map = taxa_map.drop(\n",
    "\tindex=taxa_map.loc[taxa_map.Name_submitted.str.contains(r'Salvia [\\w\\.\\s]+ ×')].index\n",
    ")"
   ]
  },
  {
   "cell_type": "code",
   "execution_count": null,
   "id": "9701ecbe",
   "metadata": {},
   "outputs": [],
   "source": [
    "for row in taxa_map.loc[taxa_map.Name_submitted.str.contains('×')].itertuples():\n",
    "\t#print(row.Name_submitted)\n",
    "\tpo = powo_query(row.Name_submitted)\n",
    "\tif isinstance(po, tuple):\n",
    "\t\ttaxa_map.loc[row.Index, 'Name_matched'] = po[0]\n",
    "\t\ttaxa_map.loc[row.Index, 'Author_matched'] = po[1]\n",
    "\t\ttaxa_map.loc[row.Index, 'Name_matched_rank'] = po[2].lower()\n",
    "\telse:\n",
    "\t\tprint(po)\n",
    "\ttime.sleep(1)"
   ]
  },
  {
   "cell_type": "code",
   "execution_count": null,
   "id": "b48e2ec3",
   "metadata": {},
   "outputs": [],
   "source": [
    "# Manually correct names couldn't be matched easily by POWO,\n",
    "# but there is a simple solution there \n",
    "\n",
    "taxa_map.loc[\n",
    "\t(taxa_map.Name_submitted.str.startswith('Pelargonium × hortorum')), \n",
    "\t['Name_matched', 'Author_matched', 'Name_matched_rank']\n",
    "\t] = ('Pelargonium × hortorum', 'L.H.Bailey', 'species')\n",
    "\n",
    "taxa_map.loc[\n",
    "\t(taxa_map.Name_submitted.str.startswith('Abelia × grandiflora')), \n",
    "\t['Name_matched', 'Author_matched', 'Name_matched_rank']\n",
    "\t] = ('Abelia × grandiflora', '(Rovelli ex André) Rehder', 'species')\n",
    "\n",
    "taxa_map.loc[\n",
    "\t(taxa_map.Name_submitted.str.startswith('Lavatera × clementii')), \n",
    "\t['Name_matched', 'Author_matched', 'Name_matched_rank']\n",
    "\t] = ('Lavatera × clementii', 'Cheek', 'species')\n",
    "\n",
    "taxa_map.loc[\n",
    "\t(taxa_map.Name_submitted.str.startswith('Polygala × dalmasiana')), \n",
    "\t['Name_matched', 'Author_matched', 'Name_matched_rank']\n",
    "\t] = ('Polygala', np.nan, 'genus')\n",
    "\n",
    "taxa_map.loc[\n",
    "\t(taxa_map.Name_submitted.str.startswith('Epidendrum chicoense')), \n",
    "\t['Name_matched', 'Author_matched', 'Name_matched_rank']\n",
    "\t] = ('Epidendrum', np.nan, 'genus')\n",
    "\n",
    "taxa_map.loc[\n",
    "\t(taxa_map.Name_submitted.str.startswith('Plantae')), \n",
    "\t['Name_matched', 'Author_matched', 'Name_matched_rank']\n",
    "\t] = (np.nan, np.nan, np.nan)\n",
    "\n",
    "# TNRS couldn't get appropriate response for the following\n",
    "\n",
    "taxa_map.loc[\n",
    "\t(taxa_map.Name_submitted.str.startswith('Callianthe striata')), \n",
    "\t['Name_matched', 'Author_matched', 'Name_matched_rank']\n",
    "\t] = ('Callianthe striata', '(G.F.Dicks. ex Lindl.) Donnell', 'species')\n",
    "\n",
    "taxa_map.loc[\n",
    "\t(taxa_map.Name_submitted.str.startswith('Phlegmariurus acifolius')), \n",
    "\t['Name_matched', 'Author_matched', 'Name_matched_rank']\n",
    "\t] = ('Phlegmariurus acifolius', '(Rolleri) B.Øllg.', 'species')\n"
   ]
  },
  {
   "cell_type": "code",
   "execution_count": null,
   "id": "a7903ff6",
   "metadata": {},
   "outputs": [],
   "source": [
    "# Save eliminated binomials from the database, they probably are invalid or unpublished names\n",
    "taxa_map.loc[(taxa_map.Overall_score < 0.9) & (taxa_map.Name_matched_rank == 'genus'),\n",
    "\t['Name_submitted', 'Name_matched', 'Name_matched_rank']\n",
    "\t].to_csv('binomios_eliminados.csv', index=False)"
   ]
  },
  {
   "cell_type": "code",
   "execution_count": null,
   "id": "9d3cba9d",
   "metadata": {},
   "outputs": [],
   "source": [
    "# Remove lichens: Ramalina, Usnea, Sticta, Candelariella\n",
    "# Remove general indets: 'Pteridophyta', 'Magnoliophyta', 'Plantae', 'Tracheophyta'\n",
    "\n",
    "taxa_map = taxa_map.drop(\n",
    "\tindex=taxa_map[taxa_map.Name_submitted.isin([\n",
    "\t\t'Ramalina', 'Usnea', 'Sticta', 'Candelariella',\n",
    "\t\t'Pteridophyta', 'Magnoliophyta', 'Plantae', 'Tracheophyta'\n",
    "\t])].index\n",
    ")"
   ]
  },
  {
   "cell_type": "code",
   "execution_count": null,
   "id": "daf36b28",
   "metadata": {},
   "outputs": [],
   "source": [
    "taxa_map.to_csv('taxa_map.csv', index=False)"
   ]
  },
  {
   "cell_type": "markdown",
   "id": "e268e759",
   "metadata": {},
   "source": [
    "### Obtener jerarquía taxonómica de World Flora Online"
   ]
  },
  {
   "cell_type": "code",
   "execution_count": null,
   "id": "c8a7f4a0",
   "metadata": {},
   "outputs": [],
   "source": [
    "taxa_map = pd.read_csv('taxa_map.csv')"
   ]
  },
  {
   "cell_type": "code",
   "execution_count": null,
   "id": "541d62e2",
   "metadata": {},
   "outputs": [],
   "source": [
    "wfo_file = '../../Botanical_databases/world_flora_online/classification.csv'"
   ]
  },
  {
   "cell_type": "code",
   "execution_count": null,
   "id": "0b052125",
   "metadata": {},
   "outputs": [],
   "source": [
    "datyp = {'localID':str, 'subfamily': str, 'tribe': str, 'subtribe': str, \n",
    " \t'subgenus':str, 'infraspecificEpithet': str, 'tplID': str}"
   ]
  },
  {
   "cell_type": "code",
   "execution_count": null,
   "id": "1c2ea82b",
   "metadata": {},
   "outputs": [],
   "source": [
    "wfo = pd.read_csv(wfo_file, sep='\\t', encoding='latin', dtype=datyp)"
   ]
  },
  {
   "cell_type": "code",
   "execution_count": null,
   "id": "5e900b99",
   "metadata": {},
   "outputs": [],
   "source": [
    "taxa_in = taxa_map.groupby(['Name_matched','Author_matched']\n",
    "\t).size(\n",
    "\t).reset_index(\n",
    "\t).drop(columns=0\n",
    "\t).rename(columns={'Name_matched': 'Name', 'Author_matched':'Author'})"
   ]
  },
  {
   "cell_type": "code",
   "execution_count": null,
   "id": "7aff1f62",
   "metadata": {},
   "outputs": [],
   "source": [
    "# For some reason Passiflora tripartita is retrieved twice, one with the wrong authorship\n",
    "taxa_in = taxa_in.drop(\n",
    "\tindex=taxa_in[\n",
    "\t\t(taxa_in.Name == 'Passiflora tripartita') & \n",
    "\t\t(taxa_in.Author == '(Juss.) Poir.')\n",
    "\t].index).reset_index()"
   ]
  },
  {
   "cell_type": "code",
   "execution_count": null,
   "id": "c79c1cc1",
   "metadata": {},
   "outputs": [],
   "source": [
    "def get_family(name):\n",
    "\tret = np.nan\n",
    "\tif pd.isna(name): return np.nan\n",
    "\tbits = re.split(r'\\s+', name)\n",
    "\tnname = bits[0]\n",
    "\tout = wfo.loc[(wfo.scientificName == nname) & (wfo.taxonRank == 'genus')]\n",
    "\n",
    "\tif out.shape[0] == 1: \n",
    "\t\tret =  out['family'].item()\n",
    "\t\n",
    "\telif out.shape[0] > 1:\n",
    "\n",
    "\t\tif out[out['nomenclaturalStatus'] == 'Valid'].shape[0] == 1:\n",
    "\t\t\tret =  out.loc[out['nomenclaturalStatus'] == 'Valid', 'family'].item()\n",
    "\n",
    "\t\telif out[out['taxonomicStatus'] == 'Accepted'].shape[0] == 1:\n",
    "\t\t\tret =  out.loc[out['taxonomicStatus'] == 'Accepted', 'family'].item()\n",
    "\n",
    "\t\telse:\n",
    "\t\t\tif len(bits) > 1: nname = f'{bits[0]} {bits[1]}'\n",
    "\t\t\tout = wfo.loc[(wfo.scientificName == nname)]\n",
    "\t\t\tfams = out.family.unique()\n",
    "\t\t\tfams = [x for x in fams if pd.notna(x)]\n",
    "\n",
    "\t\t\tif len(fams) == 1:\n",
    "\t\t\t\tret =  fams[0]\t\t\n",
    "\t\t\n",
    "\telif out.shape[0] < 1 and re.search(r'\\w+aceae$', nname):\n",
    "\t\tout = wfo.loc[(wfo.scientificName == nname) & (wfo.taxonRank == 'family')]\n",
    "\t\tfams = out.family.unique()\n",
    "\t\tfams = [x for x in fams if pd.notna(x)]\n",
    "\n",
    "\t\tif len(fams) == 1:\n",
    "\t\t\tret =  fams[0]\n",
    "\n",
    "\treturn ret\n"
   ]
  },
  {
   "cell_type": "code",
   "execution_count": null,
   "id": "ab25c446",
   "metadata": {},
   "outputs": [],
   "source": [
    "taxa_in['wfo_family'] = taxa_in.Name.apply(get_family)"
   ]
  },
  {
   "cell_type": "code",
   "execution_count": null,
   "id": "1eb8d76a",
   "metadata": {},
   "outputs": [],
   "source": [
    "# Some missing names in World Flora Online\n",
    "taxa_in.loc[taxa_in.Name == 'Hydrophyllaceae', 'wfo_family'] = 'Hydrophyllaceae'\n",
    "taxa_in.loc[taxa_in.Name == 'Stemmatella', 'wfo_family'] = 'Asteraceae'\n",
    "taxa_in.loc[taxa_in.Name == 'Coniza', 'wfo_family'] = 'Asteraceae'\n",
    "taxa_in.loc[taxa_in.Name == '× Agropogon lutosus', 'wfo_family'] = 'Poaceae'\n"
   ]
  },
  {
   "cell_type": "code",
   "execution_count": null,
   "id": "9b219adc",
   "metadata": {},
   "outputs": [],
   "source": [
    "famis = taxa_in.groupby('wfo_family'\n",
    "\t).size(\n",
    "\t).reset_index(\n",
    "\t)"
   ]
  },
  {
   "cell_type": "code",
   "execution_count": null,
   "id": "aa7243a6",
   "metadata": {},
   "outputs": [],
   "source": [
    "def get_papa(name):\n",
    "\tret = np.nan\n",
    "\n",
    "\tif pd.notna(name):\n",
    "\t\tout = wfo.loc[(wfo.scientificName == name), 'parentNameUsageID']\n",
    "\t\tth = [x for x in out if pd.notna(x)]\n",
    "\t\t\n",
    "\t\tif len(th) == 1:\n",
    "\t\t\tparid = th[0]\n",
    "\t\t\tret = wfo.loc[(wfo.taxonID == parid), 'scientificName'].item()\n",
    "\t\n",
    "\treturn ret"
   ]
  },
  {
   "cell_type": "code",
   "execution_count": null,
   "id": "4f16aa19",
   "metadata": {},
   "outputs": [],
   "source": [
    "famis['wfo_order'] = famis.wfo_family.apply(get_papa)"
   ]
  },
  {
   "cell_type": "code",
   "execution_count": null,
   "id": "73872bb8",
   "metadata": {},
   "outputs": [],
   "source": [
    "famis.loc[famis.wfo_family == 'Hydrophyllaceae', 'wfo_order'] = 'Solanales'"
   ]
  },
  {
   "cell_type": "code",
   "execution_count": null,
   "id": "7a5bf05e",
   "metadata": {},
   "outputs": [],
   "source": [
    "famis['wfo_clade'] = famis.wfo_order.apply(get_papa)"
   ]
  },
  {
   "cell_type": "code",
   "execution_count": null,
   "id": "01ffd7f2",
   "metadata": {},
   "outputs": [],
   "source": [
    "taxa_in = taxa_in.merge(famis, 'left', 'wfo_family')"
   ]
  },
  {
   "cell_type": "code",
   "execution_count": null,
   "id": "92aa85d0",
   "metadata": {},
   "outputs": [],
   "source": [
    "taxa_in.drop(columns=0).to_csv('taxa_in.csv', index=False)"
   ]
  },
  {
   "cell_type": "markdown",
   "id": "7d3e6569",
   "metadata": {},
   "source": [
    "### Verificación de nombres realizada y previamente guardada localmente\n",
    "\n",
    "Abajo se formalizan las jerarquías dado el diseño de la tabla Taxa en la DB"
   ]
  },
  {
   "cell_type": "code",
   "execution_count": null,
   "id": "df2bd006",
   "metadata": {},
   "outputs": [],
   "source": [
    "taxa_in = pd.read_csv('taxa_in.csv')"
   ]
  },
  {
   "cell_type": "code",
   "execution_count": null,
   "id": "02230785",
   "metadata": {},
   "outputs": [],
   "source": [
    "taxa_in = taxa_in.reset_index(drop=True)"
   ]
  },
  {
   "cell_type": "code",
   "execution_count": null,
   "id": "9d182e6c",
   "metadata": {},
   "outputs": [],
   "source": [
    "taxa_in['TaxonID'] = taxa_in.index + 1"
   ]
  },
  {
   "cell_type": "code",
   "execution_count": null,
   "id": "02eb0167",
   "metadata": {},
   "outputs": [],
   "source": [
    "taxa_in[['CheckPriority', 'Distribution', 'Parent']] = np.nan, np.nan, np.nan"
   ]
  },
  {
   "cell_type": "code",
   "execution_count": null,
   "id": "f7626228",
   "metadata": {},
   "outputs": [],
   "source": [
    "oriname = 'Nombre base para flora de Bogota'\n",
    "\n",
    "for row in taxa_in.itertuples():\n",
    "\t\n",
    "\tqu = (ori[oriname] == row.Name) & (ori.Endemica == 'SI')\n",
    "\t\n",
    "\tif ori.loc[qu].shape[0] > 0:\n",
    "\t\ttaxa_in.loc[taxa_in.Name == row.Name, 'Distribution'] = 0\n",
    "\n",
    "\tqu = (ori[oriname] == row.Name) & (ori['Para revisión'] == 'SI')\n",
    "\t\n",
    "\tif ori.loc[qu].shape[0] > 0:\n",
    "\t\ttaxa_in.loc[taxa_in.Name == row.Name, 'CheckPriority'] = 5"
   ]
  },
  {
   "cell_type": "code",
   "execution_count": null,
   "id": "366f204c",
   "metadata": {},
   "outputs": [],
   "source": [
    "last_id = taxa_in.TaxonID.iloc[-1]"
   ]
  },
  {
   "cell_type": "code",
   "execution_count": null,
   "id": "a26b634f",
   "metadata": {},
   "outputs": [],
   "source": [
    "for th in taxa_in.wfo_clade.unique():\n",
    "\tqu = taxa_in.loc[taxa_in.Name == th]\n",
    "\tif qu.shape[0] == 0:\n",
    "\t\tlast_id += 1\n",
    "\t\trec = {i:np.nan for i in taxa_in.columns}\n",
    "\t\trec['Name'] = th\n",
    "\t\trec['TaxonID'] = last_id\n",
    "\t\ttaxa_in = pd.concat([\n",
    "\t\t\ttaxa_in, \n",
    "\t\t\tpd.DataFrame.from_records([rec])\n",
    "\t\t])\n"
   ]
  },
  {
   "cell_type": "code",
   "execution_count": null,
   "id": "3ab888a9",
   "metadata": {},
   "outputs": [],
   "source": [
    "for th in taxa_in.wfo_order[taxa_in.wfo_order.notna()].unique():\n",
    "\tqu = taxa_in.loc[taxa_in.Name == th]\n",
    "\tif qu.shape[0] == 0:\n",
    "\t\tlast_id += 1\n",
    "\t\tpapa = taxa_in.loc[taxa_in.wfo_order == th, 'wfo_clade'].iloc[0]\n",
    "\t\tpapaid = taxa_in.loc[taxa_in.Name == papa, 'TaxonID'].iloc[0]\n",
    "\t\trec = {i:np.nan for i in taxa_in.columns}\n",
    "\t\trec['Name'] = th\n",
    "\t\trec['Parent'] = papaid\n",
    "\t\trec['TaxonID'] = last_id\n",
    "\t\ttaxa_in = pd.concat([\n",
    "\t\t\ttaxa_in, \n",
    "\t\t\tpd.DataFrame.from_records([rec])\n",
    "\t\t])\n"
   ]
  },
  {
   "cell_type": "code",
   "execution_count": null,
   "id": "d0aed830",
   "metadata": {},
   "outputs": [],
   "source": [
    "for th in taxa_in.wfo_family[taxa_in.wfo_family.notna()].unique():\n",
    "\tqu = taxa_in.loc[taxa_in.Name == th]\n",
    "\tif qu.shape[0] == 0:\n",
    "\t\tlast_id += 1\n",
    "\t\tpapa = taxa_in.loc[taxa_in.wfo_family == th, 'wfo_order'].iloc[0]\n",
    "\t\tpapaid = taxa_in.loc[taxa_in.Name == papa, 'TaxonID'].iloc[0]\n",
    "\t\trec = {i:np.nan for i in taxa_in.columns}\n",
    "\t\trec['Name'] = th\n",
    "\t\trec['Parent'] = papaid\n",
    "\t\trec['TaxonID'] = last_id\n",
    "\t\ttaxa_in = pd.concat([\n",
    "\t\t\ttaxa_in, \n",
    "\t\t\tpd.DataFrame.from_records([rec])\n",
    "\t\t])\n",
    "\telse:\n",
    "\t\tpapa = taxa_in.loc[taxa_in.wfo_family == th, 'wfo_order'].iloc[0]\n",
    "\t\tpapaid = taxa_in.loc[taxa_in.Name == papa, 'TaxonID'].iloc[0]\n",
    "\t\ttaxa_in.loc[taxa_in.Name == th, 'Parent'] = papaid\n",
    "\n"
   ]
  },
  {
   "cell_type": "code",
   "execution_count": null,
   "id": "0c1cdd2b",
   "metadata": {},
   "outputs": [],
   "source": [
    "no_gens = taxa_in.wfo_family.unique().tolist() + \\\n",
    "\ttaxa_in.wfo_order.unique().tolist() + \\\n",
    "\ttaxa_in.wfo_clade.unique().tolist() + ['×']\n",
    "\n",
    "no_gens = [i for i in no_gens if pd.notna(i)]"
   ]
  },
  {
   "cell_type": "code",
   "execution_count": null,
   "id": "064684c6",
   "metadata": {},
   "outputs": [],
   "source": [
    "gens = [x for x in taxa_in.Name.apply(lambda x: re.split(r'\\s+', x)[0]).unique()]\n",
    "gens = [x for x in gens if not x in no_gens]"
   ]
  },
  {
   "cell_type": "code",
   "execution_count": null,
   "id": "5f57ca1f",
   "metadata": {},
   "outputs": [],
   "source": [
    "for gn in gens:\n",
    "\t#print(gn)\n",
    "\t\n",
    "\tif pd.notna(gn):\n",
    "\n",
    "\t\tqu = taxa_in.loc[taxa_in.Name == gn]\n",
    "\n",
    "\t\tif qu.shape[0] == 0:\n",
    "\t\t\tlast_id += 1\n",
    "\t\t\tpapa = taxa_in.loc[taxa_in.Name.str.startswith(f'{gn} '), 'wfo_family'].iloc[0]\n",
    "\t\t\t#print(papa)\n",
    "\t\t\tpapaid = taxa_in.loc[taxa_in.Name == papa, 'TaxonID'].iloc[0]\n",
    "\t\t\t#print(papaid)\n",
    "\t\t\trec = {i:np.nan for i in taxa_in.columns}\n",
    "\t\t\trec['Name'] = gn\n",
    "\t\t\trec['Parent'] = papaid\n",
    "\t\t\trec['TaxonID'] = last_id\n",
    "\t\t\ttaxa_in = pd.concat([\n",
    "\t\t\t\ttaxa_in, \n",
    "\t\t\t\tpd.DataFrame.from_records([rec])\n",
    "\t\t\t])\n",
    "\n",
    "\t\telse:\n",
    "\t\t\tpapa = taxa_in.loc[taxa_in.Name == gn, 'wfo_family'].iloc[0]\n",
    "\t\t\t#print(papa)\n",
    "\t\t\tpapaid = taxa_in.loc[taxa_in.Name == papa, 'TaxonID'].iloc[0]\n",
    "\t\t\t#print(papaid)\n",
    "\t\t\ttaxa_in.loc[taxa_in.Name == gn, 'Parent'] = papaid\n",
    "\n"
   ]
  },
  {
   "cell_type": "markdown",
   "id": "ff107cab",
   "metadata": {},
   "source": [
    "Por alguna razón Vriesea está incorrectamente clasificada"
   ]
  },
  {
   "cell_type": "code",
   "execution_count": null,
   "id": "7e48f491",
   "metadata": {},
   "outputs": [],
   "source": [
    "taxa_in.loc[taxa_in.Name == 'Bromeliaceae']"
   ]
  },
  {
   "cell_type": "code",
   "execution_count": null,
   "id": "42610269",
   "metadata": {},
   "outputs": [],
   "source": [
    "taxa_in.loc[taxa_in.Name == 'Vriesea', 'Parent'] = 3230"
   ]
  },
  {
   "cell_type": "code",
   "execution_count": null,
   "id": "a727bc3f",
   "metadata": {},
   "outputs": [],
   "source": [
    "for sp in taxa_in.loc[\n",
    "\ttaxa_in.Name.str.contains(r'^[\\w\\-]+\\s+\\w+') |\n",
    "\ttaxa_in.Name.str.contains(r'\\w+\\s+×'),\n",
    "\t'Name'\n",
    "\t].unique():\n",
    "\n",
    "\t#print(sp)\n",
    "\tgn = re.split(r'\\s+', sp)[0]\n",
    "\t#print(gn)\n",
    "\tqu = taxa_in.loc[taxa_in.Name == gn]\n",
    "\tpapaid = taxa_in.loc[taxa_in.Name == gn, 'TaxonID'].iloc[0]\n",
    "\t#print(papaid)\n",
    "\ttaxa_in.loc[taxa_in.Name == sp, 'Parent'] = papaid"
   ]
  },
  {
   "cell_type": "code",
   "execution_count": null,
   "id": "50e5930d",
   "metadata": {},
   "outputs": [],
   "source": [
    "taxa_in.loc[taxa_in.Name == '× Agropogon lutosus', 'Parent'\n",
    "\t] = taxa_in.loc[taxa_in.Name == 'Andropogon'].index[0]"
   ]
  },
  {
   "cell_type": "code",
   "execution_count": null,
   "id": "4f5a7c89",
   "metadata": {},
   "outputs": [],
   "source": [
    "taxa_in[['AcceptedName', 'Authority', 'Protologue', 'Comment']\n",
    "\t] = np.nan, np.nan, np.nan, np.nan"
   ]
  },
  {
   "cell_type": "code",
   "execution_count": null,
   "id": "1316de19",
   "metadata": {},
   "outputs": [],
   "source": [
    "taxa_in[['TaxonID', 'Name', 'Author', 'CheckPriority', 'Distribution', 'Parent',\n",
    "\t'AcceptedName', 'Authority', 'Protologue', 'Comment']].to_csv(\n",
    "\t'taxa_in.csv', index=False)"
   ]
  },
  {
   "cell_type": "markdown",
   "id": "3c846e29",
   "metadata": {},
   "source": [
    "# Insert Taxa table\n",
    "\n",
    "If all nomenclatural and classification validation has been conducted, read `taxa_in.csv` file and directly do insertion."
   ]
  },
  {
   "cell_type": "code",
   "execution_count": null,
   "id": "450c6e78",
   "metadata": {},
   "outputs": [],
   "source": [
    "taxa_in = pd.read_csv('taxa_in.csv')"
   ]
  },
  {
   "cell_type": "code",
   "execution_count": null,
   "id": "352b58a5",
   "metadata": {},
   "outputs": [],
   "source": [
    "conn_str = 'mysql+mysqlconnector://' + \\\n",
    "\tf'{credentials.mysql['username']}:{credentials.mysql['password']}' + \\\n",
    "\t'@localhost:3306/Mutis'\n",
    "engine = create_engine(conn_str)\n",
    "connection = engine.connect()"
   ]
  },
  {
   "cell_type": "code",
   "execution_count": null,
   "id": "1925a34d",
   "metadata": {},
   "outputs": [],
   "source": [
    "#connection.execute(text('SET FOREIGN_KEY_CHECKS = 0'))"
   ]
  },
  {
   "cell_type": "code",
   "execution_count": null,
   "id": "629be676",
   "metadata": {},
   "outputs": [],
   "source": [
    "taxa_in[['TaxonID', 'Name', 'Author', 'CheckPriority', 'Distribution', 'Parent',\n",
    "\t'AcceptedName', 'Authority', 'Protologue', 'Comment']\n",
    "\t].to_sql('Taxa', engine, if_exists='append', index=False, chunksize=10000, method='multi')"
   ]
  },
  {
   "cell_type": "markdown",
   "id": "947702f6",
   "metadata": {},
   "source": [
    "# Procesamiento tabla ocurrencias\n",
    "\n",
    "| Campo | Nota |\n",
    "|---|---|\n",
    "|Colector depurado | Occurrences.Collector |\n",
    "|Colector principal | If no colector depurado, Occurrences.Collector, otherwise Occurrences.CollectorVerbatim  |\n",
    "|Número de colector | Occurrences.CollectionNumber & Occurrences.CollectionNumberVerbatim |\n",
    "|Fecha_Inicial_(Year) | Occurrences.DateInit, Occurrences.DateEnd |\n",
    "|Fecha_Inicial_(Month) | Occurrences.DateInit, Occurrences.DateEnd |\n",
    "|Fecha_Inicial_(day) | Occurrences.DateInit, Occurrences.DateEnd |\n",
    "|Notas_Localidad_y_Habitat | Occurrences.Comment  |\n",
    "|Fenologia | Occurrences.PhenoState |\n",
    "|Descripcion ejemplar | Occurrences.Comment |\n",
    "|Usos | Occurrences.Use |\n",
    "|Nombres_comunes | Occurrences.CommonName |\n",
    "|Comentarios generales | Occurrences.Comment |\n",
    "|Referencia bibligráfica | Occurrence.Sources |\n",
    "|Numero original en Base 2015 | Occurrence.DB2015ID |"
   ]
  },
  {
   "cell_type": "code",
   "execution_count": 168,
   "id": "c9407d8e",
   "metadata": {},
   "outputs": [],
   "source": [
    "orifile = '../Datos/Flora_de_Bogota/Registros_2020/FlBogota2020.csv'\n",
    "\n",
    "colpp = {\n",
    "\t'Colector depurado': 'colde', 'Colector principal': 'colpri', \n",
    "\t'Número de colector': 'CollectionNumberVerbatim', \n",
    "\t'Fecha_Inicial_(Year)': 'year',\n",
    "\t'Fecha_Inicial_(Month)': 'month', 'Fecha_Inicial_(day)': 'day',\n",
    "\t'Notas_Localidad_y_Habitat': 'notas', 'Fenologia': 'feno',\n",
    "\t'Usos': 'usos', 'Nombres_comunes': 'comname', \n",
    "\t'Comentarios generales': 'comm', 'Referencia bibligráfica': 'ref',\n",
    "\t'Numero original en Base 2015': 'dbid', \n",
    "\t'Nombre base para flora de Bogota': 'name' \n",
    "\t}\n",
    "\n",
    "ori = pd.read_csv(orifile, dtype={'Elev__minima': str, 'Elev__maxima': str},\n",
    "\tusecols=colpp)"
   ]
  },
  {
   "cell_type": "code",
   "execution_count": 169,
   "id": "9499b057",
   "metadata": {},
   "outputs": [],
   "source": [
    "ori = ori.rename(columns=colpp)"
   ]
  },
  {
   "cell_type": "code",
   "execution_count": 170,
   "id": "a182ed9f",
   "metadata": {},
   "outputs": [],
   "source": [
    "bits = ori.loc[ori.CollectionNumberVerbatim.notna()\n",
    "\t& ori.CollectionNumberVerbatim.str.contains(r'[^\\d]'), 'CollectionNumberVerbatim'\n",
    "\t].str.extractall(r'(\\d+)'\n",
    "\t).reset_index(\n",
    "\t).pivot(index='level_0', columns='match', values=0\n",
    "\t)"
   ]
  },
  {
   "cell_type": "code",
   "execution_count": 171,
   "id": "8b046745",
   "metadata": {},
   "outputs": [],
   "source": [
    "ori = ori.merge(bits, 'left', left_index=True, right_index=True\n",
    "\t)"
   ]
  },
  {
   "cell_type": "code",
   "execution_count": 172,
   "id": "09ddcf44",
   "metadata": {},
   "outputs": [],
   "source": [
    "ori['CollectionNumber'] = np.nan"
   ]
  },
  {
   "cell_type": "code",
   "execution_count": 173,
   "id": "0a8a52d7",
   "metadata": {},
   "outputs": [
    {
     "name": "stderr",
     "output_type": "stream",
     "text": [
      "/var/folders/r9/h_r0bsyx5cs48jl3mmb_0gyh0000gn/T/ipykernel_7582/1177994287.py:2: UserWarning: This pattern is interpreted as a regular expression, and has match groups. To actually get the groups, use str.extract.\n",
      "  & ori.CollectionNumberVerbatim.str.contains(r'\\d+[^\\d]+\\d{1,2}([^\\d]+$|$)')]\n"
     ]
    },
    {
     "data": {
      "text/html": [
       "<div>\n",
       "<style scoped>\n",
       "    .dataframe tbody tr th:only-of-type {\n",
       "        vertical-align: middle;\n",
       "    }\n",
       "\n",
       "    .dataframe tbody tr th {\n",
       "        vertical-align: top;\n",
       "    }\n",
       "\n",
       "    .dataframe thead th {\n",
       "        text-align: right;\n",
       "    }\n",
       "</style>\n",
       "<table border=\"1\" class=\"dataframe\">\n",
       "  <thead>\n",
       "    <tr style=\"text-align: right;\">\n",
       "      <th></th>\n",
       "      <th>name</th>\n",
       "      <th>colpri</th>\n",
       "      <th>colde</th>\n",
       "      <th>CollectionNumberVerbatim</th>\n",
       "      <th>year</th>\n",
       "      <th>month</th>\n",
       "      <th>day</th>\n",
       "      <th>notas</th>\n",
       "      <th>feno</th>\n",
       "      <th>usos</th>\n",
       "      <th>comname</th>\n",
       "      <th>comm</th>\n",
       "      <th>ref</th>\n",
       "      <th>dbid</th>\n",
       "      <th>0</th>\n",
       "      <th>1</th>\n",
       "      <th>2</th>\n",
       "      <th>CollectionNumber</th>\n",
       "    </tr>\n",
       "  </thead>\n",
       "  <tbody>\n",
       "    <tr>\n",
       "      <th>5937</th>\n",
       "      <td>Pombalia parviflora (L.f.) Paula-Souza</td>\n",
       "      <td>Barkley</td>\n",
       "      <td>Barkley-W., F.A.</td>\n",
       "      <td>17C11</td>\n",
       "      <td>1947.0</td>\n",
       "      <td>10.0</td>\n",
       "      <td>27.0</td>\n",
       "      <td>NaN</td>\n",
       "      <td>NaN</td>\n",
       "      <td>NaN</td>\n",
       "      <td>NaN</td>\n",
       "      <td>NaN</td>\n",
       "      <td>Smith, L. B., &amp; Fernández-Pérez, Á. (1954). Re...</td>\n",
       "      <td>28133.0</td>\n",
       "      <td>17</td>\n",
       "      <td>11</td>\n",
       "      <td>NaN</td>\n",
       "      <td>NaN</td>\n",
       "    </tr>\n",
       "    <tr>\n",
       "      <th>11346</th>\n",
       "      <td>Diodia</td>\n",
       "      <td>Sandra Cortés</td>\n",
       "      <td>Cortés-S., S.P.</td>\n",
       "      <td>1967(1)</td>\n",
       "      <td>1998.0</td>\n",
       "      <td>NaN</td>\n",
       "      <td>NaN</td>\n",
       "      <td>NaN</td>\n",
       "      <td>NaN</td>\n",
       "      <td>NaN</td>\n",
       "      <td>NaN</td>\n",
       "      <td>NaN</td>\n",
       "      <td>Cortés-Sánchez, S. P., Hammen, T. van der, &amp; R...</td>\n",
       "      <td>32278.0</td>\n",
       "      <td>1967</td>\n",
       "      <td>1</td>\n",
       "      <td>NaN</td>\n",
       "      <td>NaN</td>\n",
       "    </tr>\n",
       "    <tr>\n",
       "      <th>11363</th>\n",
       "      <td>Faramea</td>\n",
       "      <td>Sandra Cortés</td>\n",
       "      <td>Cortés-S., S.P.</td>\n",
       "      <td>997(1)</td>\n",
       "      <td>1998.0</td>\n",
       "      <td>NaN</td>\n",
       "      <td>NaN</td>\n",
       "      <td>NaN</td>\n",
       "      <td>NaN</td>\n",
       "      <td>NaN</td>\n",
       "      <td>NaN</td>\n",
       "      <td>NaN</td>\n",
       "      <td>Cortés-Sánchez, S. P., Hammen, T. van der, &amp; R...</td>\n",
       "      <td>32279.0</td>\n",
       "      <td>997</td>\n",
       "      <td>1</td>\n",
       "      <td>NaN</td>\n",
       "      <td>NaN</td>\n",
       "    </tr>\n",
       "    <tr>\n",
       "      <th>24290</th>\n",
       "      <td>Lemna minuta Kunth</td>\n",
       "      <td>Landolt, E.; Poveda, F. E.; Lämmler, W.</td>\n",
       "      <td>Landolt, E.</td>\n",
       "      <td>82/95</td>\n",
       "      <td>1995.0</td>\n",
       "      <td>1.0</td>\n",
       "      <td>25.0</td>\n",
       "      <td>NaN</td>\n",
       "      <td>NaN</td>\n",
       "      <td>NaN</td>\n",
       "      <td>NaN</td>\n",
       "      <td>Coordenada georreferenciada. Datum: WGS84; Pre...</td>\n",
       "      <td>NaN</td>\n",
       "      <td>14333.0</td>\n",
       "      <td>82</td>\n",
       "      <td>95</td>\n",
       "      <td>NaN</td>\n",
       "      <td>NaN</td>\n",
       "    </tr>\n",
       "    <tr>\n",
       "      <th>24291</th>\n",
       "      <td>Spirodela intermedia W.Koch</td>\n",
       "      <td>Landolt</td>\n",
       "      <td>Landolt, E.</td>\n",
       "      <td>71/95</td>\n",
       "      <td>1995.0</td>\n",
       "      <td>1.0</td>\n",
       "      <td>17.0</td>\n",
       "      <td>NaN</td>\n",
       "      <td>NaN</td>\n",
       "      <td>NaN</td>\n",
       "      <td>NaN</td>\n",
       "      <td>NaN</td>\n",
       "      <td>Landolt, E., &amp; Schmidt-Mumm, U. (2009). Lemnac...</td>\n",
       "      <td>4756.0</td>\n",
       "      <td>71</td>\n",
       "      <td>95</td>\n",
       "      <td>NaN</td>\n",
       "      <td>NaN</td>\n",
       "    </tr>\n",
       "    <tr>\n",
       "      <th>...</th>\n",
       "      <td>...</td>\n",
       "      <td>...</td>\n",
       "      <td>...</td>\n",
       "      <td>...</td>\n",
       "      <td>...</td>\n",
       "      <td>...</td>\n",
       "      <td>...</td>\n",
       "      <td>...</td>\n",
       "      <td>...</td>\n",
       "      <td>...</td>\n",
       "      <td>...</td>\n",
       "      <td>...</td>\n",
       "      <td>...</td>\n",
       "      <td>...</td>\n",
       "      <td>...</td>\n",
       "      <td>...</td>\n",
       "      <td>...</td>\n",
       "      <td>...</td>\n",
       "    </tr>\n",
       "    <tr>\n",
       "      <th>39114</th>\n",
       "      <td>Symbolanthus anomalus (Kunth) Gilg</td>\n",
       "      <td>Triana, J.</td>\n",
       "      <td>Triana, J.J.</td>\n",
       "      <td>3550/2</td>\n",
       "      <td>1855.0</td>\n",
       "      <td>8.0</td>\n",
       "      <td>NaN</td>\n",
       "      <td>NaN</td>\n",
       "      <td>NaN</td>\n",
       "      <td>NaN</td>\n",
       "      <td>NaN</td>\n",
       "      <td>NaN</td>\n",
       "      <td>NaN</td>\n",
       "      <td>11386.0</td>\n",
       "      <td>3550</td>\n",
       "      <td>2</td>\n",
       "      <td>NaN</td>\n",
       "      <td>NaN</td>\n",
       "    </tr>\n",
       "    <tr>\n",
       "      <th>39121</th>\n",
       "      <td>Tibouchina grossa (L.f.) Cogn.</td>\n",
       "      <td>Triana, J. J.</td>\n",
       "      <td>Triana, J.J.</td>\n",
       "      <td>6210/6</td>\n",
       "      <td>1856.0</td>\n",
       "      <td>3.0</td>\n",
       "      <td>NaN</td>\n",
       "      <td>NaN</td>\n",
       "      <td>NaN</td>\n",
       "      <td>NaN</td>\n",
       "      <td>NaN</td>\n",
       "      <td>NaN</td>\n",
       "      <td>NaN</td>\n",
       "      <td>16802.0</td>\n",
       "      <td>6210</td>\n",
       "      <td>6</td>\n",
       "      <td>NaN</td>\n",
       "      <td>NaN</td>\n",
       "    </tr>\n",
       "    <tr>\n",
       "      <th>39125</th>\n",
       "      <td>Tripogandra multiflora (Sw.) Raf.</td>\n",
       "      <td>Triana, J.</td>\n",
       "      <td>Triana, J.J.</td>\n",
       "      <td>1031-3</td>\n",
       "      <td>1853.0</td>\n",
       "      <td>7.0</td>\n",
       "      <td>NaN</td>\n",
       "      <td>NaN</td>\n",
       "      <td>NaN</td>\n",
       "      <td>NaN</td>\n",
       "      <td>NaN</td>\n",
       "      <td>NaN</td>\n",
       "      <td>NaN</td>\n",
       "      <td>10653.0</td>\n",
       "      <td>1031</td>\n",
       "      <td>3</td>\n",
       "      <td>NaN</td>\n",
       "      <td>NaN</td>\n",
       "    </tr>\n",
       "    <tr>\n",
       "      <th>39139</th>\n",
       "      <td>Viola veronicifolia Planch. &amp; Linden</td>\n",
       "      <td>Triana, J.</td>\n",
       "      <td>Triana, J.J.</td>\n",
       "      <td>5040/4</td>\n",
       "      <td>1856.0</td>\n",
       "      <td>5.0</td>\n",
       "      <td>NaN</td>\n",
       "      <td>NaN</td>\n",
       "      <td>NaN</td>\n",
       "      <td>NaN</td>\n",
       "      <td>NaN</td>\n",
       "      <td>Ejemplar Isotype</td>\n",
       "      <td>NaN</td>\n",
       "      <td>10725.0</td>\n",
       "      <td>5040</td>\n",
       "      <td>4</td>\n",
       "      <td>NaN</td>\n",
       "      <td>NaN</td>\n",
       "    </tr>\n",
       "    <tr>\n",
       "      <th>41671</th>\n",
       "      <td>Monochaetum myrtoideum Naudin</td>\n",
       "      <td>Wood, J. R. I.</td>\n",
       "      <td>Wood, J.R.I.</td>\n",
       "      <td>3x78</td>\n",
       "      <td>1983.0</td>\n",
       "      <td>NaN</td>\n",
       "      <td>NaN</td>\n",
       "      <td>NaN</td>\n",
       "      <td>NaN</td>\n",
       "      <td>NaN</td>\n",
       "      <td>NaN</td>\n",
       "      <td>NaN</td>\n",
       "      <td>NaN</td>\n",
       "      <td>14182.0</td>\n",
       "      <td>3</td>\n",
       "      <td>78</td>\n",
       "      <td>NaN</td>\n",
       "      <td>NaN</td>\n",
       "    </tr>\n",
       "  </tbody>\n",
       "</table>\n",
       "<p>93 rows × 18 columns</p>\n",
       "</div>"
      ],
      "text/plain": [
       "                                         name  \\\n",
       "5937   Pombalia parviflora (L.f.) Paula-Souza   \n",
       "11346                                  Diodia   \n",
       "11363                                 Faramea   \n",
       "24290                      Lemna minuta Kunth   \n",
       "24291             Spirodela intermedia W.Koch   \n",
       "...                                       ...   \n",
       "39114      Symbolanthus anomalus (Kunth) Gilg   \n",
       "39121          Tibouchina grossa (L.f.) Cogn.   \n",
       "39125       Tripogandra multiflora (Sw.) Raf.   \n",
       "39139    Viola veronicifolia Planch. & Linden   \n",
       "41671           Monochaetum myrtoideum Naudin   \n",
       "\n",
       "                                        colpri             colde  \\\n",
       "5937                                   Barkley  Barkley-W., F.A.   \n",
       "11346                            Sandra Cortés   Cortés-S., S.P.   \n",
       "11363                            Sandra Cortés   Cortés-S., S.P.   \n",
       "24290  Landolt, E.; Poveda, F. E.; Lämmler, W.       Landolt, E.   \n",
       "24291                                  Landolt       Landolt, E.   \n",
       "...                                        ...               ...   \n",
       "39114                               Triana, J.      Triana, J.J.   \n",
       "39121                            Triana, J. J.      Triana, J.J.   \n",
       "39125                               Triana, J.      Triana, J.J.   \n",
       "39139                               Triana, J.      Triana, J.J.   \n",
       "41671                           Wood, J. R. I.      Wood, J.R.I.   \n",
       "\n",
       "      CollectionNumberVerbatim    year  month   day notas feno usos comname  \\\n",
       "5937                     17C11  1947.0   10.0  27.0   NaN  NaN  NaN     NaN   \n",
       "11346                  1967(1)  1998.0    NaN   NaN   NaN  NaN  NaN     NaN   \n",
       "11363                   997(1)  1998.0    NaN   NaN   NaN  NaN  NaN     NaN   \n",
       "24290                    82/95  1995.0    1.0  25.0   NaN  NaN  NaN     NaN   \n",
       "24291                    71/95  1995.0    1.0  17.0   NaN  NaN  NaN     NaN   \n",
       "...                        ...     ...    ...   ...   ...  ...  ...     ...   \n",
       "39114                   3550/2  1855.0    8.0   NaN   NaN  NaN  NaN     NaN   \n",
       "39121                   6210/6  1856.0    3.0   NaN   NaN  NaN  NaN     NaN   \n",
       "39125                   1031-3  1853.0    7.0   NaN   NaN  NaN  NaN     NaN   \n",
       "39139                   5040/4  1856.0    5.0   NaN   NaN  NaN  NaN     NaN   \n",
       "41671                     3x78  1983.0    NaN   NaN   NaN  NaN  NaN     NaN   \n",
       "\n",
       "                                                    comm  \\\n",
       "5937                                                 NaN   \n",
       "11346                                                NaN   \n",
       "11363                                                NaN   \n",
       "24290  Coordenada georreferenciada. Datum: WGS84; Pre...   \n",
       "24291                                                NaN   \n",
       "...                                                  ...   \n",
       "39114                                                NaN   \n",
       "39121                                                NaN   \n",
       "39125                                                NaN   \n",
       "39139                                   Ejemplar Isotype   \n",
       "41671                                                NaN   \n",
       "\n",
       "                                                     ref     dbid     0   1  \\\n",
       "5937   Smith, L. B., & Fernández-Pérez, Á. (1954). Re...  28133.0    17  11   \n",
       "11346  Cortés-Sánchez, S. P., Hammen, T. van der, & R...  32278.0  1967   1   \n",
       "11363  Cortés-Sánchez, S. P., Hammen, T. van der, & R...  32279.0   997   1   \n",
       "24290                                                NaN  14333.0    82  95   \n",
       "24291  Landolt, E., & Schmidt-Mumm, U. (2009). Lemnac...   4756.0    71  95   \n",
       "...                                                  ...      ...   ...  ..   \n",
       "39114                                                NaN  11386.0  3550   2   \n",
       "39121                                                NaN  16802.0  6210   6   \n",
       "39125                                                NaN  10653.0  1031   3   \n",
       "39139                                                NaN  10725.0  5040   4   \n",
       "41671                                                NaN  14182.0     3  78   \n",
       "\n",
       "         2  CollectionNumber  \n",
       "5937   NaN               NaN  \n",
       "11346  NaN               NaN  \n",
       "11363  NaN               NaN  \n",
       "24290  NaN               NaN  \n",
       "24291  NaN               NaN  \n",
       "...    ...               ...  \n",
       "39114  NaN               NaN  \n",
       "39121  NaN               NaN  \n",
       "39125  NaN               NaN  \n",
       "39139  NaN               NaN  \n",
       "41671  NaN               NaN  \n",
       "\n",
       "[93 rows x 18 columns]"
      ]
     },
     "execution_count": 173,
     "metadata": {},
     "output_type": "execute_result"
    }
   ],
   "source": [
    "ori.loc[ori.CollectionNumberVerbatim.notna() & ori[1].notna()\n",
    "\t& ori.CollectionNumberVerbatim.str.contains(r'\\d+[^\\d]+\\d{1,2}([^\\d]+$|$)')]"
   ]
  },
  {
   "cell_type": "code",
   "execution_count": 174,
   "id": "66036160",
   "metadata": {},
   "outputs": [
    {
     "name": "stderr",
     "output_type": "stream",
     "text": [
      "/var/folders/r9/h_r0bsyx5cs48jl3mmb_0gyh0000gn/T/ipykernel_7582/3823130634.py:6: UserWarning: This pattern is interpreted as a regular expression, and has match groups. To actually get the groups, use str.extract.\n",
      "  & ori.CollectionNumberVerbatim.str.contains(r'\\d+[^\\d]+\\d{1,2}([^\\d]+$|$)'),\n",
      "/var/folders/r9/h_r0bsyx5cs48jl3mmb_0gyh0000gn/T/ipykernel_7582/3823130634.py:3: UserWarning: This pattern is interpreted as a regular expression, and has match groups. To actually get the groups, use str.extract.\n",
      "  & ori.CollectionNumberVerbatim.str.contains(r'\\d+[^\\d]+\\d{1,2}([^\\d]+$|$)'),\n"
     ]
    }
   ],
   "source": [
    "# Sorting number before spliting token\n",
    "ori.loc[ori.CollectionNumberVerbatim.notna() & ori[1].notna()\n",
    "\t& ori.CollectionNumberVerbatim.str.contains(r'\\d+[^\\d]+\\d{1,2}([^\\d]+$|$)'),\n",
    "\t'CollectionNumber'] = \\\n",
    "\tori.loc[ori.CollectionNumberVerbatim.notna() & ori[1].notna()\n",
    "\t\t& ori.CollectionNumberVerbatim.str.contains(r'\\d+[^\\d]+\\d{1,2}([^\\d]+$|$)'), \n",
    "\t\t0].astype(np.int64)"
   ]
  },
  {
   "cell_type": "code",
   "execution_count": 175,
   "id": "e2c9905b",
   "metadata": {},
   "outputs": [],
   "source": [
    "# Sorting number after spliting token\n",
    "ori.loc[ori.CollectionNumberVerbatim.notna() & ori[1].notna()\n",
    "\t& ori.CollectionNumberVerbatim.str.contains(r'[^\\d]\\d{3,}'),\n",
    "\t'CollectionNumber'] = \\\n",
    "\tori.loc[ori.CollectionNumberVerbatim.notna() & ori[1].notna()\n",
    "\t\t& ori.CollectionNumberVerbatim.str.contains(r'[^\\d]\\d{3,}'), \n",
    "\t\t1].astype(np.int64)"
   ]
  },
  {
   "cell_type": "code",
   "execution_count": 176,
   "id": "5c726a5b",
   "metadata": {},
   "outputs": [
    {
     "name": "stderr",
     "output_type": "stream",
     "text": [
      "/var/folders/r9/h_r0bsyx5cs48jl3mmb_0gyh0000gn/T/ipykernel_7582/3243155071.py:6: UserWarning: This pattern is interpreted as a regular expression, and has match groups. To actually get the groups, use str.extract.\n",
      "  ori.CollectionNumberVerbatim.str.contains(r'(^[^\\d]+\\d+$|^\\d+[^\\d]+$)'),\n",
      "/var/folders/r9/h_r0bsyx5cs48jl3mmb_0gyh0000gn/T/ipykernel_7582/3243155071.py:3: UserWarning: This pattern is interpreted as a regular expression, and has match groups. To actually get the groups, use str.extract.\n",
      "  ori.CollectionNumberVerbatim.str.contains(r'(^[^\\d]+\\d+$|^\\d+[^\\d]+$)'),\n"
     ]
    }
   ],
   "source": [
    "# Remove non-digits from collections numbers\n",
    "ori.loc[ori.CollectionNumber.isna() & \n",
    "\tori.CollectionNumberVerbatim.str.contains(r'(^[^\\d]+\\d+$|^\\d+[^\\d]+$)'), \n",
    "\t'CollectionNumber'\n",
    "\t] = ori.loc[ori.CollectionNumber.isna() & \n",
    "\tori.CollectionNumberVerbatim.str.contains(r'(^[^\\d]+\\d+$|^\\d+[^\\d]+$)'), \n",
    "\t'CollectionNumberVerbatim'\n",
    "\t].str.replace(r'[^\\d]+', '', regex=True).astype(np.int64)"
   ]
  },
  {
   "cell_type": "code",
   "execution_count": 177,
   "id": "762ad884",
   "metadata": {},
   "outputs": [],
   "source": [
    "# Remove non-digits from collections numbers (again)\n",
    "ori.loc[ori.CollectionNumber.isna() & \n",
    "\tori.CollectionNumberVerbatim.str.contains(r'[^\\d]'), \n",
    "\t'CollectionNumber'] = ori.loc[ori.CollectionNumber.isna() & \n",
    "\tori.CollectionNumberVerbatim.str.contains(r'[^\\d]'), \n",
    "\t'CollectionNumberVerbatim'].str.replace(r'[^\\d]', '', regex=True\n",
    "\t).astype(np.int64)"
   ]
  },
  {
   "cell_type": "code",
   "execution_count": 178,
   "id": "221750db",
   "metadata": {},
   "outputs": [],
   "source": [
    "# Sorting number is verbatim number\n",
    "\n",
    "ori.loc[ori.CollectionNumber.isna() & ori.CollectionNumberVerbatim.notna(), 'CollectionNumber'] = ori.loc[ori.CollectionNumber.isna() & ori.CollectionNumberVerbatim.notna(), 'CollectionNumberVerbatim'].astype(np.int64)"
   ]
  },
  {
   "cell_type": "markdown",
   "id": "4e17d136",
   "metadata": {},
   "source": [
    "-------"
   ]
  },
  {
   "cell_type": "code",
   "execution_count": null,
   "id": "50ffb7d3",
   "metadata": {},
   "outputs": [],
   "source": [
    "# Multispecies hybrids\n",
    "\n",
    "taxa_map.loc[taxa_map.Name_submitted.str.contains('×') & \n",
    "\ttaxa_map.Name_matched.notna() & \n",
    "\t~taxa_map.Name_matched.str.contains(r'×',na=False)]"
   ]
  },
  {
   "cell_type": "markdown",
   "id": "6c43f390",
   "metadata": {},
   "source": [
    "-------"
   ]
  },
  {
   "cell_type": "code",
   "execution_count": null,
   "id": "e8e3ddef",
   "metadata": {},
   "outputs": [],
   "source": [
    "df = pd.read_sql(sql='SELECT * FROM Taxa', con=connection)"
   ]
  },
  {
   "cell_type": "code",
   "execution_count": null,
   "id": "f5893308",
   "metadata": {},
   "outputs": [],
   "source": [
    "df"
   ]
  },
  {
   "cell_type": "code",
   "execution_count": null,
   "id": "f5e69375",
   "metadata": {},
   "outputs": [],
   "source": [
    "#connection.execute(text('SET FOREIGN_KEY_CHECKS = 1'))"
   ]
  },
  {
   "cell_type": "code",
   "execution_count": null,
   "id": "18445158",
   "metadata": {},
   "outputs": [],
   "source": [
    "connection.close()"
   ]
  }
 ],
 "metadata": {
  "kernelspec": {
   "display_name": "base",
   "language": "python",
   "name": "python3"
  },
  "language_info": {
   "codemirror_mode": {
    "name": "ipython",
    "version": 3
   },
   "file_extension": ".py",
   "mimetype": "text/x-python",
   "name": "python",
   "nbconvert_exporter": "python",
   "pygments_lexer": "ipython3",
   "version": "3.8.18"
  }
 },
 "nbformat": 4,
 "nbformat_minor": 5
}
